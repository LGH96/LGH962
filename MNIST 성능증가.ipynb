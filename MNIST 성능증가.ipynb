{
 "cells": [
  {
   "cell_type": "code",
   "execution_count": 1,
   "metadata": {},
   "outputs": [],
   "source": [
    "import numpy as np\n",
    "import pandas as pd\n",
    "from IPython.core.interactiveshell import InteractiveShell\n",
    "InteractiveShell.ast_node_interactivity= 'all'\n",
    "import matplotlib.pyplot as plt\n",
    "%matplotlib inline\n",
    "import statsmodels.api as sm\n",
    "from statsmodels.stats.outliers_influence import variance_inflation_factor\n",
    "import statsmodels.formula.api as smf\n",
    "import math\n",
    "import matplotlib as mpl\n",
    "import seaborn as sn\n",
    "sn.set()\n",
    "import matplotlib.font_manager as fm\n",
    "fl = fm.FontProperties(fname =\"C:\\Windows\\Fonts\\malgun.ttf\").get_name()\n",
    "plt.rc('font',family=fl)\n",
    "from scipy import stats\n",
    "from sklearn.model_selection import train_test_split, GridSearchCV, cross_val_score"
   ]
  },
  {
   "cell_type": "code",
   "execution_count": 4,
   "metadata": {},
   "outputs": [],
   "source": [
    "from functions import *\n",
    "class Relu:\n",
    "    def __init__(self):\n",
    "        self.mask = None\n",
    "    # 순전파\n",
    "    def forward(self, x):\n",
    "        self.mask=(x<=0) #참거짓을 가진다는 의미\n",
    "        out = x.copy()\n",
    "        out[self.mask] = 0        \n",
    "        return out\n",
    "    def backward(self, dout): # dout은 흘러들어온 미분값\n",
    "        dout[self.mask] = 0\n",
    "        dx= dout        \n",
    "        return dx  \n",
    "    \n",
    "class Sigmoid:\n",
    "    def __init__(self):\n",
    "        self.out = None        \n",
    "    def forward(self, x):\n",
    "        out = sigmoid(x)\n",
    "        self.out = out\n",
    "        return out   \n",
    "    def backward(self, dout):\n",
    "        dx = dout*(1 - self.out)*self.out # 나갔던 값\n",
    "        return dx  \n",
    "    \n",
    "class Affine:\n",
    "    def __init__(self, W, b):\n",
    "        self.W = W\n",
    "        self.b = b        \n",
    "        self.x = None\n",
    "        self.original_x_shape = None        \n",
    "        self.dw = None\n",
    "        self.db = None        \n",
    "    def forward(self,x):\n",
    "        self.original_x_shape = x.shape\n",
    "        x = x.reshape(x.shape[0],-1) # 전체의 feature를 보고 그걸 reshape으로 변경\n",
    "        self.x = x\n",
    "        out = np.dot(self.x, self.W+self.b)\n",
    "    def backward(self, dout):\n",
    "        dx = np.dot(dout, self.W.T)\n",
    "        self.dW = np.dot(self.x.T, dout)\n",
    "        self.db = np.sum(dout, axis = 0)        \n",
    "        dx = dx.reshape(*self.original_x_shape) # 입력 데이터 모양 변경       \n",
    "        return dx\n",
    "    \n",
    "class SoftmaxWithLoss:\n",
    "    def __init__(self):\n",
    "        self.loss=None\n",
    "        self.y =None\n",
    "        self.t = None       \n",
    "    def forward(self, x, t):\n",
    "        self.t = t\n",
    "        self.y =softmax(x)\n",
    "        self.loss = cross_entropy_error(self.y, self.t) # loss function      \n",
    "        return self.loss  \n",
    "    def backward(self, dout =1 ):\n",
    "        batch_szie = self.t.shape[0]       \n",
    "        if self.t.size == self.y.size:  ## 정답 레이블이 원-핫 인코딩 형태일 때\n",
    "            dx = (self.y - self.t)/batch_size            \n",
    "        else:\n",
    "            dx = self.y.copy()\n",
    "            dx[np.arrange(batch_size), self.t] -= 1\n",
    "            dx = dx/batch_size\n",
    "            \n",
    "class Dropout:\n",
    "    def __init__(self, dropout_ratio = 0.2):\n",
    "        self.dropout_ratio = dropout_ratio\n",
    "        self.mask = None\n",
    "    def forward(self, x, train_flg = True):\n",
    "        if train_flg:\n",
    "            self.mask = np.random.rand(*x.shape) > self.dropout_ratio\n",
    "            return x * self.mask\n",
    "        else:\n",
    "            return x * (1.0 - self.dropout_ratio)\n",
    "    def backward(self, dout):\n",
    "        return dout* self.mask\n",
    "    \n",
    "class SGD:\n",
    "    def __init__(self, lr=0.01):\n",
    "        self.lr =lr\n",
    "    def update(self,params,grads):\n",
    "        for key in params.keys():\n",
    "            params[key] -= self.lr*grads[key]\n",
    "            \n",
    "class Momentum:\n",
    "    def __init__(self, lr=0.01, momentum=0.9):\n",
    "        self.lr = lr\n",
    "        self.momentum = momentum\n",
    "        self.v = None\n",
    "    def update(self, params, grads):\n",
    "        if self.v is None:\n",
    "            self.v = {}\n",
    "            for key, val in params.items():                                \n",
    "                self.v[key] = np.zeros_like(val)\n",
    "        for key in params.keys():\n",
    "            self.v[key] = self.momentum*self.v[key] - self.lr*grads[key] \n",
    "            params[key] += self.v[key]\n",
    "class AdaGrad:\n",
    "    def __init__(self, lr=0.01):\n",
    "        self.lr = lr\n",
    "        self.h = None\n",
    "    def update(self, params, grads):\n",
    "        if self.h is None:\n",
    "            self.h = {}\n",
    "            for key, val in params.items():\n",
    "                self.h[key] = np.zeros_like(val)\n",
    "        for key in params.keys():\n",
    "            self.h[key] += grads[key] * grads[key]\n",
    "            params[key] -= self.lr * grads[key] / (np.sqrt(self.h[key]) + 1e-7)    \n",
    "            \n",
    "class Adam:\n",
    "    def __init__(self, lr=0.001, beta1=0.9, beta2 = 0.999):\n",
    "        self.lr = lr\n",
    "        self.beta1 = beta1\n",
    "        self.beta2 = beta2 \n",
    "        self.iter = 0\n",
    "        self.m = None\n",
    "        self.v = None\n",
    "    def update(self, params, grads):\n",
    "        if self.m is None:\n",
    "            self.m, self.v = {}, {}\n",
    "            for key, val in params.items():\n",
    "                self.m[key] = np.zeros_like(val)\n",
    "                self.v[key] = np.zeros_like(val)\n",
    "        self.iter += 1\n",
    "        lr_t = self.lr * np.sqrt(1.0 - self.beta2**self.iter) / (1.0 - self.beta1**self.iter)\n",
    "        for key in params.key():\n",
    "            self.m[key] += (1-self.beta1) * (grads[key] - self.m[key])\n",
    "            self.v[key] += (1-self.beta2) * (grads[key]**2 - self.v[key])\n",
    "            params[key] -= lr_t * self.m[key] / (np.sqrt(self.v[key]) + 1e-7)\n",
    "            \n",
    "class RMSprop:\n",
    "    def __init__(self, lr = 0.1, decay_rate = 0.99):\n",
    "        self.lr = lr\n",
    "        self.decay_rate = decay_rate\n",
    "        \n",
    "    def update(self, params, grads):\n",
    "        if self.h is None:\n",
    "            self.h = {}\n",
    "        for key, val in params.items():\n",
    "            self.h[key] = np.zeros_like(val)\n",
    "            \n",
    "        for key in params.keys():\n",
    "            self.h[key] *= self.decay_rate\n",
    "            self.h[key] += ( 1 - self.decay_rate) * grads[key] * grads[key]\n",
    "            params[key] -= self.lr * grads[key] / (np.sqrt(self.h[key]) + 1e-7)\n",
    "            \n",
    "class BatchNormalization:\n",
    "    def __init__(self, gamma, beta, momentum=0.9, running_mean=None, running_var=None):\n",
    "        self.gamma = gamma\n",
    "        self.beta = beta\n",
    "        self.momentum = momentum\n",
    "        self.input_shape = None  \n",
    "        self.running_mean = running_mean\n",
    "        self.running_var = running_var  \n",
    "        self.batch_size = None\n",
    "        self.xc = None\n",
    "        self.std = None\n",
    "        self.dgamma = None\n",
    "        self.dbeta = None   \n",
    "    def forward(self, x, train_flg=True):\n",
    "        self.input_shape = x.shape\n",
    "        if x.ndim != 2:\n",
    "            N, C, H, W = x.shape\n",
    "            x = x.reshape(N, -1)\n",
    "        out = self.__forward(x, train_flg)        \n",
    "        return out.reshape(*self.input_shape)       \n",
    "    def __forward(self, x, train_flg):\n",
    "        if self.running_mean is None:\n",
    "            N, D = x.shape\n",
    "            self.running_mean = np.zeros(D)\n",
    "            self.running_var = np.zeros(D)                       \n",
    "        if train_flg:\n",
    "            mu = x.mean(axis=0)\n",
    "            xc = x - mu\n",
    "            var = np.mean(xc**2, axis=0)\n",
    "            std = np.sqrt(var + 10e-7)\n",
    "            xn = xc / std            \n",
    "            self.batch_size = x.shape[0]\n",
    "            self.xc = xc\n",
    "            self.xn = xn\n",
    "            self.std = std\n",
    "            self.running_mean = self.momentum * self.running_mean + (1-self.momentum) * mu\n",
    "            self.running_var = self.momentum * self.running_var + (1-self.momentum) * var            \n",
    "        else:\n",
    "            xc = x - self.running_mean\n",
    "            xn = xc / ((np.sqrt(self.running_var + 10e-7)))            \n",
    "        out = self.gamma * xn + self.beta \n",
    "        return out\n",
    "    def backward(self, dout):\n",
    "        if dout.ndim != 2:\n",
    "            N, C, H, W = dout.shape\n",
    "            dout = dout.reshape(N, -1)\n",
    "        dx = self.__backward(dout)\n",
    "        dx = dx.reshape(*self.input_shape)\n",
    "        return dx\n",
    "    def __backward(self, dout):\n",
    "        dbeta = dout.sum(axis=0)\n",
    "        dgamma = np.sum(self.xn * dout, axis=0)\n",
    "        dxn = self.gamma * dout\n",
    "        dxc = dxn / self.std\n",
    "        dstd = -np.sum((dxn * self.xc) / (self.std * self.std), axis=0)\n",
    "        dvar = 0.5 * dstd / self.std\n",
    "        dxc += (2.0 / self.batch_size) * self.xc * dvar\n",
    "        dmu = np.sum(dxc, axis=0)\n",
    "        dx = dxc - dmu / self.batch_size\n",
    "        self.dgamma = dgamma\n",
    "        self.dbeta = dbeta\n",
    "        return dx"
   ]
  },
  {
   "cell_type": "markdown",
   "metadata": {},
   "source": [
    "# 1. 3층 Hidden_Layer 오차역전파를 이용한 MNIST 계산"
   ]
  },
  {
   "cell_type": "code",
   "execution_count": 81,
   "metadata": {},
   "outputs": [],
   "source": [
    "from layers import *\n",
    "from gradient import numerical_gradient\n",
    "from collections import OrderedDict \n",
    "class ThreeLayerNet:    \n",
    "    def __init__(self, input_size, hidden_size1, hidden_size2, hidden_size3, output_size, weight_init_std = 0.01):\n",
    "        self.params = {}\n",
    "        self.params['W1']=weight_init_std * np.random.randn(input_size, hidden_size1)\n",
    "        self.params['b1']=np.zeros(hidden_size1)\n",
    "        self.params['W2']=weight_init_std * np.random.randn(hidden_size1, hidden_size2)\n",
    "        self.params['b2']=np.zeros(hidden_size2)\n",
    "        self.params['W3']=weight_init_std * np.random.randn(hidden_size2, hidden_size3)\n",
    "        self.params['b3']=np.zeros(hidden_size3)\n",
    "        self.params['W4']=weight_init_std * np.random.randn(hidden_size3, output_size)\n",
    "        self.params['b4']=np.zeros(output_size)\n",
    "        \n",
    "        self.layers = OrderedDict()\n",
    "        self.layers['Affine1']=Affine(self.params['W1'],self.params['b1'])\n",
    "        self.layers['Relu']=Relu() \n",
    "        self.layers['Affine2']=Affine(self.params['W2'],self.params['b2'])\n",
    "        self.layers['Relu']=Relu()\n",
    "        self.layers['Affine3']=Affine(self.params['W3'],self.params['b3'])\n",
    "        self.layers['Relu']=Relu()\n",
    "        self.layers['Affine4']=Affine(self.params['W4'],self.params['b4'])\n",
    "        \n",
    "        self.lastlayer = SoftmaxWithLoss()        \n",
    "    def predict(self,x):\n",
    "        for layer in self.layers.values():\n",
    "            x = layer.forward(x)           \n",
    "        return x    \n",
    "    def loss(self, x, t):\n",
    "        y = self.predict(x)\n",
    "        return self.lastlayer.forward(y,t)    \n",
    "    def accuracy(self,x,t):\n",
    "        y = self.predict(x)\n",
    "        y = np.argmax(y, axis = 1) # y값 중에서 가장큰 값의 위치\n",
    "        if t.ndim != 1 : t=np.argmax(t,axis =1)           \n",
    "        accuracy = np.sum(y == t)/float(x.shape[0])\n",
    "        return accuracy\n",
    "    def numerical_gradient(self, x, t):\n",
    "        loss_W = lambda W : self.loss(x,t)\n",
    "        grads = {}\n",
    "        grads['W1'] = numerical_gradient(loss_W, self.params['W1'])\n",
    "        grads['b1'] = numerical_gradient(loss_W, self.params['b1'])\n",
    "        grads['W2'] = numerical_gradient(loss_W, self.params['W2'])\n",
    "        grads['b2'] = numerical_gradient(loss_W, self.params['b2'])\n",
    "        grads['W3'] = numerical_gradient(loss_W, self.params['W3'])\n",
    "        grads['b3'] = numerical_gradient(loss_W, self.params['b3'])\n",
    "        grads['W4'] = numerical_gradient(loss_W, self.params['W4'])\n",
    "        grads['b4'] = numerical_gradient(loss_W, self.params['b4'])\n",
    "        return grads\n",
    "    def gradient(self, x, t):\n",
    "        self.loss(x,t)\n",
    "        dout = 1\n",
    "        dout = self.lastlayer.backward(dout)            \n",
    "        layers = list(self.layers.values())\n",
    "        layers.reverse()\n",
    "        for layer in layers:\n",
    "            dout = layer.backward(dout)        \n",
    "        grads = {}\n",
    "        grads['W1'], grads['b1'] = self.layers['Affine1'].dW, self.layers['Affine1'].db\n",
    "        grads['W2'], grads['b2'] = self.layers['Affine2'].dW, self.layers['Affine2'].db\n",
    "        grads['W3'], grads['b3'] = self.layers['Affine3'].dW, self.layers['Affine3'].db     \n",
    "        grads['W4'], grads['b4'] = self.layers['Affine4'].dW, self.layers['Affine4'].db  \n",
    "        return grads"
   ]
  },
  {
   "cell_type": "code",
   "execution_count": 82,
   "metadata": {},
   "outputs": [
    {
     "name": "stdout",
     "output_type": "stream",
     "text": [
      "train : 0.099 // test : 0.096\n",
      "train : 0.112 // test : 0.114\n",
      "train : 0.285 // test : 0.28\n",
      "train : 0.851 // test : 0.851\n",
      "train : 0.937 // test : 0.933\n",
      "train : 0.942 // test : 0.934\n",
      "train : 0.957 // test : 0.947\n",
      "train : 0.972 // test : 0.957\n",
      "train : 0.978 // test : 0.962\n",
      "train : 0.981 // test : 0.964\n",
      "train : 0.988 // test : 0.97\n",
      "train : 0.988 // test : 0.968\n",
      "train : 0.991 // test : 0.971\n",
      "train : 0.992 // test : 0.969\n",
      "train : 0.994 // test : 0.971\n",
      "train : 0.993 // test : 0.97\n",
      "train : 0.997 // test : 0.973\n"
     ]
    }
   ],
   "source": [
    "from mnist import load_mnist\n",
    "(x_train, t_train), (x_test, t_test)= load_mnist(normalize =True, one_hot_label = True)\n",
    "\n",
    "network = ThreeLayerNet(input_size = 784, hidden_size1 = 300,hidden_size2 = 100, hidden_size3 = 50, output_size = 10)\n",
    "iters_num = 10000\n",
    "train_size = x_train.shape[0]\n",
    "batch_size = 100\n",
    "learning_rate = 0.1\n",
    "\n",
    "train_loss_list = []\n",
    "train_acc_list = []\n",
    "test_acc_list = []\n",
    "\n",
    "iter_per_epoch = max(train_size / batch_size , 1)\n",
    "plt_x1 = []\n",
    "plt_y1 = []\n",
    "for i in range(iters_num):\n",
    "    batch_mask = np.random.choice(train_size, batch_size)\n",
    "    x_batch = x_train[batch_mask]\n",
    "    t_batch = t_train[batch_mask]\n",
    "\n",
    "    grad = network.gradient(x_batch, t_batch) \n",
    "    \n",
    "    for key in ('W1','b1','W2','b2','W3','b3','W4','b4'):\n",
    "        network.params[key] -= learning_rate*grad[key]\n",
    "        \n",
    "    loss = network.loss(x_batch, t_batch)\n",
    "    train_loss_list.append(loss)\n",
    "    \n",
    "    if i % iter_per_epoch == 0:\n",
    "        train_acc = network.accuracy(x_train, t_train)\n",
    "        test_acc = network.accuracy(x_test, t_test)\n",
    "        train_acc_list.append(train_acc)\n",
    "        test_acc_list.append(test_acc)\n",
    "        plt_x1.append(train_acc)\n",
    "        plt_y1.append(test_acc)\n",
    "        print('train :',round(train_acc,3),'//','test :', round(test_acc,3))"
   ]
  },
  {
   "cell_type": "markdown",
   "metadata": {},
   "source": [
    "# 2. Dropout을 보정해준 MNIST 계산\n",
    "- hidden_layer가 많아 dropout_ratio를 낮게 설정"
   ]
  },
  {
   "cell_type": "code",
   "execution_count": 132,
   "metadata": {},
   "outputs": [],
   "source": [
    "from layers import *\n",
    "from gradient import numerical_gradient\n",
    "from collections import OrderedDict \n",
    "class ThreeLayerNet:  \n",
    "    def __init__(self, input_size, hidden_size1, hidden_size2, hidden_size3, output_size, weight_init_std = 0.01):\n",
    "        self.params = {}\n",
    "        self.params['W1']=weight_init_std * np.random.randn(input_size, hidden_size1)\n",
    "        self.params['b1']=np.zeros(hidden_size1)\n",
    "        self.params['W2']=weight_init_std * np.random.randn(hidden_size1, hidden_size2)\n",
    "        self.params['b2']=np.zeros(hidden_size2)\n",
    "        self.params['W3']=weight_init_std * np.random.randn(hidden_size2, hidden_size3)\n",
    "        self.params['b3']=np.zeros(hidden_size3)\n",
    "        self.params['W4']=weight_init_std * np.random.randn(hidden_size3, output_size)\n",
    "        self.params['b4']=np.zeros(output_size)\n",
    "        \n",
    "        self.layers = OrderedDict()\n",
    "        self.layers['Affine1']=Affine(self.params['W1'],self.params['b1'])\n",
    "        self.layers['Relu']=Relu()\n",
    "        self.layers['dropout1'] = Dropout(dropout_ratio = 0.25)   # dropout 보정\n",
    "        self.layers['Affine2']=Affine(self.params['W2'],self.params['b2'])\n",
    "        self.layers['Relu']=Relu()\n",
    "        self.layers['dropout2'] = Dropout(dropout_ratio = 0.4)   # dropout 보정\n",
    "        self.layers['Affine3']=Affine(self.params['W3'],self.params['b3'])\n",
    "        self.layers['Relu']=Relu() \n",
    "        self.layers['dropout3'] = Dropout(dropout_ratio = 0.3)   # dropout 보정\n",
    "        self.layers['Affine4']=Affine(self.params['W4'],self.params['b4'])\n",
    "        \n",
    "        self.lastlayer = SoftmaxWithLoss()        \n",
    "    def predict(self,x):\n",
    "        for layer in self.layers.values():\n",
    "            x = layer.forward(x)          \n",
    "        return x    \n",
    "    def loss(self, x, t):\n",
    "        y = self.predict(x)\n",
    "        return self.lastlayer.forward(y,t)   \n",
    "    def accuracy(self,x,t):\n",
    "        y = self.predict(x)\n",
    "        y = np.argmax(y, axis = 1)\n",
    "        if t.ndim != 1 : t=np.argmax(t,axis =1)          \n",
    "        accuracy = np.sum(y == t)/float(x.shape[0])\n",
    "        return accuracy\n",
    "        \n",
    "    def numerical_gradient(self, x, t):\n",
    "        loss_W = lambda W : self.loss(x,t)\n",
    "        grads = {}\n",
    "        grads['W1'] = numerical_gradient(loss_W, self.params['W1'])\n",
    "        grads['b1'] = numerical_gradient(loss_W, self.params['b1'])\n",
    "        grads['W2'] = numerical_gradient(loss_W, self.params['W2'])\n",
    "        grads['b2'] = numerical_gradient(loss_W, self.params['b2'])\n",
    "        grads['W3'] = numerical_gradient(loss_W, self.params['W3'])\n",
    "        grads['b3'] = numerical_gradient(loss_W, self.params['b3'])\n",
    "        grads['W4'] = numerical_gradient(loss_W, self.params['W4'])\n",
    "        grads['b4'] = numerical_gradient(loss_W, self.params['b4'])\n",
    "        return grads\n",
    "    def gradient(self, x, t):\n",
    "        self.loss(x,t)\n",
    "        dout = 1\n",
    "        dout = self.lastlayer.backward(dout)            \n",
    "        layers = list(self.layers.values())\n",
    "        layers.reverse()\n",
    "        for layer in layers:\n",
    "            dout = layer.backward(dout)        \n",
    "        grads = {}\n",
    "        grads['W1'], grads['b1'] = self.layers['Affine1'].dW, self.layers['Affine1'].db\n",
    "        grads['W2'], grads['b2'] = self.layers['Affine2'].dW, self.layers['Affine2'].db\n",
    "        grads['W3'], grads['b3'] = self.layers['Affine3'].dW, self.layers['Affine3'].db     \n",
    "        grads['W4'], grads['b4'] = self.layers['Affine4'].dW, self.layers['Affine4'].db  \n",
    "        return grads"
   ]
  },
  {
   "cell_type": "code",
   "execution_count": 133,
   "metadata": {},
   "outputs": [
    {
     "name": "stdout",
     "output_type": "stream",
     "text": [
      "train : 0.099 // test : 0.098\n",
      "train : 0.112 // test : 0.114\n",
      "train : 0.112 // test : 0.114\n",
      "train : 0.112 // test : 0.114\n",
      "train : 0.112 // test : 0.114\n",
      "train : 0.112 // test : 0.114\n",
      "train : 0.209 // test : 0.21\n",
      "train : 0.455 // test : 0.448\n",
      "train : 0.59 // test : 0.587\n",
      "train : 0.845 // test : 0.842\n",
      "train : 0.903 // test : 0.898\n",
      "train : 0.92 // test : 0.917\n",
      "train : 0.932 // test : 0.929\n",
      "train : 0.935 // test : 0.926\n",
      "train : 0.949 // test : 0.942\n",
      "train : 0.954 // test : 0.944\n",
      "train : 0.958 // test : 0.948\n"
     ]
    }
   ],
   "source": [
    "## 학습 및 실행\n",
    "from mnist import load_mnist\n",
    "(x_train, t_train), (x_test, t_test)= load_mnist(normalize =True, one_hot_label = True)\n",
    "\n",
    "network = ThreeLayerNet(input_size = 784, hidden_size1 = 300, hidden_size2 = 100, hidden_size3 = 50, output_size = 10)\n",
    "iters_num = 10000\n",
    "train_size = x_train.shape[0]\n",
    "batch_size = 100\n",
    "learning_rate = 0.1\n",
    "\n",
    "train_loss_list = []\n",
    "train_acc_list = []\n",
    "test_acc_list = []\n",
    "\n",
    "iter_per_epoch = max(train_size / batch_size , 1)\n",
    "plt_x2 = []\n",
    "plt_y2 = []\n",
    "for i in range(iters_num):\n",
    "    batch_mask = np.random.choice(train_size, batch_size)\n",
    "    x_batch = x_train[batch_mask]\n",
    "    t_batch = t_train[batch_mask]\n",
    "    \n",
    "    grad = network.gradient(x_batch, t_batch) \n",
    "    \n",
    "    for key in ('W1','b1','W2','b2','W3','b3','W4','b4'):\n",
    "        network.params[key] -= learning_rate*grad[key]\n",
    "        \n",
    "    loss = network.loss(x_batch, t_batch)\n",
    "    train_loss_list.append(loss)\n",
    "    \n",
    "    if i % iter_per_epoch == 0:\n",
    "        train_acc = network.accuracy(x_train, t_train)\n",
    "        test_acc = network.accuracy(x_test, t_test)\n",
    "        train_acc_list.append(train_acc)\n",
    "        test_acc_list.append(test_acc)\n",
    "        plt_x2.append(train_acc)\n",
    "        plt_y2.append(test_acc)\n",
    "        print('train :',round(train_acc,3),'//','test :', round(test_acc,3))"
   ]
  },
  {
   "cell_type": "markdown",
   "metadata": {},
   "source": [
    "# 3. 가중치 초기화를 보정한 MNIST\n",
    "- Relu이기 때문에 분자가 2"
   ]
  },
  {
   "cell_type": "code",
   "execution_count": 69,
   "metadata": {},
   "outputs": [],
   "source": [
    "from layers import *\n",
    "from gradient import numerical_gradient\n",
    "from collections import OrderedDict \n",
    "class ThreeLayerNet:    \n",
    "    def __init__(self, input_size, hidden_size1,hidden_size2, hidden_size3 , output_size):\n",
    "        all_size_list = [input_size] + [hidden_size1] + [hidden_size2] + [hidden_size3] + [output_size]\n",
    "        idx = 4 # 은닉층 3개\n",
    "        self.params = {}\n",
    "        self.params['W1']=np.sqrt(2.0/all_size_list[0])*np.random.randn(input_size, hidden_size1)\n",
    "        self.params['b1']=np.zeros(hidden_size1)\n",
    "        self.params['W2']=np.sqrt(2.0/all_size_list[1])* np.random.randn(hidden_size1, hidden_size2)\n",
    "        self.params['b2']=np.zeros(hidden_size2)\n",
    "        self.params['W3']=np.sqrt(2.0/all_size_list[2])* np.random.randn(hidden_size2, hidden_size3)\n",
    "        self.params['b3']=np.zeros(hidden_size3)\n",
    "        self.params['W4']=np.sqrt(2.0/all_size_list[3])* np.random.randn(hidden_size3, output_size)\n",
    "        self.params['b4']=np.zeros(output_size)\n",
    "        \n",
    "        self.layers = OrderedDict()\n",
    "        self.layers['Affine1']=Affine(self.params['W1'],self.params['b1'])\n",
    "        self.layers['Relu']=Relu() \n",
    "        self.layers['Affine2']=Affine(self.params['W2'],self.params['b2'])\n",
    "        self.layers['Relu']=Relu()\n",
    "        self.layers['Affine3']=Affine(self.params['W3'],self.params['b3'])\n",
    "        self.layers['Relu']=Relu()\n",
    "        self.layers['Affine4']=Affine(self.params['W4'],self.params['b4'])\n",
    "        \n",
    "        self.lastlayer = SoftmaxWithLoss()        \n",
    "    def predict(self,x):\n",
    "        for layer in self.layers.values():\n",
    "            x = layer.forward(x)           \n",
    "        return x    \n",
    "    def loss(self, x, t):\n",
    "        y = self.predict(x)\n",
    "        return self.lastlayer.forward(y,t)    \n",
    "    def accuracy(self,x,t):\n",
    "        y = self.predict(x)\n",
    "        y = np.argmax(y, axis = 1) # y값 중에서 가장큰 값의 위치\n",
    "        if t.ndim != 1 : t=np.argmax(t,axis =1)           \n",
    "        accuracy = np.sum(y == t)/float(x.shape[0])\n",
    "        return accuracy\n",
    "    def numerical_gradient(self, x, t):\n",
    "        loss_W = lambda W : self.loss(x,t)\n",
    "        grads = {}\n",
    "        grads['W1'] = numerical_gradient(loss_W, self.params['W1'])\n",
    "        grads['b1'] = numerical_gradient(loss_W, self.params['b1'])\n",
    "        grads['W2'] = numerical_gradient(loss_W, self.params['W2'])\n",
    "        grads['b2'] = numerical_gradient(loss_W, self.params['b2'])\n",
    "        grads['W3'] = numerical_gradient(loss_W, self.params['W3'])\n",
    "        grads['b3'] = numerical_gradient(loss_W, self.params['b3'])\n",
    "        grads['W4'] = numerical_gradient(loss_W, self.params['W4'])\n",
    "        grads['b4'] = numerical_gradient(loss_W, self.params['b4'])\n",
    "        return grads\n",
    "    def gradient(self, x, t):\n",
    "        self.loss(x,t)\n",
    "        dout = 1\n",
    "        dout = self.lastlayer.backward(dout)            \n",
    "        layers = list(self.layers.values())\n",
    "        layers.reverse()\n",
    "        for layer in layers:\n",
    "            dout = layer.backward(dout)        \n",
    "        grads = {}\n",
    "        grads['W1'], grads['b1'] = self.layers['Affine1'].dW, self.layers['Affine1'].db\n",
    "        grads['W2'], grads['b2'] = self.layers['Affine2'].dW, self.layers['Affine2'].db\n",
    "        grads['W3'], grads['b3'] = self.layers['Affine3'].dW, self.layers['Affine3'].db\n",
    "        grads['W4'], grads['b4'] = self.layers['Affine4'].dW, self.layers['Affine4'].db\n",
    "        return grads"
   ]
  },
  {
   "cell_type": "code",
   "execution_count": 71,
   "metadata": {},
   "outputs": [
    {
     "name": "stdout",
     "output_type": "stream",
     "text": [
      "train : 0.248 // test : 0.252\n",
      "train : 0.955 // test : 0.952\n",
      "train : 0.972 // test : 0.964\n",
      "train : 0.978 // test : 0.97\n",
      "train : 0.986 // test : 0.976\n",
      "train : 0.99 // test : 0.979\n",
      "train : 0.992 // test : 0.977\n",
      "train : 0.993 // test : 0.977\n",
      "train : 0.994 // test : 0.978\n",
      "train : 0.996 // test : 0.98\n",
      "train : 0.998 // test : 0.979\n",
      "train : 0.998 // test : 0.981\n",
      "train : 0.999 // test : 0.981\n",
      "train : 0.997 // test : 0.978\n",
      "train : 0.999 // test : 0.979\n",
      "train : 1.0 // test : 0.98\n",
      "train : 1.0 // test : 0.979\n"
     ]
    }
   ],
   "source": [
    "## 학습 및 실행\n",
    "from mnist import load_mnist\n",
    "(x_train, t_train), (x_test, t_test)= load_mnist(normalize =True, one_hot_label = True)\n",
    "\n",
    "network = ThreeLayerNet(input_size = 784, hidden_size1 = 300,hidden_size2 = 100, hidden_size3 = 50, output_size = 10)\n",
    "iters_num = 10000\n",
    "train_size = x_train.shape[0]\n",
    "batch_size = 100\n",
    "learning_rate = 0.1\n",
    "\n",
    "train_loss_list = []\n",
    "train_acc_list = []\n",
    "test_acc_list = []\n",
    "\n",
    "iter_per_epoch = max(train_size / batch_size , 1)\n",
    "\n",
    "plt_x3 = []\n",
    "plt_y3 = []\n",
    "for i in range(iters_num):\n",
    "    batch_mask = np.random.choice(train_size, batch_size)\n",
    "    x_batch = x_train[batch_mask]\n",
    "    t_batch = t_train[batch_mask]\n",
    "    \n",
    "    grad = network.gradient(x_batch, t_batch) \n",
    "    \n",
    "    for key in ('W1','b1','W2','b2','W3','b3','W4','b4'):\n",
    "        network.params[key] -= learning_rate*grad[key]\n",
    "        \n",
    "    loss = network.loss(x_batch, t_batch)\n",
    "    train_loss_list.append(loss)\n",
    "    \n",
    "    if i % iter_per_epoch == 0:\n",
    "        train_acc = network.accuracy(x_train, t_train)\n",
    "        test_acc = network.accuracy(x_test, t_test)\n",
    "        train_acc_list.append(train_acc)\n",
    "        test_acc_list.append(test_acc)\n",
    "        plt_x3.append(train_acc)\n",
    "        plt_y3.append(test_acc)\n",
    "        print('train :',round(train_acc,3),'//','test :', round(test_acc,3))"
   ]
  },
  {
   "cell_type": "markdown",
   "metadata": {},
   "source": [
    "# 4. 배치정규화를 보정해준 MNIST"
   ]
  },
  {
   "cell_type": "code",
   "execution_count": 72,
   "metadata": {},
   "outputs": [],
   "source": [
    "from layers import *\n",
    "from gradient import numerical_gradient\n",
    "from collections import OrderedDict \n",
    "class ThreeLayerNet:    \n",
    "    def __init__(self, input_size, hidden_size1,hidden_size2, hidden_size3 , output_size, weight_init_std = 0.01):\n",
    "        self.params = {}\n",
    "        self.params['W1']=weight_init_std * np.random.randn(input_size, hidden_size1)\n",
    "        self.params['b1']=np.zeros(hidden_size1)\n",
    "        self.params['W2']=weight_init_std * np.random.randn(hidden_size1, hidden_size2)\n",
    "        self.params['b2']=np.zeros(hidden_size2)\n",
    "        self.params['W3']=weight_init_std * np.random.randn(hidden_size2, hidden_size3)\n",
    "        self.params['b3']=np.zeros(hidden_size3)\n",
    "        self.params['W4']=weight_init_std * np.random.randn(hidden_size3, output_size)\n",
    "        self.params['b4']=np.zeros(output_size)\n",
    "        \n",
    "        self.layers = OrderedDict()\n",
    "        self.layers['Affine1']=Affine(self.params['W1'],self.params['b1'])\n",
    "        self.layers['BatchNorm1'] = BatchNormalization(gamma=1.0, beta=0.)\n",
    "        self.layers['Relu']=Relu() \n",
    "        self.layers['Affine2']=Affine(self.params['W2'],self.params['b2'])\n",
    "        self.layers['BatchNorm2'] = BatchNormalization(gamma=1.0, beta=0.)\n",
    "        self.layers['Relu']=Relu()\n",
    "        self.layers['Affine3']=Affine(self.params['W3'],self.params['b3'])\n",
    "        self.layers['BatchNorm3'] = BatchNormalization(gamma=1.0, beta=0.)\n",
    "        self.layers['Relu']=Relu()\n",
    "        self.layers['Affine4']=Affine(self.params['W4'],self.params['b4'])\n",
    "        \n",
    "        self.lastlayer = SoftmaxWithLoss()        \n",
    "    def predict(self,x):\n",
    "        for layer in self.layers.values():\n",
    "            x = layer.forward(x)           \n",
    "        return x    \n",
    "    def loss(self, x, t):\n",
    "        y = self.predict(x)\n",
    "        return self.lastlayer.forward(y,t)    \n",
    "    def accuracy(self,x,t):\n",
    "        y = self.predict(x)\n",
    "        y = np.argmax(y, axis = 1) # y값 중에서 가장큰 값의 위치\n",
    "        if t.ndim != 1 : t=np.argmax(t,axis =1)           \n",
    "        accuracy = np.sum(y == t)/float(x.shape[0])\n",
    "        return accuracy\n",
    "    def numerical_gradient(self, x, t):\n",
    "        loss_W = lambda W : self.loss(x,t)\n",
    "        grads = {}\n",
    "        grads['W1'] = numerical_gradient(loss_W, self.params['W1'])\n",
    "        grads['b1'] = numerical_gradient(loss_W, self.params['b1'])\n",
    "        grads['W2'] = numerical_gradient(loss_W, self.params['W2'])\n",
    "        grads['b2'] = numerical_gradient(loss_W, self.params['b2'])\n",
    "        grads['W3'] = numerical_gradient(loss_W, self.params['W3'])\n",
    "        grads['b3'] = numerical_gradient(loss_W, self.params['b3'])\n",
    "        grads['W4'] = numerical_gradient(loss_W, self.params['W4'])\n",
    "        grads['b4'] = numerical_gradient(loss_W, self.params['b4'])\n",
    "        return grads\n",
    "    def gradient(self, x, t):\n",
    "        self.loss(x,t)\n",
    "        dout = 1\n",
    "        dout = self.lastlayer.backward(dout)            \n",
    "        layers = list(self.layers.values())\n",
    "        layers.reverse()\n",
    "        for layer in layers:\n",
    "            dout = layer.backward(dout)        \n",
    "        grads = {}\n",
    "        grads['W1'], grads['b1'] = self.layers['Affine1'].dW, self.layers['Affine1'].db\n",
    "        grads['W2'], grads['b2'] = self.layers['Affine2'].dW, self.layers['Affine2'].db\n",
    "        grads['W3'], grads['b3'] = self.layers['Affine3'].dW, self.layers['Affine3'].db \n",
    "        grads['W4'], grads['b4'] = self.layers['Affine4'].dW, self.layers['Affine4'].db\n",
    "        return grads"
   ]
  },
  {
   "cell_type": "code",
   "execution_count": 74,
   "metadata": {},
   "outputs": [
    {
     "name": "stdout",
     "output_type": "stream",
     "text": [
      "train : 0.349 // test : 0.367\n",
      "train : 0.965 // test : 0.96\n",
      "train : 0.979 // test : 0.974\n",
      "train : 0.984 // test : 0.977\n",
      "train : 0.985 // test : 0.976\n",
      "train : 0.988 // test : 0.974\n",
      "train : 0.99 // test : 0.976\n",
      "train : 0.993 // test : 0.979\n",
      "train : 0.992 // test : 0.976\n",
      "train : 0.992 // test : 0.977\n",
      "train : 0.993 // test : 0.976\n",
      "train : 0.994 // test : 0.979\n",
      "train : 0.996 // test : 0.98\n",
      "train : 0.995 // test : 0.977\n",
      "train : 0.997 // test : 0.979\n",
      "train : 0.994 // test : 0.977\n",
      "train : 0.997 // test : 0.981\n"
     ]
    }
   ],
   "source": [
    "from mnist import load_mnist\n",
    "(x_train, t_train), (x_test, t_test)= load_mnist(normalize =True, one_hot_label = True)\n",
    "\n",
    "network = ThreeLayerNet(input_size = 784, hidden_size1 = 300,hidden_size2 = 100, hidden_size3 = 50, output_size = 10)\n",
    "iters_num = 10000\n",
    "train_size = x_train.shape[0]\n",
    "batch_size = 100\n",
    "learning_rate = 0.1\n",
    "\n",
    "train_loss_list = []\n",
    "train_acc_list = []\n",
    "test_acc_list = []\n",
    "\n",
    "iter_per_epoch = max(train_size / batch_size , 1)\n",
    "plt_x4 = []\n",
    "plt_y4 = []\n",
    "for i in range(iters_num):\n",
    "    batch_mask = np.random.choice(train_size, batch_size)\n",
    "    x_batch = x_train[batch_mask]\n",
    "    t_batch = t_train[batch_mask]\n",
    "    \n",
    "    grad = network.gradient(x_batch, t_batch) \n",
    "    \n",
    "    for key in ('W1','b1','W2','b2','W3','b3','W4','b4'):\n",
    "        network.params[key] -= learning_rate*grad[key]\n",
    "        \n",
    "    loss = network.loss(x_batch, t_batch)\n",
    "    train_loss_list.append(loss)\n",
    "    \n",
    "    if i % iter_per_epoch == 0:\n",
    "        train_acc = network.accuracy(x_train, t_train)\n",
    "        test_acc = network.accuracy(x_test, t_test)\n",
    "        train_acc_list.append(train_acc)\n",
    "        test_acc_list.append(test_acc)\n",
    "        plt_x4.append(train_acc)\n",
    "        plt_y4.append(test_acc)\n",
    "        print('train :',round(train_acc,3),'//','test :', round(test_acc,3))"
   ]
  },
  {
   "cell_type": "markdown",
   "metadata": {},
   "source": [
    "# Momentum, AdaGrad, Adam 을 이용한 MNIST"
   ]
  },
  {
   "cell_type": "code",
   "execution_count": 5,
   "metadata": {},
   "outputs": [],
   "source": [
    "from layers import *\n",
    "from gradient import numerical_gradient\n",
    "from collections import OrderedDict \n",
    "class ThreeLayerNet:    \n",
    "    def __init__(self, input_size, hidden_size1,hidden_size2, hidden_size3, output_size, weight_init_std = 0.01):\n",
    "        self.params = {}\n",
    "        self.params['W1']=weight_init_std * np.random.randn(input_size, hidden_size1)\n",
    "        self.params['b1']=np.zeros(hidden_size1)\n",
    "        self.params['W2']=weight_init_std * np.random.randn(hidden_size1, hidden_size2)\n",
    "        self.params['b2']=np.zeros(hidden_size2)\n",
    "        self.params['W3']=weight_init_std * np.random.randn(hidden_size2, hidden_size3)\n",
    "        self.params['b3']=np.zeros(hidden_size3)\n",
    "        self.params['W4']=weight_init_std * np.random.randn(hidden_size3, output_size)\n",
    "        self.params['b4']=np.zeros(output_size)\n",
    "        \n",
    "        self.layers = OrderedDict()\n",
    "        self.layers['Affine1']=Affine(self.params['W1'],self.params['b1'])\n",
    "        self.layers['Relu']=Relu() \n",
    "        self.layers['Affine2']=Affine(self.params['W2'],self.params['b2'])\n",
    "        self.layers['Relu']=Relu()\n",
    "        self.layers['Affine3']=Affine(self.params['W3'],self.params['b3'])\n",
    "        self.layers['Relu']=Relu() \n",
    "        self.layers['Affine4']=Affine(self.params['W4'],self.params['b4'])\n",
    "        \n",
    "        self.lastlayer = SoftmaxWithLoss()        \n",
    "    def predict(self,x):\n",
    "        for layer in self.layers.values():\n",
    "            x = layer.forward(x)           \n",
    "        return x    \n",
    "    def loss(self, x, t):\n",
    "        y = self.predict(x)\n",
    "        return self.lastlayer.forward(y,t)    \n",
    "    def accuracy(self,x,t):\n",
    "        y = self.predict(x)\n",
    "        y = np.argmax(y, axis = 1) # y값 중에서 가장큰 값의 위치\n",
    "        if t.ndim != 1 : t=np.argmax(t,axis =1)           \n",
    "        accuracy = np.sum(y == t)/float(x.shape[0])\n",
    "        return accuracy\n",
    "    def numerical_gradient(self, x, t):\n",
    "        loss_W = lambda W : self.loss(x,t)\n",
    "        grads = {}\n",
    "        grads['W1'] = numerical_gradient(loss_W, self.params['W1'])\n",
    "        grads['b1'] = numerical_gradient(loss_W, self.params['b1'])\n",
    "        grads['W2'] = numerical_gradient(loss_W, self.params['W2'])\n",
    "        grads['b2'] = numerical_gradient(loss_W, self.params['b2'])\n",
    "        grads['W3'] = numerical_gradient(loss_W, self.params['W3'])\n",
    "        grads['b3'] = numerical_gradient(loss_W, self.params['b3'])         \n",
    "        grads['W4'] = numerical_gradient(loss_W, self.params['W4'])\n",
    "        grads['b4'] = numerical_gradient(loss_W, self.params['b4'])        \n",
    "        return grads\n",
    "    def gradient(self, x, t):\n",
    "        self.loss(x,t)\n",
    "        dout = 1\n",
    "        dout = self.lastlayer.backward(dout)            \n",
    "        layers = list(self.layers.values())\n",
    "        layers.reverse()\n",
    "        for layer in layers:\n",
    "            dout = layer.backward(dout)        \n",
    "        grads = {}\n",
    "        grads['W1'], grads['b1'] = self.layers['Affine1'].dW, self.layers['Affine1'].db\n",
    "        grads['W2'], grads['b2'] = self.layers['Affine2'].dW, self.layers['Affine2'].db\n",
    "        grads['W3'], grads['b3'] = self.layers['Affine3'].dW, self.layers['Affine3'].db      \n",
    "        grads['W4'], grads['b4'] = self.layers['Affine4'].dW, self.layers['Affine4'].db \n",
    "        return grads"
   ]
  },
  {
   "cell_type": "code",
   "execution_count": 141,
   "metadata": {},
   "outputs": [
    {
     "name": "stdout",
     "output_type": "stream",
     "text": [
      "===========iteration:0===========\n",
      "SGD:2.3845512939312337\n",
      "Momentum:2.4100689035318283\n",
      "AdaGrad:4.708257347845251\n",
      "Adam:2.07576421812051\n",
      "===========iteration:200===========\n",
      "SGD:0.5869670849184702\n",
      "Momentum:0.32572828009927124\n",
      "AdaGrad:0.13715473958219565\n",
      "Adam:0.23675314714256657\n",
      "===========iteration:400===========\n",
      "SGD:0.5028422842218354\n",
      "Momentum:0.20565599257001885\n",
      "AdaGrad:0.08896194101553176\n",
      "Adam:0.17877078026929344\n",
      "===========iteration:600===========\n",
      "SGD:0.35967776352839115\n",
      "Momentum:0.09817621910315111\n",
      "AdaGrad:0.03944847358242747\n",
      "Adam:0.06269732156820523\n",
      "===========iteration:800===========\n",
      "SGD:0.24513637988781997\n",
      "Momentum:0.11337995095943487\n",
      "AdaGrad:0.06676889287235824\n",
      "Adam:0.05597613242614094\n",
      "===========iteration:1000===========\n",
      "SGD:0.4161336656254055\n",
      "Momentum:0.09713149879828097\n",
      "AdaGrad:0.05585435806744833\n",
      "Adam:0.07953363291229197\n",
      "===========iteration:1200===========\n",
      "SGD:0.25443245640562234\n",
      "Momentum:0.04872706498790052\n",
      "AdaGrad:0.022770040419371723\n",
      "Adam:0.041405045483447464\n",
      "===========iteration:1400===========\n",
      "SGD:0.19748525543093076\n",
      "Momentum:0.051368878122787426\n",
      "AdaGrad:0.019889494547913167\n",
      "Adam:0.025048780166630712\n",
      "===========iteration:1600===========\n",
      "SGD:0.17051048128715446\n",
      "Momentum:0.029977198297605187\n",
      "AdaGrad:0.016055990145858946\n",
      "Adam:0.012588393902804647\n",
      "===========iteration:1800===========\n",
      "SGD:0.25815197532023154\n",
      "Momentum:0.08939524929949122\n",
      "AdaGrad:0.03434906309215533\n",
      "Adam:0.07668409183428017\n"
     ]
    },
    {
     "data": {
      "text/plain": [
       "[<matplotlib.lines.Line2D at 0x19f063ee608>]"
      ]
     },
     "execution_count": 141,
     "metadata": {},
     "output_type": "execute_result"
    },
    {
     "data": {
      "text/plain": [
       "[<matplotlib.lines.Line2D at 0x19f063f0bc8>]"
      ]
     },
     "execution_count": 141,
     "metadata": {},
     "output_type": "execute_result"
    },
    {
     "data": {
      "text/plain": [
       "[<matplotlib.lines.Line2D at 0x19f063f0b48>]"
      ]
     },
     "execution_count": 141,
     "metadata": {},
     "output_type": "execute_result"
    },
    {
     "data": {
      "text/plain": [
       "[<matplotlib.lines.Line2D at 0x19f06404b48>]"
      ]
     },
     "execution_count": 141,
     "metadata": {},
     "output_type": "execute_result"
    },
    {
     "data": {
      "text/plain": [
       "Text(0.5, 0, 'iterations')"
      ]
     },
     "execution_count": 141,
     "metadata": {},
     "output_type": "execute_result"
    },
    {
     "data": {
      "text/plain": [
       "Text(0, 0.5, 'loss')"
      ]
     },
     "execution_count": 141,
     "metadata": {},
     "output_type": "execute_result"
    },
    {
     "data": {
      "text/plain": [
       "(0, 2)"
      ]
     },
     "execution_count": 141,
     "metadata": {},
     "output_type": "execute_result"
    },
    {
     "data": {
      "text/plain": [
       "<matplotlib.legend.Legend at 0x19f06404f48>"
      ]
     },
     "execution_count": 141,
     "metadata": {},
     "output_type": "execute_result"
    },
    {
     "data": {
      "image/png": "[encoded data removed]",
      "text/plain": [
       "<Figure size 432x288 with 1 Axes>"
      ]
     },
     "metadata": {},
     "output_type": "display_data"
    }
   ],
   "source": [
    "import os\n",
    "import sys\n",
    "sys.path.append(os.pardir)\n",
    "from util import smooth_curve\n",
    "from multi_layer_net import MultiLayerNet\n",
    "from optimizer import *\n",
    "\n",
    "(x_train, t_train), (x_test, t_test) = load_mnist(normalize=True)\n",
    "train_size = x_train.shape[0]\n",
    "batch_size = 100\n",
    "max_iterations = 2000\n",
    "\n",
    "optimizers = {}\n",
    "optimizers['SGD'] = SGD()\n",
    "optimizers['Momentum'] = Momentum()\n",
    "optimizers['AdaGrad'] = AdaGrad()\n",
    "optimizers['Adam'] = Adam()\n",
    "\n",
    "networks = {}\n",
    "train_loss = {}\n",
    "for key in optimizers.keys():\n",
    "    networks[key] = ThreeLayerNet(input_size = 784, hidden_size1 = 300,hidden_size2 = 100, hidden_size3 = 50, output_size = 10)\n",
    "    train_loss[key] = []    \n",
    "\n",
    "for i in range(max_iterations):\n",
    "    batch_mask = np.random.choice(train_size, batch_size)\n",
    "    x_batch = x_train[batch_mask]\n",
    "    t_batch = t_train[batch_mask]\n",
    "    \n",
    "    for key in optimizers.keys():\n",
    "        grads = networks[key].gradient(x_batch, t_batch)\n",
    "        optimizers[key].update(networks[key].params, grads)\n",
    "    \n",
    "        loss = networks[key].loss(x_batch, t_batch)\n",
    "        train_loss[key].append(loss)\n",
    "    \n",
    "    if i % 200 == 0:\n",
    "        print( \"===========\" + \"iteration:\" + str(i) + \"===========\")\n",
    "        for key in optimizers.keys():\n",
    "            loss = networks[key].loss(x_batch, t_batch)\n",
    "            print(key + \":\" + str(loss))\n",
    "\n",
    "markers = {\"SGD\": \"o\", \"Momentum\": \"x\", \"AdaGrad\": \"s\", \"Adam\": \"D\"}\n",
    "x = np.arange(max_iterations)\n",
    "for key in optimizers.keys():\n",
    "    plt.plot(x, smooth_curve(train_loss[key]), marker=markers[key], markevery=100, label=key)\n",
    "plt.xlabel(\"iterations\")\n",
    "plt.ylabel(\"loss\")\n",
    "plt.ylim(0, 2)\n",
    "plt.legend()\n",
    "plt.show()"
   ]
  },
  {
   "cell_type": "markdown",
   "metadata": {},
   "source": [
    "# 5. Momentum으로 계산한 MNIST"
   ]
  },
  {
   "cell_type": "code",
   "execution_count": 90,
   "metadata": {},
   "outputs": [
    {
     "name": "stdout",
     "output_type": "stream",
     "text": [
      "train : 0.103 // test : 0.102\n",
      "train : 0.112 // test : 0.114\n",
      "train : 0.112 // test : 0.114\n",
      "train : 0.112 // test : 0.114\n",
      "train : 0.112 // test : 0.114\n",
      "train : 0.668 // test : 0.671\n",
      "train : 0.884 // test : 0.883\n",
      "train : 0.913 // test : 0.91\n",
      "train : 0.93 // test : 0.928\n",
      "train : 0.942 // test : 0.94\n",
      "train : 0.948 // test : 0.945\n",
      "train : 0.954 // test : 0.949\n",
      "train : 0.957 // test : 0.952\n",
      "train : 0.96 // test : 0.949\n",
      "train : 0.962 // test : 0.957\n",
      "train : 0.965 // test : 0.954\n",
      "train : 0.968 // test : 0.96\n"
     ]
    }
   ],
   "source": [
    "from mnist import load_mnist\n",
    "(x_train, t_train), (x_test, t_test)= load_mnist(normalize =True, one_hot_label = True)\n",
    "\n",
    "network = ThreeLayerNet(input_size = 784, hidden_size1 = 300,hidden_size2 = 100, hidden_size3 = 50, output_size = 10)\n",
    "iters_num = 10000\n",
    "train_size = x_train.shape[0]\n",
    "batch_size = 100\n",
    "learning_rate = 0.01\n",
    "momentum = 0.9\n",
    "v = None\n",
    "\n",
    "train_loss_list = []\n",
    "train_acc_list = []\n",
    "test_acc_list = []\n",
    "\n",
    "iter_per_epoch = max(train_size / batch_size , 1)\n",
    "plt_x5 = []\n",
    "plt_y5 = []\n",
    "for i in range(iters_num):\n",
    "    batch_mask = np.random.choice(train_size, batch_size)\n",
    "    x_batch = x_train[batch_mask]\n",
    "    t_batch = t_train[batch_mask]\n",
    "    \n",
    "    grad = network.gradient(x_batch, t_batch) \n",
    "    \n",
    "    if v is None:\n",
    "        v = {}\n",
    "        for key, val in network.params.items():\n",
    "            v[key] = np.zeros_like(val)\n",
    "    for key in ('W1','b1','W2','b2','W3','b3','W4','b4'):\n",
    "        v[key] = momentum * v[key] - learning_rate * grad[key]\n",
    "        network.params[key] += v[key]\n",
    "        \n",
    "    loss = network.loss(x_batch, t_batch)\n",
    "    train_loss_list.append(loss)\n",
    "    \n",
    "    if i % iter_per_epoch == 0:\n",
    "        train_acc = network.accuracy(x_train, t_train)\n",
    "        test_acc = network.accuracy(x_test, t_test)\n",
    "        train_acc_list.append(train_acc)\n",
    "        test_acc_list.append(test_acc)\n",
    "        plt_x5.append(train_acc)\n",
    "        plt_y5.append(test_acc)\n",
    "        print('train :',round(train_acc,3),'//','test :', round(test_acc,3))"
   ]
  },
  {
   "cell_type": "markdown",
   "metadata": {},
   "source": [
    "# 6. Adam으로 계산한 MNIST"
   ]
  },
  {
   "cell_type": "code",
   "execution_count": 91,
   "metadata": {
    "scrolled": true
   },
   "outputs": [
    {
     "name": "stdout",
     "output_type": "stream",
     "text": [
      "train : 0.164 // test : 0.169\n",
      "train : 0.922 // test : 0.922\n",
      "train : 0.945 // test : 0.944\n",
      "train : 0.955 // test : 0.952\n",
      "train : 0.96 // test : 0.949\n",
      "train : 0.961 // test : 0.952\n",
      "train : 0.964 // test : 0.957\n",
      "train : 0.967 // test : 0.958\n",
      "train : 0.972 // test : 0.963\n",
      "train : 0.971 // test : 0.961\n",
      "train : 0.973 // test : 0.962\n",
      "train : 0.974 // test : 0.964\n",
      "train : 0.977 // test : 0.965\n",
      "train : 0.974 // test : 0.962\n",
      "train : 0.978 // test : 0.966\n",
      "train : 0.978 // test : 0.964\n",
      "train : 0.977 // test : 0.965\n"
     ]
    }
   ],
   "source": [
    "from mnist import load_mnist\n",
    "(x_train, t_train), (x_test, t_test)= load_mnist(normalize =True, one_hot_label = True)\n",
    "\n",
    "network = ThreeLayerNet(input_size = 784, hidden_size1 = 300,hidden_size2 = 100, hidden_size3 = 50, output_size = 10)\n",
    "iters_num = 10000\n",
    "train_size = x_train.shape[0]\n",
    "batch_size = 100\n",
    "learning_rate = 0.001\n",
    "beta1 = 0.9\n",
    "beta2 = 0.999\n",
    "v = None\n",
    "m = None\n",
    "_iter = 0\n",
    "\n",
    "train_loss_list = []\n",
    "train_acc_list = []\n",
    "test_acc_list = []\n",
    "\n",
    "iter_per_epoch = max(train_size / batch_size , 1)\n",
    "plt_x6 = []\n",
    "plt_y6 = []\n",
    "for i in range(iters_num):\n",
    "    batch_mask = np.random.choice(train_size, batch_size)\n",
    "    x_batch = x_train[batch_mask]\n",
    "    t_batch = t_train[batch_mask]\n",
    "    \n",
    "    grad = network.gradient(x_batch, t_batch) \n",
    "    \n",
    "    if m is None:\n",
    "        v = {}\n",
    "        m = {}\n",
    "        for key, val in network.params.items():\n",
    "            v[key] = np.zeros_like(val)\n",
    "            m[key] = np.zeros_like(val)\n",
    "    _iter += 1\n",
    "    lr_t = learning_rate * np.sqrt(1.0 - beta2**_iter) / (1.0 - beta1**_iter)\n",
    "    for key in ('W1','b1','W2','b2','W3','b3','W4','b4'):\n",
    "        m[key] += (1 - beta1)*(grad[key] - m[key])\n",
    "        v[key] += (1 - beta2)*(grad[key]**2 - v[key])\n",
    "        network.params[key] -= lr_t * m[key] / (np.sqrt(v[key]) + 1e-7)\n",
    "        \n",
    "    loss = network.loss(x_batch, t_batch)\n",
    "    train_loss_list.append(loss)\n",
    "    \n",
    "    if i % iter_per_epoch == 0:\n",
    "        train_acc = network.accuracy(x_train, t_train)\n",
    "        test_acc = network.accuracy(x_test, t_test)\n",
    "        train_acc_list.append(train_acc)\n",
    "        test_acc_list.append(test_acc)\n",
    "        plt_x6.append(train_acc)\n",
    "        plt_y6.append(test_acc)\n",
    "        print('train :',round(train_acc,3),'//','test :', round(test_acc,3))"
   ]
  },
  {
   "cell_type": "markdown",
   "metadata": {},
   "source": [
    "# 7. AdaGrad로 계산한 MNIST"
   ]
  },
  {
   "cell_type": "code",
   "execution_count": 103,
   "metadata": {},
   "outputs": [
    {
     "name": "stdout",
     "output_type": "stream",
     "text": [
      "train : 0.158 // test : 0.157\n",
      "train : 0.951 // test : 0.945\n",
      "train : 0.965 // test : 0.958\n",
      "train : 0.972 // test : 0.966\n",
      "train : 0.976 // test : 0.968\n",
      "train : 0.98 // test : 0.97\n",
      "train : 0.983 // test : 0.972\n",
      "train : 0.985 // test : 0.972\n",
      "train : 0.986 // test : 0.975\n",
      "train : 0.988 // test : 0.975\n",
      "train : 0.989 // test : 0.975\n",
      "train : 0.99 // test : 0.973\n",
      "train : 0.992 // test : 0.976\n",
      "train : 0.993 // test : 0.975\n",
      "train : 0.994 // test : 0.976\n",
      "train : 0.995 // test : 0.977\n",
      "train : 0.995 // test : 0.977\n"
     ]
    }
   ],
   "source": [
    "from mnist import load_mnist\n",
    "(x_train, t_train), (x_test, t_test)= load_mnist(normalize =True, one_hot_label = True)\n",
    "\n",
    "network = ThreeLayerNet(input_size = 784, hidden_size1 = 300,hidden_size2 = 100, hidden_size3 = 50, output_size = 10)\n",
    "iters_num = 10000\n",
    "train_size = x_train.shape[0]\n",
    "batch_size = 100\n",
    "learning_rate = 0.01\n",
    "h = None\n",
    "\n",
    "train_loss_list = []\n",
    "train_acc_list = []\n",
    "test_acc_list = []\n",
    "\n",
    "iter_per_epoch = max(train_size / batch_size , 1)\n",
    "plt_x7 = []\n",
    "plt_y7 = []\n",
    "for i in range(iters_num):\n",
    "    batch_mask = np.random.choice(train_size, batch_size)\n",
    "    x_batch = x_train[batch_mask]\n",
    "    t_batch = t_train[batch_mask]\n",
    "    \n",
    "    grad = network.gradient(x_batch, t_batch) \n",
    "    \n",
    "    if h is None:\n",
    "        h = {}\n",
    "        for key, val in network.params.items():\n",
    "            h[key] = np.zeros_like(val)\n",
    "            \n",
    "    for key in ('W1','b1','W2','b2','W3','b3','W4','b4'):\n",
    "        h[key] += (grad[key])*(grad[key])\n",
    "        network.params[key] -= learning_rate * grad[key] / (np.sqrt(h[key]) + 1e-7)\n",
    "        \n",
    "    loss = network.loss(x_batch, t_batch)\n",
    "    train_loss_list.append(loss)\n",
    "    \n",
    "    if i % iter_per_epoch == 0:\n",
    "        train_acc = network.accuracy(x_train, t_train)\n",
    "        test_acc = network.accuracy(x_test, t_test)\n",
    "        train_acc_list.append(train_acc)\n",
    "        test_acc_list.append(test_acc)\n",
    "        plt_x7.append(train_acc)\n",
    "        plt_y7.append(test_acc)\n",
    "        print('train :',round(train_acc,3),'//','test :', round(test_acc,3))"
   ]
  },
  {
   "cell_type": "code",
   "execution_count": null,
   "metadata": {},
   "outputs": [],
   "source": []
  },
  {
   "cell_type": "markdown",
   "metadata": {},
   "source": [
    "## 최적의 학습법을 찾기위해 test값의 마지막 5개 값의 평균을 구한뒤 비교"
   ]
  },
  {
   "cell_type": "code",
   "execution_count": 152,
   "metadata": {},
   "outputs": [
    {
     "name": "stdout",
     "output_type": "stream",
     "text": [
      "아무것도 적용하지 않은 오차역전파 MNIST : 0.97068\n",
      "Dropout을 적용한 MNIST : 0.93794\n",
      "가중치 초기화를 적용한 MNIST : 0.9795999999999999\n",
      "배치정규화를 적용한 MNIST : 0.9786800000000001\n",
      "=============================================\n",
      "Momentum을 적용한 MNIST : 0.95448\n",
      "Adam을 적용한 MNIST : 0.9642\n",
      "AdaGrad를 적용한 MNIST : 0.9761599999999999\n"
     ]
    }
   ],
   "source": [
    "print('아무것도 적용하지 않은 오차역전파 MNIST :',np.mean(plt_y1[12:]))\n",
    "print('Dropout을 적용한 MNIST :',np.mean(plt_y2[12:]))\n",
    "print('가중치 초기화를 적용한 MNIST :',np.mean(plt_y3[12:]))\n",
    "print('배치정규화를 적용한 MNIST :',np.mean(plt_y4[12:]))\n",
    "print('=============================================')\n",
    "print('Momentum을 적용한 MNIST :',np.mean(plt_y5[12:]))\n",
    "print('Adam을 적용한 MNIST :',np.mean(plt_y6[12:]))\n",
    "print('AdaGrad를 적용한 MNIST :',np.mean(plt_y7[12:]))"
   ]
  },
  {
   "cell_type": "markdown",
   "metadata": {},
   "source": [
    "# 8. 가중치 초기화 + 배치정규화 + AdaGrad"
   ]
  },
  {
   "cell_type": "code",
   "execution_count": 147,
   "metadata": {},
   "outputs": [],
   "source": [
    "from layers import *\n",
    "from gradient import numerical_gradient\n",
    "from collections import OrderedDict \n",
    "class ThreeLayerNet:    \n",
    "    def __init__(self, input_size, hidden_size1,hidden_size2, hidden_size3 , output_size):\n",
    "        all_size_list = [input_size] + [hidden_size1] + [hidden_size2] + [hidden_size3] + [output_size]\n",
    "        idx = 4 # 은닉층 3개\n",
    "        self.params = {}\n",
    "        self.params['W1']=np.sqrt(2.0/all_size_list[0])*np.random.randn(input_size, hidden_size1)\n",
    "        self.params['b1']=np.zeros(hidden_size1)\n",
    "        self.params['W2']=np.sqrt(2.0/all_size_list[1])* np.random.randn(hidden_size1, hidden_size2)\n",
    "        self.params['b2']=np.zeros(hidden_size2)\n",
    "        self.params['W3']=np.sqrt(2.0/all_size_list[2])* np.random.randn(hidden_size2, hidden_size3)\n",
    "        self.params['b3']=np.zeros(hidden_size3)\n",
    "        self.params['W4']=np.sqrt(2.0/all_size_list[3])* np.random.randn(hidden_size3, output_size)\n",
    "        self.params['b4']=np.zeros(output_size)\n",
    "        \n",
    "        self.layers = OrderedDict()\n",
    "        self.layers['Affine1']=Affine(self.params['W1'],self.params['b1'])\n",
    "        self.layers['BatchNorm1'] = BatchNormalization(gamma=1.0, beta=0.)\n",
    "        self.layers['Relu']=Relu() \n",
    "        self.layers['Affine2']=Affine(self.params['W2'],self.params['b2'])\n",
    "        self.layers['BatchNorm2'] = BatchNormalization(gamma=1.0, beta=0.)\n",
    "        self.layers['Relu']=Relu()\n",
    "        self.layers['Affine3']=Affine(self.params['W3'],self.params['b3'])\n",
    "        self.layers['BatchNorm3'] = BatchNormalization(gamma=1.0, beta=0.)\n",
    "        self.layers['Relu']=Relu()\n",
    "        self.layers['Affine4']=Affine(self.params['W4'],self.params['b4'])\n",
    "        \n",
    "        self.lastlayer = SoftmaxWithLoss()        \n",
    "    def predict(self,x):\n",
    "        for layer in self.layers.values():\n",
    "            x = layer.forward(x)           \n",
    "        return x    \n",
    "    def loss(self, x, t):\n",
    "        y = self.predict(x)\n",
    "        return self.lastlayer.forward(y,t)    \n",
    "    def accuracy(self,x,t):\n",
    "        y = self.predict(x)\n",
    "        y = np.argmax(y, axis = 1) # y값 중에서 가장큰 값의 위치\n",
    "        if t.ndim != 1 : t=np.argmax(t,axis =1)           \n",
    "        accuracy = np.sum(y == t)/float(x.shape[0])\n",
    "        return accuracy\n",
    "    def numerical_gradient(self, x, t):\n",
    "        loss_W = lambda W : self.loss(x,t)\n",
    "        grads = {}\n",
    "        grads['W1'] = numerical_gradient(loss_W, self.params['W1'])\n",
    "        grads['b1'] = numerical_gradient(loss_W, self.params['b1'])\n",
    "        grads['W2'] = numerical_gradient(loss_W, self.params['W2'])\n",
    "        grads['b2'] = numerical_gradient(loss_W, self.params['b2'])\n",
    "        grads['W3'] = numerical_gradient(loss_W, self.params['W3'])\n",
    "        grads['b3'] = numerical_gradient(loss_W, self.params['b3'])\n",
    "        grads['W4'] = numerical_gradient(loss_W, self.params['W4'])\n",
    "        grads['b4'] = numerical_gradient(loss_W, self.params['b4'])\n",
    "        return grads\n",
    "    def gradient(self, x, t):\n",
    "        self.loss(x,t)\n",
    "        dout = 1\n",
    "        dout = self.lastlayer.backward(dout)            \n",
    "        layers = list(self.layers.values())\n",
    "        layers.reverse()\n",
    "        for layer in layers:\n",
    "            dout = layer.backward(dout)        \n",
    "        grads = {}\n",
    "        grads['W1'], grads['b1'] = self.layers['Affine1'].dW, self.layers['Affine1'].db\n",
    "        grads['W2'], grads['b2'] = self.layers['Affine2'].dW, self.layers['Affine2'].db\n",
    "        grads['W3'], grads['b3'] = self.layers['Affine3'].dW, self.layers['Affine3'].db\n",
    "        grads['W4'], grads['b4'] = self.layers['Affine4'].dW, self.layers['Affine4'].db\n",
    "        return grads"
   ]
  },
  {
   "cell_type": "code",
   "execution_count": 148,
   "metadata": {},
   "outputs": [
    {
     "name": "stdout",
     "output_type": "stream",
     "text": [
      "train : 0.666 // test : 0.67\n",
      "train : 0.976 // test : 0.968\n",
      "train : 0.987 // test : 0.974\n",
      "train : 0.991 // test : 0.978\n",
      "train : 0.994 // test : 0.98\n",
      "train : 0.996 // test : 0.979\n",
      "train : 0.997 // test : 0.98\n",
      "train : 0.998 // test : 0.98\n",
      "train : 0.998 // test : 0.98\n",
      "train : 0.999 // test : 0.981\n",
      "train : 0.999 // test : 0.982\n",
      "train : 0.999 // test : 0.981\n",
      "train : 0.999 // test : 0.981\n",
      "train : 0.999 // test : 0.982\n",
      "train : 1.0 // test : 0.982\n",
      "train : 1.0 // test : 0.981\n",
      "train : 1.0 // test : 0.981\n"
     ]
    }
   ],
   "source": [
    "from mnist import load_mnist\n",
    "(x_train, t_train), (x_test, t_test)= load_mnist(normalize =True, one_hot_label = True)\n",
    "\n",
    "network = ThreeLayerNet(input_size = 784, hidden_size1 = 300,hidden_size2 = 100, hidden_size3 = 50, output_size = 10)\n",
    "iters_num = 10000\n",
    "train_size = x_train.shape[0]\n",
    "batch_size = 100\n",
    "learning_rate = 0.01\n",
    "h = None\n",
    "\n",
    "train_loss_list = []\n",
    "train_acc_list = []\n",
    "test_acc_list = []\n",
    "\n",
    "iter_per_epoch = max(train_size / batch_size , 1)\n",
    "plt_x8 = []\n",
    "plt_y8 = []\n",
    "for i in range(iters_num):\n",
    "    batch_mask = np.random.choice(train_size, batch_size)\n",
    "    x_batch = x_train[batch_mask]\n",
    "    t_batch = t_train[batch_mask]\n",
    "    \n",
    "    grad = network.gradient(x_batch, t_batch) \n",
    "    \n",
    "    if h is None:\n",
    "        h = {}\n",
    "        for key, val in network.params.items():\n",
    "            h[key] = np.zeros_like(val)\n",
    "            \n",
    "    for key in ('W1','b1','W2','b2','W3','b3','W4','b4'):\n",
    "        h[key] += (grad[key])*(grad[key])\n",
    "        network.params[key] -= learning_rate * grad[key] / (np.sqrt(h[key]) + 1e-7)\n",
    "        \n",
    "    loss = network.loss(x_batch, t_batch)\n",
    "    train_loss_list.append(loss)\n",
    "    \n",
    "    if i % iter_per_epoch == 0:\n",
    "        train_acc = network.accuracy(x_train, t_train)\n",
    "        test_acc = network.accuracy(x_test, t_test)\n",
    "        train_acc_list.append(train_acc)\n",
    "        test_acc_list.append(test_acc)\n",
    "        plt_x8.append(train_acc)\n",
    "        plt_y8.append(test_acc)\n",
    "        print('train :',round(train_acc,3),'//','test :', round(test_acc,3))"
   ]
  },
  {
   "cell_type": "markdown",
   "metadata": {},
   "source": [
    "## accuracy 값이 가장 잘나왔던 방법 3가지를 서로 섞어서 학습하였더니 train값에서 1.0이 나와 과대적합을 의심할 수 있으나 test값에서도 안정적으로 test값이 9.8이 나왔다."
   ]
  },
  {
   "cell_type": "code",
   "execution_count": 154,
   "metadata": {},
   "outputs": [
    {
     "data": {
      "text/plain": [
       "[<matplotlib.lines.Line2D at 0x19f01cf7a48>]"
      ]
     },
     "execution_count": 154,
     "metadata": {},
     "output_type": "execute_result"
    },
    {
     "data": {
      "text/plain": [
       "[<matplotlib.lines.Line2D at 0x19f069137c8>]"
      ]
     },
     "execution_count": 154,
     "metadata": {},
     "output_type": "execute_result"
    },
    {
     "data": {
      "text/plain": [
       "Text(0.5, 1.0, '오차역전파')"
      ]
     },
     "execution_count": 154,
     "metadata": {},
     "output_type": "execute_result"
    },
    {
     "data": {
      "text/plain": [
       "[<matplotlib.lines.Line2D at 0x19f06958f48>]"
      ]
     },
     "execution_count": 154,
     "metadata": {},
     "output_type": "execute_result"
    },
    {
     "data": {
      "text/plain": [
       "[<matplotlib.lines.Line2D at 0x19f06930bc8>]"
      ]
     },
     "execution_count": 154,
     "metadata": {},
     "output_type": "execute_result"
    },
    {
     "data": {
      "text/plain": [
       "Text(0.5, 1.0, 'Dropout')"
      ]
     },
     "execution_count": 154,
     "metadata": {},
     "output_type": "execute_result"
    },
    {
     "data": {
      "text/plain": [
       "[<matplotlib.lines.Line2D at 0x19f06953c48>]"
      ]
     },
     "execution_count": 154,
     "metadata": {},
     "output_type": "execute_result"
    },
    {
     "data": {
      "text/plain": [
       "[<matplotlib.lines.Line2D at 0x19f06967c48>]"
      ]
     },
     "execution_count": 154,
     "metadata": {},
     "output_type": "execute_result"
    },
    {
     "data": {
      "text/plain": [
       "Text(0.5, 1.0, '가중치 초기화')"
      ]
     },
     "execution_count": 154,
     "metadata": {},
     "output_type": "execute_result"
    },
    {
     "data": {
      "text/plain": [
       "[<matplotlib.lines.Line2D at 0x19f01a65e08>]"
      ]
     },
     "execution_count": 154,
     "metadata": {},
     "output_type": "execute_result"
    },
    {
     "data": {
      "text/plain": [
       "[<matplotlib.lines.Line2D at 0x19f06968f48>]"
      ]
     },
     "execution_count": 154,
     "metadata": {},
     "output_type": "execute_result"
    },
    {
     "data": {
      "text/plain": [
       "Text(0.5, 1.0, '배치정규화')"
      ]
     },
     "execution_count": 154,
     "metadata": {},
     "output_type": "execute_result"
    },
    {
     "data": {
      "text/plain": [
       "[<matplotlib.lines.Line2D at 0x19f06972348>]"
      ]
     },
     "execution_count": 154,
     "metadata": {},
     "output_type": "execute_result"
    },
    {
     "data": {
      "text/plain": [
       "[<matplotlib.lines.Line2D at 0x19f06972088>]"
      ]
     },
     "execution_count": 154,
     "metadata": {},
     "output_type": "execute_result"
    },
    {
     "data": {
      "text/plain": [
       "Text(0.5, 1.0, 'Momentum')"
      ]
     },
     "execution_count": 154,
     "metadata": {},
     "output_type": "execute_result"
    },
    {
     "data": {
      "text/plain": [
       "[<matplotlib.lines.Line2D at 0x19f06972a88>]"
      ]
     },
     "execution_count": 154,
     "metadata": {},
     "output_type": "execute_result"
    },
    {
     "data": {
      "text/plain": [
       "[<matplotlib.lines.Line2D at 0x19f06968688>]"
      ]
     },
     "execution_count": 154,
     "metadata": {},
     "output_type": "execute_result"
    },
    {
     "data": {
      "text/plain": [
       "Text(0.5, 1.0, 'Adam')"
      ]
     },
     "execution_count": 154,
     "metadata": {},
     "output_type": "execute_result"
    },
    {
     "data": {
      "text/plain": [
       "[<matplotlib.lines.Line2D at 0x19f06979c48>]"
      ]
     },
     "execution_count": 154,
     "metadata": {},
     "output_type": "execute_result"
    },
    {
     "data": {
      "text/plain": [
       "[<matplotlib.lines.Line2D at 0x19f06979e48>]"
      ]
     },
     "execution_count": 154,
     "metadata": {},
     "output_type": "execute_result"
    },
    {
     "data": {
      "text/plain": [
       "Text(0.5, 1.0, 'AdaGrad')"
      ]
     },
     "execution_count": 154,
     "metadata": {},
     "output_type": "execute_result"
    },
    {
     "data": {
      "text/plain": [
       "[<matplotlib.lines.Line2D at 0x19f01ad6348>]"
      ]
     },
     "execution_count": 154,
     "metadata": {},
     "output_type": "execute_result"
    },
    {
     "data": {
      "text/plain": [
       "[<matplotlib.lines.Line2D at 0x19f068f4fc8>]"
      ]
     },
     "execution_count": 154,
     "metadata": {},
     "output_type": "execute_result"
    },
    {
     "data": {
      "text/plain": [
       "Text(0.5, 1.0, '가중치 초기화 + 배치정규화 + AdaGrad')"
      ]
     },
     "execution_count": 154,
     "metadata": {},
     "output_type": "execute_result"
    },
    {
     "data": {
      "image/png": "[encoded data removed]",
      "text/plain": [
       "<Figure size 1296x576 with 8 Axes>"
      ]
     },
     "metadata": {},
     "output_type": "display_data"
    }
   ],
   "source": [
    "plt_x = np.arange(1,18)\n",
    "fig, ax = plt.subplots(2,4, figsize =(18,8))\n",
    "ax[0,0].plot(plt_x,plt_x1)\n",
    "ax[0,0].plot(plt_x,plt_y1)\n",
    "ax[0,0].set_title('오차역전파')\n",
    "ax[0,1].plot(plt_x,plt_x2)\n",
    "ax[0,1].plot(plt_x,plt_y2)\n",
    "ax[0,1].set_title('Dropout')\n",
    "ax[0,2].plot(plt_x,plt_x3)\n",
    "ax[0,2].plot(plt_x,plt_y3)\n",
    "ax[0,2].set_title('가중치 초기화')\n",
    "ax[0,3].plot(plt_x,plt_x4)\n",
    "ax[0,3].plot(plt_x,plt_y4)\n",
    "ax[0,3].set_title('배치정규화')\n",
    "ax[1,0].plot(plt_x,plt_x5)\n",
    "ax[1,0].plot(plt_x,plt_y5)\n",
    "ax[1,0].set_title('Momentum')\n",
    "ax[1,1].plot(plt_x,plt_x6)\n",
    "ax[1,1].plot(plt_x,plt_y6)\n",
    "ax[1,1].set_title('Adam')\n",
    "ax[1,2].plot(plt_x,plt_x7)\n",
    "ax[1,2].plot(plt_x,plt_y7)\n",
    "ax[1,2].set_title('AdaGrad')\n",
    "ax[1,3].plot(plt_x,plt_x8)\n",
    "ax[1,3].plot(plt_x,plt_y8)\n",
    "ax[1,3].set_title('가중치 초기화 + 배치정규화 + AdaGrad')\n",
    "plt.show()"
   ]
  },
  {
   "cell_type": "code",
   "execution_count": null,
   "metadata": {},
   "outputs": [],
   "source": []
  }
 ],
 "metadata": {
  "kernelspec": {
   "display_name": "Python 3",
   "language": "python",
   "name": "python3"
  },
  "language_info": {
   "codemirror_mode": {
    "name": "ipython",
    "version": 3
   },
   "file_extension": ".py",
   "mimetype": "text/x-python",
   "name": "python",
   "nbconvert_exporter": "python",
   "pygments_lexer": "ipython3",
   "version": "3.7.6"
  }
 },
 "nbformat": 4,
 "nbformat_minor": 4
}
