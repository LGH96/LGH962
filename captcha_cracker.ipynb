{
 "cells": [
  {
   "cell_type": "markdown",
   "id": "350f40d0-c397-4ac1-b4b8-dc9c293e20b8",
   "metadata": {},
   "source": [
    "# 준비물\n",
    "\n",
    "### 가상환경 : Captcha Crack을 하기 위해서는 패키지간의 호환이 필요하며 이를 위해 반드시 다운그레이드를 해야한다. 이 과정에서 패키지간의 충돌이 발생할 가능성이 높기 때문에 처음부터 가상환경을 설치 후 버전에 맞는 패키지 설치가 필요하다. 가상환경의 패키지는 아나콘다 프롬프트에서 가상환경 접속 후 pip install을 통해서 설치하면 된다.\n",
    "\n",
    "#### Python version : 3.9.0 \n",
    "\n",
    "- 설치 순서도 중요하다\n",
    "#### numpy version : 1.19.5\n",
    "#### captchacracker version : 0.0.7\n",
    "#### tensorflow version : 2.5.0\n",
    "#### 추가 pip instanll Pillow\n",
    "\n",
    "- 실전 사용을 위한 준비물\n",
    "#### 크롬드라이버 다운로드 후 작업환경과 같은 위치에 크롬드라이버 이동 : https://googlechromelabs.github.io/chrome-for-testing/\n"
   ]
  },
  {
   "cell_type": "code",
   "execution_count": 23,
   "id": "065c6f14-693f-44d8-8179-34ab1571ebd3",
   "metadata": {},
   "outputs": [
    {
     "name": "stdout",
     "output_type": "stream",
     "text": [
      "Python Version : 3.9.0 (default, Nov 15 2020, 08:30:55) [MSC v.1916 64 bit (AMD64)]\n",
      "Numpy Version : 1.19.5\n",
      "tensorflow Version : 2.5.0\n",
      "captchacracker Version : 0.0.7\n"
     ]
    }
   ],
   "source": [
    "import sys\n",
    "import numpy as np\n",
    "import tensorflow as tf\n",
    "import CaptchaCracker as cc\n",
    "print('Python Version :',sys.version )\n",
    "print('Numpy Version :', np.__version__)\n",
    "print('tensorflow Version :', tf.__version__)\n",
    "print('captchacracker Version :', cc.__version__)\n",
    "import requests as rq\n",
    "from selenium import webdriver\n",
    "from selenium.webdriver.chrome.service import Service\n",
    "from selenium.webdriver.support import expected_conditions as EC\n",
    "from selenium.webdriver.common.by import By\n",
    "from selenium.webdriver.common.keys import Keys\n",
    "from urllib.request import urlretrieve\n",
    "from PIL import ImageGrab\n",
    "from PIL import Image\n",
    "from selenium.common.exceptions import WebDriverException\n",
    "from selenium.webdriver.common.action_chains import ActionChains\n",
    "import glob\n",
    "import time"
   ]
  },
  {
   "cell_type": "code",
   "execution_count": null,
   "id": "21b63a79-3c11-4f1d-9dad-c135dbb4f1ba",
   "metadata": {},
   "outputs": [],
   "source": []
  },
  {
   "cell_type": "markdown",
   "id": "6996375e-8805-4ee1-99e4-b53aa83d9b42",
   "metadata": {},
   "source": [
    "# Captcha 문자는 종류가 여러개인데 해당 코드에서 사용되는 captcha 문자는 아래와 같다"
   ]
  },
  {
   "cell_type": "code",
   "execution_count": 31,
   "id": "de66849b-531b-4067-b192-542017a9dff0",
   "metadata": {},
   "outputs": [
    {
     "data": {
      "image/png": "[encoded data removed]",
      "text/plain": [
       "<IPython.core.display.Image object>"
      ]
     },
     "metadata": {},
     "output_type": "display_data"
    }
   ],
   "source": [
    "from IPython.display import Image, display\n",
    "image_path = \"munja.png\"\n",
    "display(Image(filename=image_path))"
   ]
  },
  {
   "cell_type": "code",
   "execution_count": null,
   "id": "12587234-456b-4b1c-90b2-a8cc63c395f0",
   "metadata": {},
   "outputs": [],
   "source": []
  },
  {
   "cell_type": "markdown",
   "id": "e4157bd9-d0d5-4a65-bb26-12f16f2a89a8",
   "metadata": {},
   "source": [
    "# train 데이터 수집 - 새마을금고 정기공시 사이트\n",
    "## 현재 시점(2025.01.10) 새마을금고 정기공시 조회 시 캡차 문자가 사라져서 Github에 라벨링 된 데이터 압축 파일로 업로드"
   ]
  },
  {
   "cell_type": "code",
   "execution_count": null,
   "id": "3c084573-542d-47b9-b5d3-ead7ca0f2959",
   "metadata": {},
   "outputs": [],
   "source": [
    "# train 데이터 수집\n",
    "chromedriver_path = './chromedriver.exe'\n",
    "service = Service(chromedriver_path)\n",
    "service.start()\n",
    "driver = webdriver.Chrome(service=service)\n",
    "url = f'https://www.kfcc.co.kr/gumgo/regulardisclosure.do?pageRows=10&pageUnit=10&totalRows=1284&currentPageNo=1&baseYear=2023&baseMonth=12&seachGubun=1&gumgoStDate=202312&pageNo=1'\n",
    "driver.get(url)\n",
    "time.sleep(2)\n",
    "driver.maximize_window()\n",
    "driver.find_element(By.XPATH,f'/html/body/div[3]/div[2]/div[2]/div[1]/div[1]/div/ul/li[2]/div[1]/a').click()\n",
    "time.sleep(2)\n",
    "for i in range(600):\n",
    "    with open(f'munja{i}.png', 'wb') as file: # 웹에 있는 보안문자위치 소스상에서 추출\n",
    "        l = driver.find_element(By.XPATH,'/html/body/div[3]/div[2]/div[2]/form/div/div/div/ul/li[1]/div/div/div/img') \n",
    "        file.write(l.screenshot_as_png)\n",
    "    time.sleep(1)\n",
    "    target_img_path = f'munja{i}.png'    #타켓 이미지 경로\n",
    "    time.sleep(1)\n",
    "    driver.find_element(By.XPATH,'/html/body/div[3]/div[2]/div[2]/form/div/div/div/ul/li[1]/div/div/div/input[1]').click() # 웹 페이지상의 로고침 버튼\n",
    "    time.sleep(1)\n",
    "    driver.find_element(By.XPATH,'/html/body/div[3]/div[2]/div[2]/form/div/div/div/ul/li[1]/div/div/div/input[1]').click()\n",
    "\n",
    "#이미지를 저장할 디렉토리\n",
    "source_folder = \"D:/Users/ghleec/Desktop/raw_img/\"\n",
    "# 변경된 이미지를 저장할 디렉토리\n",
    "output_folder = \"D:/Users/ghleec/Desktop/img_new/\"\n",
    "# 이미지 파일 경로 리스트\n",
    "image_paths = glob.glob(source_folder + \"*.png\")\n",
    "\n",
    "# 각 이미지에 대해\n",
    "for img_path in image_paths:\n",
    "    # 이미지 파일 로드\n",
    "    with Image.open(img_path) as img:\n",
    "        # 이미지 크기 조정, Image.Resampling.LANCZOS 사용\n",
    "        img_resized = img.resize((150, 50), Image.Resampling.LANCZOS)\n",
    "        # 변경된 이미지 저장\n",
    "        img_resized.save(output_folder + os.path.basename(img_path))"
   ]
  },
  {
   "cell_type": "markdown",
   "id": "abaab5c9-e96c-4940-b797-bc64464e115d",
   "metadata": {},
   "source": [
    "# 데이터 수집 후 직접 숫자를 라벨링하여 학습 데이터를 만들어야함. 대략 600개 정도만 되어도 정확도가 매우 높음"
   ]
  },
  {
   "cell_type": "code",
   "execution_count": null,
   "id": "3e77e79e-4865-4ad3-ac6a-4a12157ff0bb",
   "metadata": {},
   "outputs": [],
   "source": []
  },
  {
   "cell_type": "markdown",
   "id": "124ba088-a943-4c82-84d7-b40a454cf828",
   "metadata": {},
   "source": [
    "# 캡처된 이미지 학습하기"
   ]
  },
  {
   "cell_type": "code",
   "execution_count": null,
   "id": "8d6b153b-3133-4c02-adb7-5a5ebf426c2d",
   "metadata": {},
   "outputs": [],
   "source": [
    "import glob\n",
    "import CaptchaCracker as cc\n",
    "\n",
    "# 학습 데이터 경로\n",
    "train_img_path_list = glob.glob(\"D:/Users/ghleec/Desktop/raw_img/\")\n",
    "# 이미지 사이즈\n",
    "img_width = 200\n",
    "img_height = 55\n",
    "\n",
    "CM = cc.CreateModel(train_img_path_list, img_width, img_height)\n",
    "model = CM.train_model(epochs=len(train_img_path_list))\n",
    "\n",
    "# 학습 완료된 모델의 wight 저장\n",
    "model.save_weights(\"D:/Users/ghleec/Desktop/new_contry_bank.h5\")"
   ]
  },
  {
   "cell_type": "code",
   "execution_count": null,
   "id": "04479624-70c2-4cce-a80c-3820004a18e0",
   "metadata": {},
   "outputs": [],
   "source": []
  },
  {
   "cell_type": "markdown",
   "id": "5ed70924-4880-44f2-a57f-a5429e668783",
   "metadata": {},
   "source": [
    "# 학습 완료된 모델로 실제 test"
   ]
  },
  {
   "cell_type": "code",
   "execution_count": null,
   "id": "607c63dd-2ecf-4732-876a-534dcf7ff552",
   "metadata": {},
   "outputs": [],
   "source": [
    "import CaptchaCracker as cc\n",
    "\n",
    "img_width = 200\n",
    "img_height = 55\n",
    "# 타겟이 되는 숫자의 개수\n",
    "max_length = 6\n",
    "# 타겟이 되는 문자의 종류\n",
    "characters = {'0', '1', '2', '3', '4', '5', '6', '7', '8', '9'}\n",
    "\n",
    "# 모델 파일 경로\n",
    "weights_path = \"D:/Users/ghleec/Desktop/new_contry_bank.h5\"\n",
    "# 모델 적용 파라미터\n",
    "AM = cc.ApplyModel(weights_path, img_width, img_height, max_length, characters)\n",
    "\n",
    "# test시킬 파일 경로와 이름\n",
    "target_img_path = \"D:/Users/ghleec/Desktop/새 폴더/202059.png\"\n",
    "\n",
    "# 예측값\n",
    "pred = AM.predict(target_img_path)\n",
    "print(pred)"
   ]
  },
  {
   "cell_type": "code",
   "execution_count": null,
   "id": "ee550006-9f02-4dd1-bc73-29ffc1269db3",
   "metadata": {},
   "outputs": [],
   "source": []
  },
  {
   "cell_type": "code",
   "execution_count": null,
   "id": "5b47f21a-37a9-47d2-89dd-c41f53bc3a54",
   "metadata": {},
   "outputs": [],
   "source": []
  },
  {
   "cell_type": "markdown",
   "id": "8baf7ed8-a5a1-491c-9539-4bcff9cd433f",
   "metadata": {},
   "source": [
    "# 실제 크롤링 시 적용\n",
    "## 현재 시점(2025.01.10) 새마을금고 정기공시 조회 시 캡차 문자가 사라짐\n",
    "## 웹페이지는 달라져도 while문 안에 핵심 부분만 떼어서 다른 곳에 적용 가능"
   ]
  },
  {
   "cell_type": "code",
   "execution_count": null,
   "id": "d84f48dc-4573-4bdd-8275-f44b98360614",
   "metadata": {},
   "outputs": [],
   "source": [
    "# 웹 페이지 열기\n",
    "chromedriver_path = './chromedriver.exe'\n",
    "service = Service(chromedriver_path)\n",
    "service.start()\n",
    "driver = webdriver.Chrome(service=service)\n",
    "url = f'https://www.kfcc.co.kr/gumgo/regulardisclosure.do?pageRows=10&pageUnit=10&totalRows=1284&currentPageNo=1&baseYear=2023&baseMonth=12&seachGubun=1&gumgoStDate=202312&pageNo={a}'\n",
    "driver.get(url)\n",
    "time.sleep(2)\n",
    "driver.maximize_window()\n",
    "time.sleep(1)\n",
    "\n",
    "# 첫 번째 공시 자료 클릭\n",
    "driver.find_element(By.XPATH,f'/html/body/div[3]/div[2]/div[2]/div[1]/div[1]/div/ul/li[{i}]/div[1]').click()\n",
    "time.sleep(1)\n",
    "\n",
    "try:\n",
    "    if len(driver.find_element(By.XPATH,'/html/body/div[3]/div[2]/div[2]/form/div/h3').text)>0:\n",
    "        driver.back()\n",
    "        time.sleep(0.5)\n",
    "\n",
    "        # 지점 클릭\n",
    "        driver.find_element(By.XPATH,f'/html/body/div[3]/div[2]/div[2]/div[1]/div[1]/div/ul/li[{i}]/div[1]').click()\n",
    "        time.sleep(0.5)\n",
    "        ActionChains(driver).send_keys(Keys.PAGE_DOWN).perform() # 스크린샷을 위한 페이지 다운 버튼 클릭 (페이지 스크롤 내리기)\n",
    "        time.sleep(1)\n",
    "        \n",
    "        # *****여기가 핵심***********\n",
    "        while True:\n",
    "            try:\n",
    "                # 캡차 문자 뚫고 입력\n",
    "                with open('munja.png', 'wb') as file:\n",
    "                    # 이미지 파일 다운로드\n",
    "                    l = driver.find_element(By.XPATH,'/html/body/div[3]/div[2]/div[2]/form/div/div/div/ul/li[1]/div/div/div/img') \n",
    "                    file.write(l.screenshot_as_png)\n",
    "                time.sleep(1)\n",
    "                # 다운로드한 이미지 파일 파라미터 입력\n",
    "                target_img_path = 'munja.png'  \n",
    "                img_width = 200\n",
    "                img_height = 55\n",
    "                img_length = 6 \n",
    "                img_char = {'0', '1', '2', '3', '4', '5', '6', '7', '8', '9'}   \n",
    "                # 이전에 train으로 생성한 모델(weight) 적용\n",
    "                weights_path = 'D:/Users/ghleec/Desktop/new_contry_bank.h5\"\n",
    "                AM = cc.ApplyModel(weights_path, img_width, img_height, img_length, img_char)   \n",
    "                pred = AM.predict(target_img_path)  #결과 도출\n",
    "                time.sleep(4)\n",
    "                print(b_name, pred)\n",
    "                # 문자 입력 박스에 생성 된 'pred' 변수 입력\n",
    "                inputElement = driver.find_element(By.XPATH,'/html/body/div[3]/div[2]/div[2]/form/div/div/div/ul/li[2]/div/div/div/input')\n",
    "                inputElement.send_keys(pred)\n",
    "                time.sleep(0.5)\n",
    "                \n",
    "                # 로그인\n",
    "                driver.find_element(By.XPATH,'/html/body/div[3]/div[2]/div[2]/form/div/div/div/div/button[2]').click()\n",
    "                time.sleep(2)\n",
    "\n",
    "                # 테이블 크롤링\n",
    "                management_table = driver.find_element(By.XPATH, \"//table[contains(.,'25~29. 경영지표')]\").get_attribute('outerHTML')       \n",
    "                break\n",
    "            except WebDriverException as e:\n",
    "                driver.refresh() # 만약 캡차 문자를 틀렸을 경우 다시 새로고침\n",
    "                time.sleep(2)"
   ]
  }
 ],
 "metadata": {
  "kernelspec": {
   "display_name": "captcha",
   "language": "python",
   "name": "captcha"
  },
  "language_info": {
   "codemirror_mode": {
    "name": "ipython",
    "version": 3
   },
   "file_extension": ".py",
   "mimetype": "text/x-python",
   "name": "python",
   "nbconvert_exporter": "python",
   "pygments_lexer": "ipython3",
   "version": "3.9.0"
  }
 },
 "nbformat": 4,
 "nbformat_minor": 5
}
