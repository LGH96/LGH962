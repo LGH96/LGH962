{
 "cells": [
  {
   "cell_type": "code",
   "execution_count": 1,
   "metadata": {
    "scrolled": true
   },
   "outputs": [],
   "source": [
    "import numpy as np\n",
    "import pandas as pd\n",
    "from IPython.core.interactiveshell import InteractiveShell\n",
    "InteractiveShell.ast_node_interactivity= 'all'\n",
    "import seaborn as sn\n",
    "import matplotlib.pyplot as plt\n",
    "%matplotlib inline\n",
    "import matplotlib as mpl\n",
    "sn.set()\n",
    "import matplotlib.font_manager as fm\n",
    "fl = fm.FontProperties(fname =\"C:\\Windows\\Fonts\\malgun.ttf\").get_name()\n",
    "plt.rc('font',family=fl)\n",
    "from patsy import dmatrices\n",
    "import statsmodels.api as sm\n",
    "from statsmodels.stats.outliers_influence import variance_inflation_factor\n",
    "import statsmodels.formula.api as smf\n",
    "from scipy import stats"
   ]
  },
  {
   "cell_type": "code",
   "execution_count": 2,
   "metadata": {},
   "outputs": [],
   "source": [
    "from statsmodels.iolib.summary2 import summary_col\n",
    "import statsmodels.stats.stattools as tools\n",
    "import statsmodels.stats.diagnostic as sm_diagnostic\n",
    "from statsmodels.compat import lzip\n",
    "import statsmodels.stats as sm_stats\n",
    "import statsmodels.stats.outliers_influence as oi\n",
    "from patsy import dmatrices\n",
    "import statsmodels.api as sm\n",
    "from statsmodels.stats.outliers_influence import variance_inflation_factor\n",
    "import statsmodels.stats.api as sms\n",
    "from statsmodels.compat import lzip\n",
    "import statsmodels.stats.outliers_influence as oi\n",
    "import statsmodels.stats as sm_stats"
   ]
  },
  {
   "cell_type": "code",
   "execution_count": 3,
   "metadata": {
    "scrolled": true
   },
   "outputs": [
    {
     "data": {
      "text/html": [
       "<div>\n",
       "<style scoped>\n",
       "    .dataframe tbody tr th:only-of-type {\n",
       "        vertical-align: middle;\n",
       "    }\n",
       "\n",
       "    .dataframe tbody tr th {\n",
       "        vertical-align: top;\n",
       "    }\n",
       "\n",
       "    .dataframe thead th {\n",
       "        text-align: right;\n",
       "    }\n",
       "</style>\n",
       "<table border=\"1\" class=\"dataframe\">\n",
       "  <thead>\n",
       "    <tr style=\"text-align: right;\">\n",
       "      <th></th>\n",
       "      <th>2010crime</th>\n",
       "      <th>2010population</th>\n",
       "      <th>2010grand</th>\n",
       "      <th>2010population_density</th>\n",
       "      <th>2010foreigner</th>\n",
       "      <th>2010drink</th>\n",
       "      <th>2010smoke</th>\n",
       "      <th>2010academe</th>\n",
       "      <th>2010grdp</th>\n",
       "      <th>2011crime</th>\n",
       "      <th>...</th>\n",
       "      <th>2015grdp</th>\n",
       "      <th>2016crime</th>\n",
       "      <th>2016population</th>\n",
       "      <th>2016grand</th>\n",
       "      <th>2016population_density</th>\n",
       "      <th>2016foreigner</th>\n",
       "      <th>2016drink</th>\n",
       "      <th>2016smoke</th>\n",
       "      <th>2016academe</th>\n",
       "      <th>2016grdp</th>\n",
       "    </tr>\n",
       "    <tr>\n",
       "      <th>지역/연도</th>\n",
       "      <th></th>\n",
       "      <th></th>\n",
       "      <th></th>\n",
       "      <th></th>\n",
       "      <th></th>\n",
       "      <th></th>\n",
       "      <th></th>\n",
       "      <th></th>\n",
       "      <th></th>\n",
       "      <th></th>\n",
       "      <th></th>\n",
       "      <th></th>\n",
       "      <th></th>\n",
       "      <th></th>\n",
       "      <th></th>\n",
       "      <th></th>\n",
       "      <th></th>\n",
       "      <th></th>\n",
       "      <th></th>\n",
       "      <th></th>\n",
       "      <th></th>\n",
       "    </tr>\n",
       "  </thead>\n",
       "  <tbody>\n",
       "    <tr>\n",
       "      <th>서울/강남</th>\n",
       "      <td>37863</td>\n",
       "      <td>570095</td>\n",
       "      <td>44095</td>\n",
       "      <td>14418</td>\n",
       "      <td>12328</td>\n",
       "      <td>11.3</td>\n",
       "      <td>19.2</td>\n",
       "      <td>3.2</td>\n",
       "      <td>4601</td>\n",
       "      <td>38915</td>\n",
       "      <td>...</td>\n",
       "      <td>5414</td>\n",
       "      <td>14152</td>\n",
       "      <td>567115</td>\n",
       "      <td>61822</td>\n",
       "      <td>14357</td>\n",
       "      <td>9762</td>\n",
       "      <td>13.9</td>\n",
       "      <td>17.4</td>\n",
       "      <td>3.7</td>\n",
       "      <td>5514</td>\n",
       "    </tr>\n",
       "    <tr>\n",
       "      <th>서울/강동</th>\n",
       "      <td>12589</td>\n",
       "      <td>491871</td>\n",
       "      <td>39413</td>\n",
       "      <td>20011</td>\n",
       "      <td>6444</td>\n",
       "      <td>19.9</td>\n",
       "      <td>26.7</td>\n",
       "      <td>1.5</td>\n",
       "      <td>582</td>\n",
       "      <td>13814</td>\n",
       "      <td>...</td>\n",
       "      <td>640</td>\n",
       "      <td>15140</td>\n",
       "      <td>444168</td>\n",
       "      <td>53121</td>\n",
       "      <td>18063</td>\n",
       "      <td>7006</td>\n",
       "      <td>13.8</td>\n",
       "      <td>19.5</td>\n",
       "      <td>1.6</td>\n",
       "      <td>668</td>\n",
       "    </tr>\n",
       "    <tr>\n",
       "      <th>서울/강북</th>\n",
       "      <td>11355</td>\n",
       "      <td>346520</td>\n",
       "      <td>41641</td>\n",
       "      <td>14677</td>\n",
       "      <td>4497</td>\n",
       "      <td>12.5</td>\n",
       "      <td>26.0</td>\n",
       "      <td>0.8</td>\n",
       "      <td>252</td>\n",
       "      <td>11610</td>\n",
       "      <td>...</td>\n",
       "      <td>234</td>\n",
       "      <td>12725</td>\n",
       "      <td>327195</td>\n",
       "      <td>53964</td>\n",
       "      <td>13866</td>\n",
       "      <td>5243</td>\n",
       "      <td>19.2</td>\n",
       "      <td>21.5</td>\n",
       "      <td>0.7</td>\n",
       "      <td>246</td>\n",
       "    </tr>\n",
       "    <tr>\n",
       "      <th>서울/강서</th>\n",
       "      <td>17778</td>\n",
       "      <td>574127</td>\n",
       "      <td>50189</td>\n",
       "      <td>13861</td>\n",
       "      <td>8309</td>\n",
       "      <td>12.7</td>\n",
       "      <td>22.3</td>\n",
       "      <td>1.2</td>\n",
       "      <td>706</td>\n",
       "      <td>18808</td>\n",
       "      <td>...</td>\n",
       "      <td>873</td>\n",
       "      <td>9267</td>\n",
       "      <td>595485</td>\n",
       "      <td>70889</td>\n",
       "      <td>14371</td>\n",
       "      <td>10309</td>\n",
       "      <td>14.0</td>\n",
       "      <td>19.6</td>\n",
       "      <td>1.2</td>\n",
       "      <td>952</td>\n",
       "    </tr>\n",
       "    <tr>\n",
       "      <th>서울/관악</th>\n",
       "      <td>16182</td>\n",
       "      <td>531434</td>\n",
       "      <td>50350</td>\n",
       "      <td>17972</td>\n",
       "      <td>21511</td>\n",
       "      <td>18.7</td>\n",
       "      <td>23.8</td>\n",
       "      <td>1.0</td>\n",
       "      <td>447</td>\n",
       "      <td>17000</td>\n",
       "      <td>...</td>\n",
       "      <td>470</td>\n",
       "      <td>13869</td>\n",
       "      <td>506851</td>\n",
       "      <td>66659</td>\n",
       "      <td>17141</td>\n",
       "      <td>27794</td>\n",
       "      <td>14.2</td>\n",
       "      <td>22.5</td>\n",
       "      <td>0.9</td>\n",
       "      <td>475</td>\n",
       "    </tr>\n",
       "    <tr>\n",
       "      <th>서울/광진</th>\n",
       "      <td>13443</td>\n",
       "      <td>375463</td>\n",
       "      <td>32034</td>\n",
       "      <td>22008</td>\n",
       "      <td>14857</td>\n",
       "      <td>14.7</td>\n",
       "      <td>25.3</td>\n",
       "      <td>1.2</td>\n",
       "      <td>513</td>\n",
       "      <td>13663</td>\n",
       "      <td>...</td>\n",
       "      <td>503</td>\n",
       "      <td>13659</td>\n",
       "      <td>357215</td>\n",
       "      <td>41292</td>\n",
       "      <td>20935</td>\n",
       "      <td>19231</td>\n",
       "      <td>17.4</td>\n",
       "      <td>20.5</td>\n",
       "      <td>1.2</td>\n",
       "      <td>526</td>\n",
       "    </tr>\n",
       "    <tr>\n",
       "      <th>서울/구로</th>\n",
       "      <td>13986</td>\n",
       "      <td>423736</td>\n",
       "      <td>38829</td>\n",
       "      <td>21060</td>\n",
       "      <td>32391</td>\n",
       "      <td>18.2</td>\n",
       "      <td>23.1</td>\n",
       "      <td>1.0</td>\n",
       "      <td>960</td>\n",
       "      <td>16475</td>\n",
       "      <td>...</td>\n",
       "      <td>1017</td>\n",
       "      <td>13329</td>\n",
       "      <td>417551</td>\n",
       "      <td>55159</td>\n",
       "      <td>20754</td>\n",
       "      <td>46229</td>\n",
       "      <td>14.9</td>\n",
       "      <td>22.8</td>\n",
       "      <td>1.0</td>\n",
       "      <td>1077</td>\n",
       "    </tr>\n",
       "    <tr>\n",
       "      <th>서울/금천</th>\n",
       "      <td>9472</td>\n",
       "      <td>245195</td>\n",
       "      <td>23675</td>\n",
       "      <td>18861</td>\n",
       "      <td>21368</td>\n",
       "      <td>22.0</td>\n",
       "      <td>26.5</td>\n",
       "      <td>1.0</td>\n",
       "      <td>1130</td>\n",
       "      <td>10740</td>\n",
       "      <td>...</td>\n",
       "      <td>1222</td>\n",
       "      <td>11615</td>\n",
       "      <td>235386</td>\n",
       "      <td>31976</td>\n",
       "      <td>18080</td>\n",
       "      <td>28434</td>\n",
       "      <td>20.5</td>\n",
       "      <td>25.6</td>\n",
       "      <td>0.9</td>\n",
       "      <td>1326</td>\n",
       "    </tr>\n",
       "    <tr>\n",
       "      <th>서울/노원</th>\n",
       "      <td>12631</td>\n",
       "      <td>611230</td>\n",
       "      <td>56977</td>\n",
       "      <td>17247</td>\n",
       "      <td>5630</td>\n",
       "      <td>17.3</td>\n",
       "      <td>24.5</td>\n",
       "      <td>0.6</td>\n",
       "      <td>413</td>\n",
       "      <td>12830</td>\n",
       "      <td>...</td>\n",
       "      <td>445</td>\n",
       "      <td>10857</td>\n",
       "      <td>567581</td>\n",
       "      <td>70819</td>\n",
       "      <td>16016</td>\n",
       "      <td>5444</td>\n",
       "      <td>18.0</td>\n",
       "      <td>19.9</td>\n",
       "      <td>1.4</td>\n",
       "      <td>461</td>\n",
       "    </tr>\n",
       "    <tr>\n",
       "      <th>서울/도봉</th>\n",
       "      <td>8145</td>\n",
       "      <td>368298</td>\n",
       "      <td>38185</td>\n",
       "      <td>17792</td>\n",
       "      <td>3425</td>\n",
       "      <td>16.1</td>\n",
       "      <td>26.9</td>\n",
       "      <td>0.6</td>\n",
       "      <td>228</td>\n",
       "      <td>8463</td>\n",
       "      <td>...</td>\n",
       "      <td>234</td>\n",
       "      <td>7618</td>\n",
       "      <td>348220</td>\n",
       "      <td>50466</td>\n",
       "      <td>16848</td>\n",
       "      <td>3213</td>\n",
       "      <td>17.4</td>\n",
       "      <td>22.7</td>\n",
       "      <td>1.1</td>\n",
       "      <td>243</td>\n",
       "    </tr>\n",
       "  </tbody>\n",
       "</table>\n",
       "<p>10 rows × 63 columns</p>\n",
       "</div>"
      ],
      "text/plain": [
       "       2010crime  2010population  2010grand  2010population_density  \\\n",
       "지역/연도                                                                 \n",
       "서울/강남      37863          570095      44095                   14418   \n",
       "서울/강동      12589          491871      39413                   20011   \n",
       "서울/강북      11355          346520      41641                   14677   \n",
       "서울/강서      17778          574127      50189                   13861   \n",
       "서울/관악      16182          531434      50350                   17972   \n",
       "서울/광진      13443          375463      32034                   22008   \n",
       "서울/구로      13986          423736      38829                   21060   \n",
       "서울/금천       9472          245195      23675                   18861   \n",
       "서울/노원      12631          611230      56977                   17247   \n",
       "서울/도봉       8145          368298      38185                   17792   \n",
       "\n",
       "       2010foreigner  2010drink  2010smoke  2010academe  2010grdp  2011crime  \\\n",
       "지역/연도                                                                          \n",
       "서울/강남          12328       11.3       19.2          3.2      4601      38915   \n",
       "서울/강동           6444       19.9       26.7          1.5       582      13814   \n",
       "서울/강북           4497       12.5       26.0          0.8       252      11610   \n",
       "서울/강서           8309       12.7       22.3          1.2       706      18808   \n",
       "서울/관악          21511       18.7       23.8          1.0       447      17000   \n",
       "서울/광진          14857       14.7       25.3          1.2       513      13663   \n",
       "서울/구로          32391       18.2       23.1          1.0       960      16475   \n",
       "서울/금천          21368       22.0       26.5          1.0      1130      10740   \n",
       "서울/노원           5630       17.3       24.5          0.6       413      12830   \n",
       "서울/도봉           3425       16.1       26.9          0.6       228       8463   \n",
       "\n",
       "       ...  2015grdp  2016crime  2016population  2016grand  \\\n",
       "지역/연도  ...                                                   \n",
       "서울/강남  ...      5414      14152          567115      61822   \n",
       "서울/강동  ...       640      15140          444168      53121   \n",
       "서울/강북  ...       234      12725          327195      53964   \n",
       "서울/강서  ...       873       9267          595485      70889   \n",
       "서울/관악  ...       470      13869          506851      66659   \n",
       "서울/광진  ...       503      13659          357215      41292   \n",
       "서울/구로  ...      1017      13329          417551      55159   \n",
       "서울/금천  ...      1222      11615          235386      31976   \n",
       "서울/노원  ...       445      10857          567581      70819   \n",
       "서울/도봉  ...       234       7618          348220      50466   \n",
       "\n",
       "       2016population_density  2016foreigner 2016drink  2016smoke  \\\n",
       "지역/연도                                                               \n",
       "서울/강남                   14357           9762      13.9       17.4   \n",
       "서울/강동                   18063           7006      13.8       19.5   \n",
       "서울/강북                   13866           5243      19.2       21.5   \n",
       "서울/강서                   14371          10309      14.0       19.6   \n",
       "서울/관악                   17141          27794      14.2       22.5   \n",
       "서울/광진                   20935          19231      17.4       20.5   \n",
       "서울/구로                   20754          46229      14.9       22.8   \n",
       "서울/금천                   18080          28434      20.5       25.6   \n",
       "서울/노원                   16016           5444      18.0       19.9   \n",
       "서울/도봉                   16848           3213      17.4       22.7   \n",
       "\n",
       "       2016academe  2016grdp  \n",
       "지역/연도                         \n",
       "서울/강남          3.7      5514  \n",
       "서울/강동          1.6       668  \n",
       "서울/강북          0.7       246  \n",
       "서울/강서          1.2       952  \n",
       "서울/관악          0.9       475  \n",
       "서울/광진          1.2       526  \n",
       "서울/구로          1.0      1077  \n",
       "서울/금천          0.9      1326  \n",
       "서울/노원          1.4       461  \n",
       "서울/도봉          1.1       243  \n",
       "\n",
       "[10 rows x 63 columns]"
      ]
     },
     "execution_count": 3,
     "metadata": {},
     "output_type": "execute_result"
    }
   ],
   "source": [
    "df=pd.read_csv('data5.csv',encoding=\"UTF-8\",index_col=0)\n",
    "df.head(10)"
   ]
  },
  {
   "cell_type": "code",
   "execution_count": 8,
   "metadata": {},
   "outputs": [
    {
     "data": {
      "text/plain": [
       "[3.82706858849707,\n",
       " 4.032997797583936,\n",
       " 4.581467607321126,\n",
       " 4.712449447145789,\n",
       " 4.567410103246846,\n",
       " 4.701849764184727,\n",
       " 4.542723137187989]"
      ]
     },
     "execution_count": 8,
     "metadata": {},
     "output_type": "execute_result"
    },
    {
     "data": {
      "text/plain": [
       "4.712449447145789"
      ]
     },
     "execution_count": 8,
     "metadata": {},
     "output_type": "execute_result"
    }
   ],
   "source": [
    "plt_y = [np.mean(df['2010crime']/df['2010population'])*100,\n",
    "        np.mean(df['2011crime']/df['2011population'])*100,\n",
    "        np.mean(df['2012crime']/df['2012population'])*100,\n",
    "        np.mean(df['2013crime']/df['2013population'])*100,\n",
    "        np.mean(df['2014crime']/df['2014population'])*100,\n",
    "        np.mean(df['2015crime']/df['2015population'])*100,\n",
    "        np.mean(df['2016crime']/df['2016population'])*100]\n",
    "plt_y\n",
    "np.max(plt_y)"
   ]
  },
  {
   "cell_type": "code",
   "execution_count": 14,
   "metadata": {},
   "outputs": [
    {
     "data": {
      "text/plain": [
       "[<matplotlib.lines.Line2D at 0x12c5a59fc48>]"
      ]
     },
     "execution_count": 14,
     "metadata": {},
     "output_type": "execute_result"
    },
    {
     "data": {
      "image/png": "[encoded data removed]",
      "text/plain": [
       "<Figure size 432x288 with 1 Axes>"
      ]
     },
     "metadata": {},
     "output_type": "display_data"
    }
   ],
   "source": [
    "plt_x = ['2010','2011','2012','2013','2014','2015','2016']\n",
    "plt.plot(plt_x,plt_y)\n",
    "plt.show()"
   ]
  },
  {
   "cell_type": "code",
   "execution_count": null,
   "metadata": {},
   "outputs": [],
   "source": []
  },
  {
   "cell_type": "code",
   "execution_count": 192,
   "metadata": {},
   "outputs": [
    {
     "data": {
      "text/html": [
       "<div>\n",
       "<style scoped>\n",
       "    .dataframe tbody tr th:only-of-type {\n",
       "        vertical-align: middle;\n",
       "    }\n",
       "\n",
       "    .dataframe tbody tr th {\n",
       "        vertical-align: top;\n",
       "    }\n",
       "\n",
       "    .dataframe thead th {\n",
       "        text-align: right;\n",
       "    }\n",
       "</style>\n",
       "<table border=\"1\" class=\"dataframe\">\n",
       "  <thead>\n",
       "    <tr style=\"text-align: right;\">\n",
       "      <th></th>\n",
       "      <th>2013crime</th>\n",
       "      <th>2013population</th>\n",
       "      <th>2013grand</th>\n",
       "      <th>2013population_density</th>\n",
       "      <th>2013foreigner</th>\n",
       "      <th>2013drink</th>\n",
       "      <th>2013smoke</th>\n",
       "      <th>2013academe</th>\n",
       "      <th>2013grdp</th>\n",
       "    </tr>\n",
       "    <tr>\n",
       "      <th>지역/연도</th>\n",
       "      <th></th>\n",
       "      <th></th>\n",
       "      <th></th>\n",
       "      <th></th>\n",
       "      <th></th>\n",
       "      <th></th>\n",
       "      <th></th>\n",
       "      <th></th>\n",
       "      <th></th>\n",
       "    </tr>\n",
       "  </thead>\n",
       "  <tbody>\n",
       "    <tr>\n",
       "      <th>서울/강남</th>\n",
       "      <td>13568</td>\n",
       "      <td>563599</td>\n",
       "      <td>53300</td>\n",
       "      <td>14268</td>\n",
       "      <td>12642</td>\n",
       "      <td>17.4</td>\n",
       "      <td>23.2</td>\n",
       "      <td>3.6</td>\n",
       "      <td>4835</td>\n",
       "    </tr>\n",
       "    <tr>\n",
       "      <th>서울/강동</th>\n",
       "      <td>15470</td>\n",
       "      <td>483379</td>\n",
       "      <td>47722</td>\n",
       "      <td>19660</td>\n",
       "      <td>7761</td>\n",
       "      <td>17.4</td>\n",
       "      <td>23.2</td>\n",
       "      <td>1.5</td>\n",
       "      <td>612</td>\n",
       "    </tr>\n",
       "    <tr>\n",
       "      <th>서울/강북</th>\n",
       "      <td>12573</td>\n",
       "      <td>338707</td>\n",
       "      <td>48465</td>\n",
       "      <td>14354</td>\n",
       "      <td>5114</td>\n",
       "      <td>19.7</td>\n",
       "      <td>24.1</td>\n",
       "      <td>0.7</td>\n",
       "      <td>246</td>\n",
       "    </tr>\n",
       "    <tr>\n",
       "      <th>서울/강서</th>\n",
       "      <td>10332</td>\n",
       "      <td>569070</td>\n",
       "      <td>59330</td>\n",
       "      <td>13737</td>\n",
       "      <td>10066</td>\n",
       "      <td>16.2</td>\n",
       "      <td>22.2</td>\n",
       "      <td>1.2</td>\n",
       "      <td>794</td>\n",
       "    </tr>\n",
       "    <tr>\n",
       "      <th>서울/관악</th>\n",
       "      <td>15056</td>\n",
       "      <td>518028</td>\n",
       "      <td>59333</td>\n",
       "      <td>17519</td>\n",
       "      <td>25920</td>\n",
       "      <td>19.1</td>\n",
       "      <td>23.0</td>\n",
       "      <td>0.9</td>\n",
       "      <td>465</td>\n",
       "    </tr>\n",
       "  </tbody>\n",
       "</table>\n",
       "</div>"
      ],
      "text/plain": [
       "       2013crime  2013population  2013grand  2013population_density  \\\n",
       "지역/연도                                                                 \n",
       "서울/강남      13568          563599      53300                   14268   \n",
       "서울/강동      15470          483379      47722                   19660   \n",
       "서울/강북      12573          338707      48465                   14354   \n",
       "서울/강서      10332          569070      59330                   13737   \n",
       "서울/관악      15056          518028      59333                   17519   \n",
       "\n",
       "       2013foreigner  2013drink  2013smoke  2013academe  2013grdp  \n",
       "지역/연도                                                              \n",
       "서울/강남          12642       17.4       23.2          3.6      4835  \n",
       "서울/강동           7761       17.4       23.2          1.5       612  \n",
       "서울/강북           5114       19.7       24.1          0.7       246  \n",
       "서울/강서          10066       16.2       22.2          1.2       794  \n",
       "서울/관악          25920       19.1       23.0          0.9       465  "
      ]
     },
     "execution_count": 192,
     "metadata": {},
     "output_type": "execute_result"
    },
    {
     "data": {
      "text/html": [
       "<div>\n",
       "<style scoped>\n",
       "    .dataframe tbody tr th:only-of-type {\n",
       "        vertical-align: middle;\n",
       "    }\n",
       "\n",
       "    .dataframe tbody tr th {\n",
       "        vertical-align: top;\n",
       "    }\n",
       "\n",
       "    .dataframe thead th {\n",
       "        text-align: right;\n",
       "    }\n",
       "</style>\n",
       "<table border=\"1\" class=\"dataframe\">\n",
       "  <thead>\n",
       "    <tr style=\"text-align: right;\">\n",
       "      <th></th>\n",
       "      <th>2013crime</th>\n",
       "      <th>2013population</th>\n",
       "      <th>2013grand</th>\n",
       "      <th>2013population_density</th>\n",
       "      <th>2013foreigner</th>\n",
       "      <th>2013drink</th>\n",
       "      <th>2013smoke</th>\n",
       "      <th>2013academe</th>\n",
       "      <th>2013grdp</th>\n",
       "    </tr>\n",
       "    <tr>\n",
       "      <th>지역/연도</th>\n",
       "      <th></th>\n",
       "      <th></th>\n",
       "      <th></th>\n",
       "      <th></th>\n",
       "      <th></th>\n",
       "      <th></th>\n",
       "      <th></th>\n",
       "      <th></th>\n",
       "      <th></th>\n",
       "    </tr>\n",
       "  </thead>\n",
       "  <tbody>\n",
       "    <tr>\n",
       "      <th>춘천</th>\n",
       "      <td>7530</td>\n",
       "      <td>205479</td>\n",
       "      <td>39467</td>\n",
       "      <td>246</td>\n",
       "      <td>3586</td>\n",
       "      <td>18.3</td>\n",
       "      <td>24.7</td>\n",
       "      <td>1.7</td>\n",
       "      <td>545</td>\n",
       "    </tr>\n",
       "    <tr>\n",
       "      <th>충주</th>\n",
       "      <td>7577</td>\n",
       "      <td>189680</td>\n",
       "      <td>32525</td>\n",
       "      <td>212</td>\n",
       "      <td>3718</td>\n",
       "      <td>14.5</td>\n",
       "      <td>24.3</td>\n",
       "      <td>1.6</td>\n",
       "      <td>505</td>\n",
       "    </tr>\n",
       "    <tr>\n",
       "      <th>파주</th>\n",
       "      <td>5695</td>\n",
       "      <td>165837</td>\n",
       "      <td>45783</td>\n",
       "      <td>597</td>\n",
       "      <td>10455</td>\n",
       "      <td>20.5</td>\n",
       "      <td>26.2</td>\n",
       "      <td>1.1</td>\n",
       "      <td>1200</td>\n",
       "    </tr>\n",
       "    <tr>\n",
       "      <th>평택</th>\n",
       "      <td>5214</td>\n",
       "      <td>137204</td>\n",
       "      <td>47683</td>\n",
       "      <td>966</td>\n",
       "      <td>16950</td>\n",
       "      <td>20.0</td>\n",
       "      <td>24.0</td>\n",
       "      <td>1.4</td>\n",
       "      <td>2103</td>\n",
       "    </tr>\n",
       "    <tr>\n",
       "      <th>포항</th>\n",
       "      <td>4482</td>\n",
       "      <td>125844</td>\n",
       "      <td>58746</td>\n",
       "      <td>460</td>\n",
       "      <td>5474</td>\n",
       "      <td>17.8</td>\n",
       "      <td>23.5</td>\n",
       "      <td>1.6</td>\n",
       "      <td>1687</td>\n",
       "    </tr>\n",
       "  </tbody>\n",
       "</table>\n",
       "</div>"
      ],
      "text/plain": [
       "       2013crime  2013population  2013grand  2013population_density  \\\n",
       "지역/연도                                                                 \n",
       "춘천          7530          205479      39467                     246   \n",
       "충주          7577          189680      32525                     212   \n",
       "파주          5695          165837      45783                     597   \n",
       "평택          5214          137204      47683                     966   \n",
       "포항          4482          125844      58746                     460   \n",
       "\n",
       "       2013foreigner  2013drink  2013smoke  2013academe  2013grdp  \n",
       "지역/연도                                                              \n",
       "춘천              3586       18.3       24.7          1.7       545  \n",
       "충주              3718       14.5       24.3          1.6       505  \n",
       "파주             10455       20.5       26.2          1.1      1200  \n",
       "평택             16950       20.0       24.0          1.4      2103  \n",
       "포항              5474       17.8       23.5          1.6      1687  "
      ]
     },
     "execution_count": 192,
     "metadata": {},
     "output_type": "execute_result"
    }
   ],
   "source": [
    "df_index = df.index\n",
    "df_columns =['2013crime','2013population','2013grand','2013population_density','2013foreigner','2013drink','2013smoke','2013academe','2013grdp']\n",
    "df1 =df[df_columns]\n",
    "df1.head()\n",
    "df1.tail()"
   ]
  },
  {
   "cell_type": "code",
   "execution_count": 173,
   "metadata": {},
   "outputs": [],
   "source": [
    "earth = round(df1['2013population']/df1['2013population_density'],2)"
   ]
  },
  {
   "cell_type": "code",
   "execution_count": 209,
   "metadata": {
    "scrolled": true
   },
   "outputs": [
    {
     "data": {
      "text/html": [
       "<div>\n",
       "<style scoped>\n",
       "    .dataframe tbody tr th:only-of-type {\n",
       "        vertical-align: middle;\n",
       "    }\n",
       "\n",
       "    .dataframe tbody tr th {\n",
       "        vertical-align: top;\n",
       "    }\n",
       "\n",
       "    .dataframe thead th {\n",
       "        text-align: right;\n",
       "    }\n",
       "</style>\n",
       "<table border=\"1\" class=\"dataframe\">\n",
       "  <thead>\n",
       "    <tr style=\"text-align: right;\">\n",
       "      <th></th>\n",
       "      <th>foreigner</th>\n",
       "      <th>grand</th>\n",
       "      <th>grdp</th>\n",
       "      <th>drink</th>\n",
       "      <th>smoke</th>\n",
       "      <th>academe</th>\n",
       "      <th>population_density</th>\n",
       "      <th>crime</th>\n",
       "    </tr>\n",
       "    <tr>\n",
       "      <th>지역/연도</th>\n",
       "      <th></th>\n",
       "      <th></th>\n",
       "      <th></th>\n",
       "      <th></th>\n",
       "      <th></th>\n",
       "      <th></th>\n",
       "      <th></th>\n",
       "      <th></th>\n",
       "    </tr>\n",
       "  </thead>\n",
       "  <tbody>\n",
       "    <tr>\n",
       "      <th>서울/강남</th>\n",
       "      <td>2.243084</td>\n",
       "      <td>9.457079</td>\n",
       "      <td>8.578794</td>\n",
       "      <td>17.4</td>\n",
       "      <td>23.2</td>\n",
       "      <td>3.6</td>\n",
       "      <td>14268</td>\n",
       "      <td>0.878541</td>\n",
       "    </tr>\n",
       "    <tr>\n",
       "      <th>서울/강동</th>\n",
       "      <td>1.605572</td>\n",
       "      <td>9.872584</td>\n",
       "      <td>1.266087</td>\n",
       "      <td>17.4</td>\n",
       "      <td>23.2</td>\n",
       "      <td>1.5</td>\n",
       "      <td>19660</td>\n",
       "      <td>1.163272</td>\n",
       "    </tr>\n",
       "    <tr>\n",
       "      <th>서울/강북</th>\n",
       "      <td>1.509860</td>\n",
       "      <td>14.308827</td>\n",
       "      <td>0.726291</td>\n",
       "      <td>19.7</td>\n",
       "      <td>24.1</td>\n",
       "      <td>0.7</td>\n",
       "      <td>14354</td>\n",
       "      <td>1.311586</td>\n",
       "    </tr>\n",
       "    <tr>\n",
       "      <th>서울/강서</th>\n",
       "      <td>1.768851</td>\n",
       "      <td>10.425782</td>\n",
       "      <td>1.395259</td>\n",
       "      <td>16.2</td>\n",
       "      <td>22.2</td>\n",
       "      <td>1.2</td>\n",
       "      <td>13737</td>\n",
       "      <td>0.596413</td>\n",
       "    </tr>\n",
       "    <tr>\n",
       "      <th>서울/관악</th>\n",
       "      <td>5.003591</td>\n",
       "      <td>11.453628</td>\n",
       "      <td>0.897635</td>\n",
       "      <td>19.1</td>\n",
       "      <td>23.0</td>\n",
       "      <td>0.9</td>\n",
       "      <td>17519</td>\n",
       "      <td>1.066917</td>\n",
       "    </tr>\n",
       "    <tr>\n",
       "      <th>...</th>\n",
       "      <td>...</td>\n",
       "      <td>...</td>\n",
       "      <td>...</td>\n",
       "      <td>...</td>\n",
       "      <td>...</td>\n",
       "      <td>...</td>\n",
       "      <td>...</td>\n",
       "      <td>...</td>\n",
       "    </tr>\n",
       "    <tr>\n",
       "      <th>춘천</th>\n",
       "      <td>1.745191</td>\n",
       "      <td>19.207316</td>\n",
       "      <td>2.652339</td>\n",
       "      <td>18.3</td>\n",
       "      <td>24.7</td>\n",
       "      <td>1.7</td>\n",
       "      <td>246</td>\n",
       "      <td>1.298721</td>\n",
       "    </tr>\n",
       "    <tr>\n",
       "      <th>충주</th>\n",
       "      <td>1.960143</td>\n",
       "      <td>17.147301</td>\n",
       "      <td>2.662379</td>\n",
       "      <td>14.5</td>\n",
       "      <td>24.3</td>\n",
       "      <td>1.6</td>\n",
       "      <td>212</td>\n",
       "      <td>1.384949</td>\n",
       "    </tr>\n",
       "    <tr>\n",
       "      <th>파주</th>\n",
       "      <td>6.304383</td>\n",
       "      <td>27.607229</td>\n",
       "      <td>7.236021</td>\n",
       "      <td>20.5</td>\n",
       "      <td>26.2</td>\n",
       "      <td>1.1</td>\n",
       "      <td>597</td>\n",
       "      <td>1.233753</td>\n",
       "    </tr>\n",
       "    <tr>\n",
       "      <th>평택</th>\n",
       "      <td>12.353867</td>\n",
       "      <td>34.753360</td>\n",
       "      <td>15.327541</td>\n",
       "      <td>20.0</td>\n",
       "      <td>24.0</td>\n",
       "      <td>1.4</td>\n",
       "      <td>966</td>\n",
       "      <td>1.335049</td>\n",
       "    </tr>\n",
       "    <tr>\n",
       "      <th>포항</th>\n",
       "      <td>4.349830</td>\n",
       "      <td>46.681606</td>\n",
       "      <td>13.405486</td>\n",
       "      <td>17.8</td>\n",
       "      <td>23.5</td>\n",
       "      <td>1.6</td>\n",
       "      <td>460</td>\n",
       "      <td>1.270197</td>\n",
       "    </tr>\n",
       "  </tbody>\n",
       "</table>\n",
       "<p>117 rows × 8 columns</p>\n",
       "</div>"
      ],
      "text/plain": [
       "       foreigner      grand       grdp  drink  smoke  academe  \\\n",
       "지역/연도                                                           \n",
       "서울/강남   2.243084   9.457079   8.578794   17.4   23.2      3.6   \n",
       "서울/강동   1.605572   9.872584   1.266087   17.4   23.2      1.5   \n",
       "서울/강북   1.509860  14.308827   0.726291   19.7   24.1      0.7   \n",
       "서울/강서   1.768851  10.425782   1.395259   16.2   22.2      1.2   \n",
       "서울/관악   5.003591  11.453628   0.897635   19.1   23.0      0.9   \n",
       "...          ...        ...        ...    ...    ...      ...   \n",
       "춘천      1.745191  19.207316   2.652339   18.3   24.7      1.7   \n",
       "충주      1.960143  17.147301   2.662379   14.5   24.3      1.6   \n",
       "파주      6.304383  27.607229   7.236021   20.5   26.2      1.1   \n",
       "평택     12.353867  34.753360  15.327541   20.0   24.0      1.4   \n",
       "포항      4.349830  46.681606  13.405486   17.8   23.5      1.6   \n",
       "\n",
       "       population_density     crime  \n",
       "지역/연도                                \n",
       "서울/강남               14268  0.878541  \n",
       "서울/강동               19660  1.163272  \n",
       "서울/강북               14354  1.311586  \n",
       "서울/강서               13737  0.596413  \n",
       "서울/관악               17519  1.066917  \n",
       "...                   ...       ...  \n",
       "춘천                    246  1.298721  \n",
       "충주                    212  1.384949  \n",
       "파주                    597  1.233753  \n",
       "평택                    966  1.335049  \n",
       "포항                    460  1.270197  \n",
       "\n",
       "[117 rows x 8 columns]"
      ]
     },
     "execution_count": 209,
     "metadata": {},
     "output_type": "execute_result"
    }
   ],
   "source": [
    "df2 = pd.DataFrame({'foreigner':(df1['2013foreigner']/(df1['2013population']))*100,\n",
    "                    'grand': (df1['2013grand']/df1['2013population'])*100,\n",
    "                    'grdp' : (df1['2013grdp']/df1['2013population'])*1000,\n",
    "                    'drink':(df['2013drink']),\n",
    "                    'smoke':(df['2013smoke']),\n",
    "                    'academe':(df['2013academe']),\n",
    "                    'population_density' : (df['2013population_density']),\n",
    "                    'crime':np.log((df1['2013crime']/df1['2013population'])*100)})\n",
    "df2"
   ]
  },
  {
   "cell_type": "code",
   "execution_count": 210,
   "metadata": {},
   "outputs": [],
   "source": [
    "df3 = df1.drop(df1.columns[[0,1,2,3,4,5,6,7,8]],axis = 1)"
   ]
  },
  {
   "cell_type": "code",
   "execution_count": 211,
   "metadata": {},
   "outputs": [
    {
     "data": {
      "text/html": [
       "<div>\n",
       "<style scoped>\n",
       "    .dataframe tbody tr th:only-of-type {\n",
       "        vertical-align: middle;\n",
       "    }\n",
       "\n",
       "    .dataframe tbody tr th {\n",
       "        vertical-align: top;\n",
       "    }\n",
       "\n",
       "    .dataframe thead th {\n",
       "        text-align: right;\n",
       "    }\n",
       "</style>\n",
       "<table border=\"1\" class=\"dataframe\">\n",
       "  <thead>\n",
       "    <tr style=\"text-align: right;\">\n",
       "      <th></th>\n",
       "      <th>foreigner</th>\n",
       "      <th>grand</th>\n",
       "      <th>grdp</th>\n",
       "      <th>drink</th>\n",
       "      <th>smoke</th>\n",
       "      <th>academe</th>\n",
       "      <th>population_density</th>\n",
       "      <th>crime</th>\n",
       "    </tr>\n",
       "    <tr>\n",
       "      <th>지역/연도</th>\n",
       "      <th></th>\n",
       "      <th></th>\n",
       "      <th></th>\n",
       "      <th></th>\n",
       "      <th></th>\n",
       "      <th></th>\n",
       "      <th></th>\n",
       "      <th></th>\n",
       "    </tr>\n",
       "  </thead>\n",
       "  <tbody>\n",
       "    <tr>\n",
       "      <th>서울/강남</th>\n",
       "      <td>2.243084</td>\n",
       "      <td>9.457079</td>\n",
       "      <td>8.578794</td>\n",
       "      <td>17.4</td>\n",
       "      <td>23.2</td>\n",
       "      <td>3.6</td>\n",
       "      <td>14268</td>\n",
       "      <td>0.878541</td>\n",
       "    </tr>\n",
       "    <tr>\n",
       "      <th>서울/강동</th>\n",
       "      <td>1.605572</td>\n",
       "      <td>9.872584</td>\n",
       "      <td>1.266087</td>\n",
       "      <td>17.4</td>\n",
       "      <td>23.2</td>\n",
       "      <td>1.5</td>\n",
       "      <td>19660</td>\n",
       "      <td>1.163272</td>\n",
       "    </tr>\n",
       "    <tr>\n",
       "      <th>서울/강북</th>\n",
       "      <td>1.509860</td>\n",
       "      <td>14.308827</td>\n",
       "      <td>0.726291</td>\n",
       "      <td>19.7</td>\n",
       "      <td>24.1</td>\n",
       "      <td>0.7</td>\n",
       "      <td>14354</td>\n",
       "      <td>1.311586</td>\n",
       "    </tr>\n",
       "    <tr>\n",
       "      <th>서울/강서</th>\n",
       "      <td>1.768851</td>\n",
       "      <td>10.425782</td>\n",
       "      <td>1.395259</td>\n",
       "      <td>16.2</td>\n",
       "      <td>22.2</td>\n",
       "      <td>1.2</td>\n",
       "      <td>13737</td>\n",
       "      <td>0.596413</td>\n",
       "    </tr>\n",
       "    <tr>\n",
       "      <th>서울/관악</th>\n",
       "      <td>5.003591</td>\n",
       "      <td>11.453628</td>\n",
       "      <td>0.897635</td>\n",
       "      <td>19.1</td>\n",
       "      <td>23.0</td>\n",
       "      <td>0.9</td>\n",
       "      <td>17519</td>\n",
       "      <td>1.066917</td>\n",
       "    </tr>\n",
       "    <tr>\n",
       "      <th>...</th>\n",
       "      <td>...</td>\n",
       "      <td>...</td>\n",
       "      <td>...</td>\n",
       "      <td>...</td>\n",
       "      <td>...</td>\n",
       "      <td>...</td>\n",
       "      <td>...</td>\n",
       "      <td>...</td>\n",
       "    </tr>\n",
       "    <tr>\n",
       "      <th>춘천</th>\n",
       "      <td>1.745191</td>\n",
       "      <td>19.207316</td>\n",
       "      <td>2.652339</td>\n",
       "      <td>18.3</td>\n",
       "      <td>24.7</td>\n",
       "      <td>1.7</td>\n",
       "      <td>246</td>\n",
       "      <td>1.298721</td>\n",
       "    </tr>\n",
       "    <tr>\n",
       "      <th>충주</th>\n",
       "      <td>1.960143</td>\n",
       "      <td>17.147301</td>\n",
       "      <td>2.662379</td>\n",
       "      <td>14.5</td>\n",
       "      <td>24.3</td>\n",
       "      <td>1.6</td>\n",
       "      <td>212</td>\n",
       "      <td>1.384949</td>\n",
       "    </tr>\n",
       "    <tr>\n",
       "      <th>파주</th>\n",
       "      <td>6.304383</td>\n",
       "      <td>27.607229</td>\n",
       "      <td>7.236021</td>\n",
       "      <td>20.5</td>\n",
       "      <td>26.2</td>\n",
       "      <td>1.1</td>\n",
       "      <td>597</td>\n",
       "      <td>1.233753</td>\n",
       "    </tr>\n",
       "    <tr>\n",
       "      <th>평택</th>\n",
       "      <td>12.353867</td>\n",
       "      <td>34.753360</td>\n",
       "      <td>15.327541</td>\n",
       "      <td>20.0</td>\n",
       "      <td>24.0</td>\n",
       "      <td>1.4</td>\n",
       "      <td>966</td>\n",
       "      <td>1.335049</td>\n",
       "    </tr>\n",
       "    <tr>\n",
       "      <th>포항</th>\n",
       "      <td>4.349830</td>\n",
       "      <td>46.681606</td>\n",
       "      <td>13.405486</td>\n",
       "      <td>17.8</td>\n",
       "      <td>23.5</td>\n",
       "      <td>1.6</td>\n",
       "      <td>460</td>\n",
       "      <td>1.270197</td>\n",
       "    </tr>\n",
       "  </tbody>\n",
       "</table>\n",
       "<p>117 rows × 8 columns</p>\n",
       "</div>"
      ],
      "text/plain": [
       "       foreigner      grand       grdp  drink  smoke  academe  \\\n",
       "지역/연도                                                           \n",
       "서울/강남   2.243084   9.457079   8.578794   17.4   23.2      3.6   \n",
       "서울/강동   1.605572   9.872584   1.266087   17.4   23.2      1.5   \n",
       "서울/강북   1.509860  14.308827   0.726291   19.7   24.1      0.7   \n",
       "서울/강서   1.768851  10.425782   1.395259   16.2   22.2      1.2   \n",
       "서울/관악   5.003591  11.453628   0.897635   19.1   23.0      0.9   \n",
       "...          ...        ...        ...    ...    ...      ...   \n",
       "춘천      1.745191  19.207316   2.652339   18.3   24.7      1.7   \n",
       "충주      1.960143  17.147301   2.662379   14.5   24.3      1.6   \n",
       "파주      6.304383  27.607229   7.236021   20.5   26.2      1.1   \n",
       "평택     12.353867  34.753360  15.327541   20.0   24.0      1.4   \n",
       "포항      4.349830  46.681606  13.405486   17.8   23.5      1.6   \n",
       "\n",
       "       population_density     crime  \n",
       "지역/연도                                \n",
       "서울/강남               14268  0.878541  \n",
       "서울/강동               19660  1.163272  \n",
       "서울/강북               14354  1.311586  \n",
       "서울/강서               13737  0.596413  \n",
       "서울/관악               17519  1.066917  \n",
       "...                   ...       ...  \n",
       "춘천                    246  1.298721  \n",
       "충주                    212  1.384949  \n",
       "파주                    597  1.233753  \n",
       "평택                    966  1.335049  \n",
       "포항                    460  1.270197  \n",
       "\n",
       "[117 rows x 8 columns]"
      ]
     },
     "execution_count": 211,
     "metadata": {},
     "output_type": "execute_result"
    }
   ],
   "source": [
    "df2013 = df3.join(df2)\n",
    "df2013"
   ]
  },
  {
   "cell_type": "code",
   "execution_count": 212,
   "metadata": {},
   "outputs": [],
   "source": [
    "df2013 = df2013[['crime','drink','smoke','academe',\n",
    "          'foreigner','grand','grdp','population_density']]"
   ]
  },
  {
   "cell_type": "code",
   "execution_count": 65,
   "metadata": {},
   "outputs": [
    {
     "ename": "KeyError",
     "evalue": "'Only a column name can be used for the key in a dtype mappings argument.'",
     "output_type": "error",
     "traceback": [
      "\u001b[1;31m---------------------------------------------------------------------------\u001b[0m",
      "\u001b[1;31mKeyError\u001b[0m                                  Traceback (most recent call last)",
      "\u001b[1;32m<ipython-input-65-7a7a1bc4ef4f>\u001b[0m in \u001b[0;36m<module>\u001b[1;34m\u001b[0m\n\u001b[1;32m----> 1\u001b[1;33m \u001b[0mdf2015\u001b[0m \u001b[1;33m=\u001b[0m \u001b[0mdf2015\u001b[0m\u001b[1;33m.\u001b[0m\u001b[0mastype\u001b[0m\u001b[1;33m(\u001b[0m\u001b[1;33m{\u001b[0m\u001b[1;34m'2010population_density'\u001b[0m\u001b[1;33m:\u001b[0m\u001b[1;34m'float'\u001b[0m\u001b[1;33m}\u001b[0m\u001b[1;33m)\u001b[0m\u001b[1;33m\u001b[0m\u001b[1;33m\u001b[0m\u001b[0m\n\u001b[0m",
      "\u001b[1;32mC:\\ProgramData\\Anaconda3\\lib\\site-packages\\pandas\\core\\generic.py\u001b[0m in \u001b[0;36mastype\u001b[1;34m(self, dtype, copy, errors)\u001b[0m\n\u001b[0;32m   5674\u001b[0m                 \u001b[1;32mif\u001b[0m \u001b[0mcol_name\u001b[0m \u001b[1;32mnot\u001b[0m \u001b[1;32min\u001b[0m \u001b[0mself\u001b[0m\u001b[1;33m:\u001b[0m\u001b[1;33m\u001b[0m\u001b[1;33m\u001b[0m\u001b[0m\n\u001b[0;32m   5675\u001b[0m                     raise KeyError(\n\u001b[1;32m-> 5676\u001b[1;33m                         \u001b[1;34m\"Only a column name can be used for the \"\u001b[0m\u001b[1;33m\u001b[0m\u001b[1;33m\u001b[0m\u001b[0m\n\u001b[0m\u001b[0;32m   5677\u001b[0m                         \u001b[1;34m\"key in a dtype mappings argument.\"\u001b[0m\u001b[1;33m\u001b[0m\u001b[1;33m\u001b[0m\u001b[0m\n\u001b[0;32m   5678\u001b[0m                     )\n",
      "\u001b[1;31mKeyError\u001b[0m: 'Only a column name can be used for the key in a dtype mappings argument.'"
     ]
    }
   ],
   "source": [
    "df2013 = df2013.astype({'2015population_density':'float'})"
   ]
  },
  {
   "cell_type": "code",
   "execution_count": 130,
   "metadata": {
    "scrolled": true
   },
   "outputs": [
    {
     "data": {
      "text/plain": [
       "<matplotlib.collections.PathCollection at 0x1c09b7e0f08>"
      ]
     },
     "execution_count": 130,
     "metadata": {},
     "output_type": "execute_result"
    },
    {
     "data": {
      "text/plain": [
       "Text(0.5, 1.0, '고위험음주율')"
      ]
     },
     "execution_count": 130,
     "metadata": {},
     "output_type": "execute_result"
    },
    {
     "data": {
      "text/plain": [
       "<matplotlib.collections.PathCollection at 0x1c09b8cbdc8>"
      ]
     },
     "execution_count": 130,
     "metadata": {},
     "output_type": "execute_result"
    },
    {
     "data": {
      "text/plain": [
       "Text(0.5, 1.0, '흡연율')"
      ]
     },
     "execution_count": 130,
     "metadata": {},
     "output_type": "execute_result"
    },
    {
     "data": {
      "text/plain": [
       "<matplotlib.collections.PathCollection at 0x1c09b7990c8>"
      ]
     },
     "execution_count": 130,
     "metadata": {},
     "output_type": "execute_result"
    },
    {
     "data": {
      "text/plain": [
       "Text(0.5, 1.0, '학원수')"
      ]
     },
     "execution_count": 130,
     "metadata": {},
     "output_type": "execute_result"
    },
    {
     "data": {
      "text/plain": [
       "<matplotlib.collections.PathCollection at 0x1c09b7ccf88>"
      ]
     },
     "execution_count": 130,
     "metadata": {},
     "output_type": "execute_result"
    },
    {
     "data": {
      "text/plain": [
       "Text(0.5, 1.0, 'GRDP')"
      ]
     },
     "execution_count": 130,
     "metadata": {},
     "output_type": "execute_result"
    },
    {
     "data": {
      "text/plain": [
       "<matplotlib.collections.PathCollection at 0x1c09b7ccc88>"
      ]
     },
     "execution_count": 130,
     "metadata": {},
     "output_type": "execute_result"
    },
    {
     "data": {
      "text/plain": [
       "Text(0.5, 1.0, '외국인')"
      ]
     },
     "execution_count": 130,
     "metadata": {},
     "output_type": "execute_result"
    },
    {
     "data": {
      "text/plain": [
       "<matplotlib.collections.PathCollection at 0x1c09b5ba288>"
      ]
     },
     "execution_count": 130,
     "metadata": {},
     "output_type": "execute_result"
    },
    {
     "data": {
      "text/plain": [
       "Text(0.5, 1.0, '노인인구')"
      ]
     },
     "execution_count": 130,
     "metadata": {},
     "output_type": "execute_result"
    },
    {
     "data": {
      "image/png": "[encoded data removed]",
      "text/plain": [
       "<Figure size 1296x576 with 8 Axes>"
      ]
     },
     "metadata": {},
     "output_type": "display_data"
    }
   ],
   "source": [
    "fig, ax = plt.subplots(2,4, figsize =(18,8))\n",
    "#ax[0,0].scatter(df2010['2010population_density'],df2010['2010crime'])\n",
    "#ax[0,0].set_title('인구밀도')\n",
    "ax[0,1].scatter(df2013['drink'],df2013['crime'])\n",
    "ax[0,1].set_title('고위험음주율')\n",
    "ax[0,2].scatter(df2013['smoke'],df2013['crime'])\n",
    "ax[0,2].set_title('흡연율')\n",
    "ax[0,3].scatter(df2013['academe'],df2013['crime'])\n",
    "ax[0,3].set_title('학원수')\n",
    "ax[1,0].scatter(df2013['grdp'],df2013['crime'])\n",
    "ax[1,0].set_title('GRDP')\n",
    "ax[1,1].scatter(df2013['foreigner'],df2013['crime'])\n",
    "ax[1,1].set_title('외국인')\n",
    "ax[1,2].scatter(df2013['grand'],df2013['crime'])\n",
    "ax[1,2].set_title('노인인구')\n",
    "plt.show()"
   ]
  },
  {
   "cell_type": "code",
   "execution_count": 213,
   "metadata": {
    "scrolled": true
   },
   "outputs": [
    {
     "data": {
      "text/html": [
       "<div>\n",
       "<style scoped>\n",
       "    .dataframe tbody tr th:only-of-type {\n",
       "        vertical-align: middle;\n",
       "    }\n",
       "\n",
       "    .dataframe tbody tr th {\n",
       "        vertical-align: top;\n",
       "    }\n",
       "\n",
       "    .dataframe thead th {\n",
       "        text-align: right;\n",
       "    }\n",
       "</style>\n",
       "<table border=\"1\" class=\"dataframe\">\n",
       "  <thead>\n",
       "    <tr style=\"text-align: right;\">\n",
       "      <th></th>\n",
       "      <th>crime</th>\n",
       "      <th>drink</th>\n",
       "      <th>smoke</th>\n",
       "      <th>academe</th>\n",
       "      <th>foreigner</th>\n",
       "      <th>grand</th>\n",
       "      <th>grdp</th>\n",
       "      <th>population_density</th>\n",
       "    </tr>\n",
       "  </thead>\n",
       "  <tbody>\n",
       "    <tr>\n",
       "      <th>crime</th>\n",
       "      <td>1.00</td>\n",
       "      <td>0.04</td>\n",
       "      <td>0.14</td>\n",
       "      <td>-0.09</td>\n",
       "      <td>0.03</td>\n",
       "      <td>0.26</td>\n",
       "      <td>0.16</td>\n",
       "      <td>-0.07</td>\n",
       "    </tr>\n",
       "    <tr>\n",
       "      <th>drink</th>\n",
       "      <td>0.04</td>\n",
       "      <td>1.00</td>\n",
       "      <td>0.32</td>\n",
       "      <td>-0.19</td>\n",
       "      <td>-0.01</td>\n",
       "      <td>0.17</td>\n",
       "      <td>-0.07</td>\n",
       "      <td>-0.21</td>\n",
       "    </tr>\n",
       "    <tr>\n",
       "      <th>smoke</th>\n",
       "      <td>0.14</td>\n",
       "      <td>0.32</td>\n",
       "      <td>1.00</td>\n",
       "      <td>-0.12</td>\n",
       "      <td>0.00</td>\n",
       "      <td>0.30</td>\n",
       "      <td>0.04</td>\n",
       "      <td>-0.18</td>\n",
       "    </tr>\n",
       "    <tr>\n",
       "      <th>academe</th>\n",
       "      <td>-0.09</td>\n",
       "      <td>-0.19</td>\n",
       "      <td>-0.12</td>\n",
       "      <td>1.00</td>\n",
       "      <td>-0.16</td>\n",
       "      <td>-0.11</td>\n",
       "      <td>0.14</td>\n",
       "      <td>-0.23</td>\n",
       "    </tr>\n",
       "    <tr>\n",
       "      <th>foreigner</th>\n",
       "      <td>0.03</td>\n",
       "      <td>-0.01</td>\n",
       "      <td>0.00</td>\n",
       "      <td>-0.16</td>\n",
       "      <td>1.00</td>\n",
       "      <td>0.35</td>\n",
       "      <td>0.70</td>\n",
       "      <td>0.15</td>\n",
       "    </tr>\n",
       "    <tr>\n",
       "      <th>grand</th>\n",
       "      <td>0.26</td>\n",
       "      <td>0.17</td>\n",
       "      <td>0.30</td>\n",
       "      <td>-0.11</td>\n",
       "      <td>0.35</td>\n",
       "      <td>1.00</td>\n",
       "      <td>0.40</td>\n",
       "      <td>-0.01</td>\n",
       "    </tr>\n",
       "    <tr>\n",
       "      <th>grdp</th>\n",
       "      <td>0.16</td>\n",
       "      <td>-0.07</td>\n",
       "      <td>0.04</td>\n",
       "      <td>0.14</td>\n",
       "      <td>0.70</td>\n",
       "      <td>0.40</td>\n",
       "      <td>1.00</td>\n",
       "      <td>-0.19</td>\n",
       "    </tr>\n",
       "    <tr>\n",
       "      <th>population_density</th>\n",
       "      <td>-0.07</td>\n",
       "      <td>-0.21</td>\n",
       "      <td>-0.18</td>\n",
       "      <td>-0.23</td>\n",
       "      <td>0.15</td>\n",
       "      <td>-0.01</td>\n",
       "      <td>-0.19</td>\n",
       "      <td>1.00</td>\n",
       "    </tr>\n",
       "  </tbody>\n",
       "</table>\n",
       "</div>"
      ],
      "text/plain": [
       "                    crime  drink  smoke  academe  foreigner  grand  grdp  \\\n",
       "crime                1.00   0.04   0.14    -0.09       0.03   0.26  0.16   \n",
       "drink                0.04   1.00   0.32    -0.19      -0.01   0.17 -0.07   \n",
       "smoke                0.14   0.32   1.00    -0.12       0.00   0.30  0.04   \n",
       "academe             -0.09  -0.19  -0.12     1.00      -0.16  -0.11  0.14   \n",
       "foreigner            0.03  -0.01   0.00    -0.16       1.00   0.35  0.70   \n",
       "grand                0.26   0.17   0.30    -0.11       0.35   1.00  0.40   \n",
       "grdp                 0.16  -0.07   0.04     0.14       0.70   0.40  1.00   \n",
       "population_density  -0.07  -0.21  -0.18    -0.23       0.15  -0.01 -0.19   \n",
       "\n",
       "                    population_density  \n",
       "crime                            -0.07  \n",
       "drink                            -0.21  \n",
       "smoke                            -0.18  \n",
       "academe                          -0.23  \n",
       "foreigner                         0.15  \n",
       "grand                            -0.01  \n",
       "grdp                             -0.19  \n",
       "population_density                1.00  "
      ]
     },
     "execution_count": 213,
     "metadata": {},
     "output_type": "execute_result"
    }
   ],
   "source": [
    "corr2013 = df2013.corr(method='spearman').round(2)\n",
    "corr2013"
   ]
  },
  {
   "cell_type": "code",
   "execution_count": 214,
   "metadata": {},
   "outputs": [
    {
     "name": "stderr",
     "output_type": "stream",
     "text": [
      "C:\\ProgramData\\Anaconda3\\lib\\site-packages\\matplotlib\\backends\\backend_agg.py:211: RuntimeWarning: Glyph 8722 missing from current font.\n",
      "  font.set_text(s, 0.0, flags=flags)\n",
      "C:\\ProgramData\\Anaconda3\\lib\\site-packages\\matplotlib\\backends\\backend_agg.py:180: RuntimeWarning: Glyph 8722 missing from current font.\n",
      "  font.set_text(s, 0, flags=flags)\n"
     ]
    },
    {
     "data": {
      "text/plain": [
       "<matplotlib.axes._subplots.AxesSubplot at 0x1c09bc72f48>"
      ]
     },
     "execution_count": 214,
     "metadata": {},
     "output_type": "execute_result"
    },
    {
     "data": {
      "image/png": "[encoded data removed]",
      "text/plain": [
       "<Figure size 432x288 with 2 Axes>"
      ]
     },
     "metadata": {},
     "output_type": "display_data"
    }
   ],
   "source": [
    "sn.heatmap(data = corr2013, annot=True, linewidths = 0.5)\n",
    "plt.show()"
   ]
  },
  {
   "cell_type": "code",
   "execution_count": 199,
   "metadata": {},
   "outputs": [],
   "source": [
    "class static():\n",
    "    def number(self, a):\n",
    "        print('표본개수 :{0}'.format(len(a)))\n",
    "        print('평균 :{0}'.format(np.mean(a)))\n",
    "        print('표준편차 :{0}'.format(np.std(a)))\n",
    "        print('최대값 :{0}'.format(np.max(a)))\n",
    "        print('최소값 :{0}'.format(np.min(a)))\n",
    "        plt.figure(1)\n",
    "        plt.hist(a)\n",
    "        plt.show()"
   ]
  },
  {
   "cell_type": "code",
   "execution_count": 200,
   "metadata": {},
   "outputs": [],
   "source": [
    "statics = static()"
   ]
  },
  {
   "cell_type": "code",
   "execution_count": 201,
   "metadata": {},
   "outputs": [
    {
     "name": "stdout",
     "output_type": "stream",
     "text": [
      "범죄율\n",
      "표본개수 :117\n",
      "평균 :1.3786663093642317\n",
      "표준편차 :0.5376826508877582\n",
      "최대값 :3.169559022881747\n",
      "최소값 :-0.530454785854968\n"
     ]
    },
    {
     "data": {
      "image/png": "[encoded data removed]",
      "text/plain": [
       "<Figure size 432x288 with 1 Axes>"
      ]
     },
     "metadata": {},
     "output_type": "display_data"
    },
    {
     "name": "stdout",
     "output_type": "stream",
     "text": [
      "None\n"
     ]
    }
   ],
   "source": [
    "print('범죄율')\n",
    "print(statics.number(df2013['crime']))"
   ]
  },
  {
   "cell_type": "code",
   "execution_count": 144,
   "metadata": {
    "scrolled": true
   },
   "outputs": [
    {
     "name": "stdout",
     "output_type": "stream",
     "text": [
      "외국인 인구비중\n",
      "표본개수 :117\n",
      "평균 :0.7688671127910547\n",
      "표준편차 :0.9112063697102817\n",
      "최대값 :3.4029550642818958\n",
      "최소값 :-1.567405508244177\n"
     ]
    },
    {
     "data": {
      "image/png": "[encoded data removed]",
      "text/plain": [
       "<Figure size 432x288 with 1 Axes>"
      ]
     },
     "metadata": {},
     "output_type": "display_data"
    },
    {
     "name": "stdout",
     "output_type": "stream",
     "text": [
      "None\n"
     ]
    }
   ],
   "source": [
    "print('외국인 인구비중')\n",
    "print(statics.number(df2013['foreigner']))"
   ]
  },
  {
   "cell_type": "code",
   "execution_count": 145,
   "metadata": {},
   "outputs": [
    {
     "name": "stdout",
     "output_type": "stream",
     "text": [
      "노인 인구비중\n",
      "표본개수 :117\n",
      "평균 :-208.05265683157717\n",
      "표준편차 :54.742793062936336\n",
      "최대값 :-64.44766154577832\n",
      "최소값 :-407.7805075172221\n"
     ]
    },
    {
     "data": {
      "image/png": "[encoded data removed]",
      "text/plain": [
       "<Figure size 432x288 with 1 Axes>"
      ]
     },
     "metadata": {},
     "output_type": "display_data"
    }
   ],
   "source": [
    "print('노인 인구비중')\n",
    "statics.number(df2013['grand'])"
   ]
  },
  {
   "cell_type": "code",
   "execution_count": 75,
   "metadata": {},
   "outputs": [
    {
     "name": "stdout",
     "output_type": "stream",
     "text": [
      "흡연율\n",
      "표본개수 :117\n",
      "평균 :21.71282051282051\n",
      "표준편차 :2.1918083101948147\n",
      "최대값 :27.2\n",
      "최소값 :16.5\n"
     ]
    },
    {
     "data": {
      "image/png": "[encoded data removed]",
      "text/plain": [
       "<Figure size 432x288 with 1 Axes>"
      ]
     },
     "metadata": {},
     "output_type": "display_data"
    }
   ],
   "source": [
    "print('흡연율')\n",
    "statics.number(df2013['smoke'])"
   ]
  },
  {
   "cell_type": "code",
   "execution_count": 76,
   "metadata": {
    "scrolled": true
   },
   "outputs": [
    {
     "name": "stdout",
     "output_type": "stream",
     "text": [
      "고위험 음주율\n",
      "표본개수 :117\n",
      "평균 :18.625641025641027\n",
      "표준편차 :2.6292618263458074\n",
      "최대값 :26.2\n",
      "최소값 :10.4\n"
     ]
    },
    {
     "data": {
      "image/png": "[encoded data removed]",
      "text/plain": [
       "<Figure size 432x288 with 1 Axes>"
      ]
     },
     "metadata": {},
     "output_type": "display_data"
    }
   ],
   "source": [
    "print('고위험 음주율')\n",
    "statics.number(df2013['drink'])"
   ]
  },
  {
   "cell_type": "code",
   "execution_count": 181,
   "metadata": {},
   "outputs": [
    {
     "name": "stdout",
     "output_type": "stream",
     "text": [
      "GRDP\n",
      "표본개수 :117\n",
      "평균 :2.052339679007634\n",
      "표준편차 :1.6696253437560211\n",
      "최대값 :6.213000381034095\n",
      "최소값 :-2.2169010388115233\n"
     ]
    },
    {
     "data": {
      "image/png": "[encoded data removed]",
      "text/plain": [
       "<Figure size 432x288 with 1 Axes>"
      ]
     },
     "metadata": {},
     "output_type": "display_data"
    }
   ],
   "source": [
    "print('GRDP')\n",
    "statics.number(df2013['grdp'])"
   ]
  },
  {
   "cell_type": "code",
   "execution_count": 78,
   "metadata": {},
   "outputs": [
    {
     "name": "stdout",
     "output_type": "stream",
     "text": [
      "학원수\n",
      "표본개수 :117\n",
      "평균 :1.5119658119658124\n",
      "표준편차 :0.601872064260472\n",
      "최대값 :3.8\n",
      "최소값 :0.2\n"
     ]
    },
    {
     "data": {
      "image/png": "[encoded data removed]",
      "text/plain": [
       "<Figure size 432x288 with 1 Axes>"
      ]
     },
     "metadata": {},
     "output_type": "display_data"
    }
   ],
   "source": [
    "print('학원수')\n",
    "statics.number(df2013['academe'])"
   ]
  },
  {
   "cell_type": "code",
   "execution_count": 118,
   "metadata": {
    "scrolled": true
   },
   "outputs": [
    {
     "name": "stdout",
     "output_type": "stream",
     "text": [
      "인구밀도\n",
      "표본개수 :117\n",
      "평균 :8.093911884625676\n",
      "표준편차 :1.550863016334806\n",
      "최대값 :10.234265033343494\n",
      "최소값 :4.804021044733257\n"
     ]
    },
    {
     "data": {
      "image/png": "[encoded data removed]",
      "text/plain": [
       "<Figure size 432x288 with 1 Axes>"
      ]
     },
     "metadata": {},
     "output_type": "display_data"
    }
   ],
   "source": [
    "print('인구밀도')\n",
    "statics.number(df2013['population_density'])"
   ]
  },
  {
   "cell_type": "code",
   "execution_count": 103,
   "metadata": {},
   "outputs": [
    {
     "data": {
      "text/html": [
       "<div>\n",
       "<style scoped>\n",
       "    .dataframe tbody tr th:only-of-type {\n",
       "        vertical-align: middle;\n",
       "    }\n",
       "\n",
       "    .dataframe tbody tr th {\n",
       "        vertical-align: top;\n",
       "    }\n",
       "\n",
       "    .dataframe thead th {\n",
       "        text-align: right;\n",
       "    }\n",
       "</style>\n",
       "<table border=\"1\" class=\"dataframe\">\n",
       "  <thead>\n",
       "    <tr style=\"text-align: right;\">\n",
       "      <th></th>\n",
       "      <th>count</th>\n",
       "      <th>mean</th>\n",
       "      <th>std</th>\n",
       "      <th>min</th>\n",
       "      <th>25%</th>\n",
       "      <th>50%</th>\n",
       "      <th>75%</th>\n",
       "      <th>max</th>\n",
       "    </tr>\n",
       "  </thead>\n",
       "  <tbody>\n",
       "    <tr>\n",
       "      <th>foreigner</th>\n",
       "      <td>117.0</td>\n",
       "      <td>28.359671</td>\n",
       "      <td>95.320679</td>\n",
       "      <td>0.043508</td>\n",
       "      <td>1.629288</td>\n",
       "      <td>3.452987</td>\n",
       "      <td>17.411301</td>\n",
       "      <td>903.169396</td>\n",
       "    </tr>\n",
       "    <tr>\n",
       "      <th>grand</th>\n",
       "      <td>117.0</td>\n",
       "      <td>14.265076</td>\n",
       "      <td>7.550725</td>\n",
       "      <td>1.694462</td>\n",
       "      <td>10.440854</td>\n",
       "      <td>12.900823</td>\n",
       "      <td>15.970475</td>\n",
       "      <td>52.493721</td>\n",
       "    </tr>\n",
       "    <tr>\n",
       "      <th>grdp</th>\n",
       "      <td>117.0</td>\n",
       "      <td>1011.820513</td>\n",
       "      <td>935.221785</td>\n",
       "      <td>35.000000</td>\n",
       "      <td>407.000000</td>\n",
       "      <td>649.000000</td>\n",
       "      <td>1222.000000</td>\n",
       "      <td>5414.000000</td>\n",
       "    </tr>\n",
       "    <tr>\n",
       "      <th>drink</th>\n",
       "      <td>117.0</td>\n",
       "      <td>18.625641</td>\n",
       "      <td>2.640571</td>\n",
       "      <td>10.400000</td>\n",
       "      <td>16.900000</td>\n",
       "      <td>18.500000</td>\n",
       "      <td>20.300000</td>\n",
       "      <td>26.200000</td>\n",
       "    </tr>\n",
       "    <tr>\n",
       "      <th>smoke</th>\n",
       "      <td>117.0</td>\n",
       "      <td>21.712821</td>\n",
       "      <td>2.201235</td>\n",
       "      <td>16.500000</td>\n",
       "      <td>20.300000</td>\n",
       "      <td>21.800000</td>\n",
       "      <td>23.100000</td>\n",
       "      <td>27.200000</td>\n",
       "    </tr>\n",
       "    <tr>\n",
       "      <th>academe</th>\n",
       "      <td>117.0</td>\n",
       "      <td>1.511966</td>\n",
       "      <td>0.604461</td>\n",
       "      <td>0.200000</td>\n",
       "      <td>1.100000</td>\n",
       "      <td>1.500000</td>\n",
       "      <td>1.800000</td>\n",
       "      <td>3.800000</td>\n",
       "    </tr>\n",
       "    <tr>\n",
       "      <th>population_density</th>\n",
       "      <td>117.0</td>\n",
       "      <td>7383.709402</td>\n",
       "      <td>7145.486350</td>\n",
       "      <td>122.000000</td>\n",
       "      <td>703.000000</td>\n",
       "      <td>5140.000000</td>\n",
       "      <td>12623.000000</td>\n",
       "      <td>27841.000000</td>\n",
       "    </tr>\n",
       "    <tr>\n",
       "      <th>crime</th>\n",
       "      <td>117.0</td>\n",
       "      <td>1.378666</td>\n",
       "      <td>0.539995</td>\n",
       "      <td>-0.530455</td>\n",
       "      <td>1.118491</td>\n",
       "      <td>1.328820</td>\n",
       "      <td>1.552213</td>\n",
       "      <td>3.169559</td>\n",
       "    </tr>\n",
       "  </tbody>\n",
       "</table>\n",
       "</div>"
      ],
      "text/plain": [
       "                    count         mean          std         min         25%  \\\n",
       "foreigner           117.0    28.359671    95.320679    0.043508    1.629288   \n",
       "grand               117.0    14.265076     7.550725    1.694462   10.440854   \n",
       "grdp                117.0  1011.820513   935.221785   35.000000  407.000000   \n",
       "drink               117.0    18.625641     2.640571   10.400000   16.900000   \n",
       "smoke               117.0    21.712821     2.201235   16.500000   20.300000   \n",
       "academe             117.0     1.511966     0.604461    0.200000    1.100000   \n",
       "population_density  117.0  7383.709402  7145.486350  122.000000  703.000000   \n",
       "crime               117.0     1.378666     0.539995   -0.530455    1.118491   \n",
       "\n",
       "                            50%           75%           max  \n",
       "foreigner              3.452987     17.411301    903.169396  \n",
       "grand                 12.900823     15.970475     52.493721  \n",
       "grdp                 649.000000   1222.000000   5414.000000  \n",
       "drink                 18.500000     20.300000     26.200000  \n",
       "smoke                 21.800000     23.100000     27.200000  \n",
       "academe                1.500000      1.800000      3.800000  \n",
       "population_density  5140.000000  12623.000000  27841.000000  \n",
       "crime                  1.328820      1.552213      3.169559  "
      ]
     },
     "execution_count": 103,
     "metadata": {},
     "output_type": "execute_result"
    }
   ],
   "source": [
    "df2013.describe().T"
   ]
  },
  {
   "cell_type": "markdown",
   "metadata": {},
   "source": [
    "# OLS\n",
    "- log를 취했습니다."
   ]
  },
  {
   "cell_type": "code",
   "execution_count": 222,
   "metadata": {},
   "outputs": [
    {
     "name": "stdout",
     "output_type": "stream",
     "text": [
      "                                 OLS Regression Results                                \n",
      "=======================================================================================\n",
      "Dep. Variable:                  crime   R-squared (uncentered):                   0.890\n",
      "Model:                            OLS   Adj. R-squared (uncentered):              0.888\n",
      "Method:                 Least Squares   F-statistic:                              463.9\n",
      "Date:                Mon, 06 Jul 2020   Prob (F-statistic):                    8.82e-56\n",
      "Time:                        17:09:30   Log-Likelihood:                         -83.191\n",
      "No. Observations:                 117   AIC:                                      170.4\n",
      "Df Residuals:                     115   BIC:                                      175.9\n",
      "Df Model:                           2                                                  \n",
      "Covariance Type:            nonrobust                                                  \n",
      "==============================================================================\n",
      "                 coef    std err          t      P>|t|      [0.025      0.975]\n",
      "------------------------------------------------------------------------------\n",
      "grdp           0.0355      0.011      3.277      0.001       0.014       0.057\n",
      "smoke          0.0530      0.002     21.284      0.000       0.048       0.058\n",
      "==============================================================================\n",
      "Omnibus:                        9.501   Durbin-Watson:                   2.174\n",
      "Prob(Omnibus):                  0.009   Jarque-Bera (JB):               16.742\n",
      "Skew:                           0.292   Prob(JB):                     0.000232\n",
      "Kurtosis:                       4.759   Cond. No.                         5.76\n",
      "==============================================================================\n",
      "\n",
      "Warnings:\n",
      "[1] Standard Errors assume that the covariance matrix of the errors is correctly specified.\n"
     ]
    }
   ],
   "source": [
    "X = ['grdp','smoke'] \n",
    "reg =sm.OLS((df2013['crime']),df2013[X],missing='drop').fit()\n",
    "print(reg.summary())"
   ]
  },
  {
   "cell_type": "code",
   "execution_count": 251,
   "metadata": {},
   "outputs": [
    {
     "name": "stdout",
     "output_type": "stream",
     "text": [
      "                                 OLS Regression Results                                \n",
      "=======================================================================================\n",
      "Dep. Variable:                  crime   R-squared (uncentered):                   0.890\n",
      "Model:                            OLS   Adj. R-squared (uncentered):              0.888\n",
      "Method:                 Least Squares   F-statistic:                              308.8\n",
      "Date:                Mon, 06 Jul 2020   Prob (F-statistic):                    1.49e-54\n",
      "Time:                        17:15:32   Log-Likelihood:                         -82.814\n",
      "No. Observations:                 117   AIC:                                      171.6\n",
      "Df Residuals:                     114   BIC:                                      179.9\n",
      "Df Model:                           3                                                  \n",
      "Covariance Type:            nonrobust                                                  \n",
      "==============================================================================\n",
      "                 coef    std err          t      P>|t|      [0.025      0.975]\n",
      "------------------------------------------------------------------------------\n",
      "smoke          0.0570      0.005     10.911      0.000       0.047       0.067\n",
      "academe       -0.0644      0.075     -0.858      0.393      -0.213       0.084\n",
      "grdp           0.0359      0.011      3.300      0.001       0.014       0.057\n",
      "==============================================================================\n",
      "Omnibus:                        9.105   Durbin-Watson:                   2.175\n",
      "Prob(Omnibus):                  0.011   Jarque-Bera (JB):               16.752\n",
      "Skew:                           0.243   Prob(JB):                     0.000230\n",
      "Kurtosis:                       4.789   Cond. No.                         39.6\n",
      "==============================================================================\n",
      "\n",
      "Warnings:\n",
      "[1] Standard Errors assume that the covariance matrix of the errors is correctly specified.\n"
     ]
    }
   ],
   "source": [
    "#X = ['2010drink','2010smoke','2010academe',\n",
    "#          '2010foreigner','2010grand','2010grdp']\n",
    "X = ['smoke','academe','grdp'] \n",
    "reg =sm.OLS((df2013['crime']),df2013[X],missing='drop').fit()\n",
    "print(reg.summary())"
   ]
  },
  {
   "cell_type": "code",
   "execution_count": 36,
   "metadata": {},
   "outputs": [],
   "source": [
    "X1 = ['smoke',\n",
    "          'grand','grdp']\n",
    "reg1 =sm.OLS((df2013['crime']),df2013[X1],missing='drop').fit()"
   ]
  },
  {
   "cell_type": "code",
   "execution_count": 37,
   "metadata": {},
   "outputs": [
    {
     "name": "stdout",
     "output_type": "stream",
     "text": [
      "                                 OLS Regression Results                                \n",
      "=======================================================================================\n",
      "Dep. Variable:                  crime   R-squared (uncentered):                   0.885\n",
      "Model:                            OLS   Adj. R-squared (uncentered):              0.882\n",
      "Method:                 Least Squares   F-statistic:                              293.5\n",
      "Date:                Mon, 06 Jul 2020   Prob (F-statistic):                    1.94e-53\n",
      "Time:                        16:20:41   Log-Likelihood:                         -85.157\n",
      "No. Observations:                 117   AIC:                                      176.3\n",
      "Df Residuals:                     114   BIC:                                      184.6\n",
      "Df Model:                           3                                                  \n",
      "Covariance Type:            nonrobust                                                  \n",
      "==============================================================================\n",
      "                 coef    std err          t      P>|t|      [0.025      0.975]\n",
      "------------------------------------------------------------------------------\n",
      "smoke          0.0542      0.005     11.605      0.000       0.045       0.063\n",
      "grand          0.0074      0.007      1.109      0.270      -0.006       0.020\n",
      "grdp           0.0257      0.011      2.391      0.018       0.004       0.047\n",
      "==============================================================================\n",
      "Omnibus:                       13.902   Durbin-Watson:                   2.049\n",
      "Prob(Omnibus):                  0.001   Jarque-Bera (JB):               45.135\n",
      "Skew:                          -0.146   Prob(JB):                     1.58e-10\n",
      "Kurtosis:                       6.029   Cond. No.                         6.30\n",
      "==============================================================================\n",
      "\n",
      "Warnings:\n",
      "[1] Standard Errors assume that the covariance matrix of the errors is correctly specified.\n"
     ]
    }
   ],
   "source": [
    "print(reg1.summary())"
   ]
  },
  {
   "cell_type": "code",
   "execution_count": 85,
   "metadata": {},
   "outputs": [],
   "source": [
    "features = 'academe + grand + grdp + foreigner + smoke + drink '"
   ]
  },
  {
   "cell_type": "code",
   "execution_count": 86,
   "metadata": {},
   "outputs": [
    {
     "data": {
      "text/plain": [
       "'academe + grand + grdp + foreigner + smoke + drink '"
      ]
     },
     "execution_count": 86,
     "metadata": {},
     "output_type": "execute_result"
    }
   ],
   "source": [
    "features"
   ]
  },
  {
   "cell_type": "code",
   "execution_count": 88,
   "metadata": {},
   "outputs": [],
   "source": [
    "y, X = dmatrices( 'crime~'+ features, df2013, return_type='dataframe')"
   ]
  },
  {
   "cell_type": "code",
   "execution_count": 89,
   "metadata": {},
   "outputs": [
    {
     "data": {
      "text/html": [
       "<div>\n",
       "<style scoped>\n",
       "    .dataframe tbody tr th:only-of-type {\n",
       "        vertical-align: middle;\n",
       "    }\n",
       "\n",
       "    .dataframe tbody tr th {\n",
       "        vertical-align: top;\n",
       "    }\n",
       "\n",
       "    .dataframe thead th {\n",
       "        text-align: right;\n",
       "    }\n",
       "</style>\n",
       "<table border=\"1\" class=\"dataframe\">\n",
       "  <thead>\n",
       "    <tr style=\"text-align: right;\">\n",
       "      <th></th>\n",
       "      <th>VIF Factor</th>\n",
       "    </tr>\n",
       "  </thead>\n",
       "  <tbody>\n",
       "    <tr>\n",
       "      <th>0</th>\n",
       "      <td>172.875554</td>\n",
       "    </tr>\n",
       "    <tr>\n",
       "      <th>1</th>\n",
       "      <td>1.210610</td>\n",
       "    </tr>\n",
       "    <tr>\n",
       "      <th>2</th>\n",
       "      <td>1.086000</td>\n",
       "    </tr>\n",
       "    <tr>\n",
       "      <th>3</th>\n",
       "      <td>1.109672</td>\n",
       "    </tr>\n",
       "    <tr>\n",
       "      <th>4</th>\n",
       "      <td>1.107147</td>\n",
       "    </tr>\n",
       "    <tr>\n",
       "      <th>5</th>\n",
       "      <td>1.205214</td>\n",
       "    </tr>\n",
       "    <tr>\n",
       "      <th>6</th>\n",
       "      <td>1.198950</td>\n",
       "    </tr>\n",
       "  </tbody>\n",
       "</table>\n",
       "</div>"
      ],
      "text/plain": [
       "   VIF Factor\n",
       "0  172.875554\n",
       "1    1.210610\n",
       "2    1.086000\n",
       "3    1.109672\n",
       "4    1.107147\n",
       "5    1.205214\n",
       "6    1.198950"
      ]
     },
     "execution_count": 89,
     "metadata": {},
     "output_type": "execute_result"
    },
    {
     "data": {
      "text/html": [
       "<div>\n",
       "<style scoped>\n",
       "    .dataframe tbody tr th:only-of-type {\n",
       "        vertical-align: middle;\n",
       "    }\n",
       "\n",
       "    .dataframe tbody tr th {\n",
       "        vertical-align: top;\n",
       "    }\n",
       "\n",
       "    .dataframe thead th {\n",
       "        text-align: right;\n",
       "    }\n",
       "</style>\n",
       "<table border=\"1\" class=\"dataframe\">\n",
       "  <thead>\n",
       "    <tr style=\"text-align: right;\">\n",
       "      <th></th>\n",
       "      <th>VIF Factor</th>\n",
       "      <th>features</th>\n",
       "    </tr>\n",
       "  </thead>\n",
       "  <tbody>\n",
       "    <tr>\n",
       "      <th>0</th>\n",
       "      <td>172.875554</td>\n",
       "      <td>Intercept</td>\n",
       "    </tr>\n",
       "    <tr>\n",
       "      <th>1</th>\n",
       "      <td>1.210610</td>\n",
       "      <td>academe</td>\n",
       "    </tr>\n",
       "    <tr>\n",
       "      <th>2</th>\n",
       "      <td>1.086000</td>\n",
       "      <td>grand</td>\n",
       "    </tr>\n",
       "    <tr>\n",
       "      <th>3</th>\n",
       "      <td>1.109672</td>\n",
       "      <td>grdp</td>\n",
       "    </tr>\n",
       "    <tr>\n",
       "      <th>4</th>\n",
       "      <td>1.107147</td>\n",
       "      <td>foreigner</td>\n",
       "    </tr>\n",
       "    <tr>\n",
       "      <th>5</th>\n",
       "      <td>1.205214</td>\n",
       "      <td>smoke</td>\n",
       "    </tr>\n",
       "    <tr>\n",
       "      <th>6</th>\n",
       "      <td>1.198950</td>\n",
       "      <td>drink</td>\n",
       "    </tr>\n",
       "  </tbody>\n",
       "</table>\n",
       "</div>"
      ],
      "text/plain": [
       "   VIF Factor   features\n",
       "0  172.875554  Intercept\n",
       "1    1.210610    academe\n",
       "2    1.086000      grand\n",
       "3    1.109672       grdp\n",
       "4    1.107147  foreigner\n",
       "5    1.205214      smoke\n",
       "6    1.198950      drink"
      ]
     },
     "execution_count": 89,
     "metadata": {},
     "output_type": "execute_result"
    }
   ],
   "source": [
    "vif = pd.DataFrame()\n",
    "vif['VIF Factor'] = [variance_inflation_factor(X.values, i)for i in range(X.shape[1])]\n",
    "vif\n",
    "vif['features'] = X.columns\n",
    "vif"
   ]
  },
  {
   "cell_type": "code",
   "execution_count": 92,
   "metadata": {},
   "outputs": [
    {
     "data": {
      "text/plain": [
       "[('Jarque-Beta', 45.13543583613241),\n",
       " ('Chi^2 two-tail prob', 1.5811192967164063e-10),\n",
       " ('Skew', -0.1461338185777521),\n",
       " ('Kurtosis', 6.028717644320224)]"
      ]
     },
     "execution_count": 92,
     "metadata": {},
     "output_type": "execute_result"
    }
   ],
   "source": [
    "name = ['Jarque-Beta','Chi^2 two-tail prob','Skew','Kurtosis']\n",
    "jarque=sms.jarque_bera(reg1.resid)\n",
    "lzip(name,jarque)"
   ]
  },
  {
   "cell_type": "code",
   "execution_count": 47,
   "metadata": {},
   "outputs": [
    {
     "data": {
      "text/plain": [
       "((array([-2.51766264, -2.18797753, -1.99804211, -1.86093788, -1.75188371,\n",
       "         -1.66039676, -1.58101103, -1.51049811, -1.44678472, -1.3884565 ,\n",
       "         -1.33450338, -1.28417768, -1.23690959, -1.19225441, -1.149858  ,\n",
       "         -1.1094335 , -1.07074507, -1.03359631, -0.99782179, -0.96328078,\n",
       "         -0.92985244, -0.89743218, -0.86592881, -0.83526226, -0.80536182,\n",
       "         -0.77616466, -0.74761465, -0.71966143, -0.69225957, -0.66536793,\n",
       "         -0.6389491 , -0.6129689 , -0.58739603, -0.56220168, -0.53735927,\n",
       "         -0.51284418, -0.48863352, -0.46470597, -0.44104159, -0.41762168,\n",
       "         -0.39442864, -0.37144588, -0.34865769, -0.32604915, -0.30360607,\n",
       "         -0.28131491, -0.25916267, -0.2371369 , -0.21522558, -0.19341713,\n",
       "         -0.17170029, -0.15006414, -0.12849802, -0.1069915 , -0.08553436,\n",
       "         -0.06411654, -0.04272809, -0.02135917,  0.        ,  0.02135917,\n",
       "          0.04272809,  0.06411654,  0.08553436,  0.1069915 ,  0.12849802,\n",
       "          0.15006414,  0.17170029,  0.19341713,  0.21522558,  0.2371369 ,\n",
       "          0.25916267,  0.28131491,  0.30360607,  0.32604915,  0.34865769,\n",
       "          0.37144588,  0.39442864,  0.41762168,  0.44104159,  0.46470597,\n",
       "          0.48863352,  0.51284418,  0.53735927,  0.56220168,  0.58739603,\n",
       "          0.6129689 ,  0.6389491 ,  0.66536793,  0.69225957,  0.71966143,\n",
       "          0.74761465,  0.77616466,  0.80536182,  0.83526226,  0.86592881,\n",
       "          0.89743218,  0.92985244,  0.96328078,  0.99782179,  1.03359631,\n",
       "          1.07074507,  1.1094335 ,  1.149858  ,  1.19225441,  1.23690959,\n",
       "          1.28417768,  1.33450338,  1.3884565 ,  1.44678472,  1.51049811,\n",
       "          1.58101103,  1.66039676,  1.75188371,  1.86093788,  1.99804211,\n",
       "          2.18797753,  2.51766264]),\n",
       "  array([-1.87924709e+00, -1.65352379e+00, -1.14189044e+00, -6.82858548e-01,\n",
       "         -6.55002865e-01, -6.15803406e-01, -6.07549373e-01, -6.07486224e-01,\n",
       "         -4.73651612e-01, -4.64885974e-01, -4.57878644e-01, -4.49696892e-01,\n",
       "         -4.41121253e-01, -4.40100431e-01, -4.35104600e-01, -4.30934586e-01,\n",
       "         -4.24718651e-01, -4.12841693e-01, -3.99572689e-01, -3.75897741e-01,\n",
       "         -3.68258024e-01, -3.67754988e-01, -3.66168247e-01, -3.45906507e-01,\n",
       "         -3.29556719e-01, -3.23220157e-01, -3.17451152e-01, -3.01368788e-01,\n",
       "         -2.95665515e-01, -2.89711508e-01, -2.85855074e-01, -2.67003302e-01,\n",
       "         -2.64720651e-01, -2.52024525e-01, -2.48285179e-01, -2.37328609e-01,\n",
       "         -2.31313563e-01, -2.05744857e-01, -1.98049952e-01, -1.96277558e-01,\n",
       "         -1.87853104e-01, -1.85098124e-01, -1.57279326e-01, -1.55067749e-01,\n",
       "         -1.34410836e-01, -1.28227210e-01, -1.20389496e-01, -1.11287730e-01,\n",
       "         -1.06877832e-01, -9.51079148e-02, -8.86127144e-02, -8.06402846e-02,\n",
       "         -7.96770609e-02, -6.94578749e-02, -5.20129397e-02, -4.75227701e-02,\n",
       "         -4.64225818e-02, -2.74276213e-02, -2.36771024e-02, -1.90197887e-02,\n",
       "         -1.61394688e-02, -6.68382736e-03, -5.44200739e-04,  1.08271908e-03,\n",
       "          6.43204228e-03,  1.06095845e-02,  1.26064189e-02,  1.27430232e-02,\n",
       "          4.62322262e-02,  5.20691262e-02,  5.82128137e-02,  6.72409349e-02,\n",
       "          7.71586953e-02,  1.08955310e-01,  1.23931592e-01,  1.62357051e-01,\n",
       "          1.74953587e-01,  1.75691264e-01,  1.76950662e-01,  1.80391649e-01,\n",
       "          1.82555288e-01,  1.85322410e-01,  1.86812739e-01,  1.90040567e-01,\n",
       "          1.90303889e-01,  1.96037546e-01,  2.06641640e-01,  2.31473526e-01,\n",
       "          2.42919415e-01,  2.57930602e-01,  2.82119721e-01,  2.82359201e-01,\n",
       "          2.85054017e-01,  3.23431607e-01,  3.24834505e-01,  3.30352643e-01,\n",
       "          3.33256303e-01,  3.48106782e-01,  3.64985219e-01,  4.62460911e-01,\n",
       "          4.71926371e-01,  5.11578927e-01,  5.35631159e-01,  5.54205559e-01,\n",
       "          5.60273319e-01,  5.77169743e-01,  6.07145497e-01,  6.33329310e-01,\n",
       "          6.95598459e-01,  7.73149418e-01,  7.81534499e-01,  8.10402381e-01,\n",
       "          8.75749229e-01,  1.06703415e+00,  1.37567148e+00,  1.42224396e+00,\n",
       "          1.43365281e+00])),\n",
       " (0.48320961796878836, -0.001196200199558441, 0.9660031613630331))"
      ]
     },
     "execution_count": 47,
     "metadata": {},
     "output_type": "execute_result"
    },
    {
     "data": {
      "text/plain": [
       "Text(0.5, 1.0, 'Residual Q-Q Plot')"
      ]
     },
     "execution_count": 47,
     "metadata": {},
     "output_type": "execute_result"
    },
    {
     "name": "stderr",
     "output_type": "stream",
     "text": [
      "C:\\ProgramData\\Anaconda3\\lib\\site-packages\\matplotlib\\backends\\backend_agg.py:211: RuntimeWarning: Glyph 8722 missing from current font.\n",
      "  font.set_text(s, 0.0, flags=flags)\n",
      "C:\\ProgramData\\Anaconda3\\lib\\site-packages\\matplotlib\\backends\\backend_agg.py:180: RuntimeWarning: Glyph 8722 missing from current font.\n",
      "  font.set_text(s, 0, flags=flags)\n"
     ]
    },
    {
     "data": {
      "image/png": "[encoded data removed]",
      "text/plain": [
       "<Figure size 432x288 with 1 Axes>"
      ]
     },
     "metadata": {},
     "output_type": "display_data"
    }
   ],
   "source": [
    "stats.probplot(reg.resid, dist = 'norm', plot = plt)\n",
    "plt.title('Residual Q-Q Plot')"
   ]
  },
  {
   "cell_type": "code",
   "execution_count": 48,
   "metadata": {},
   "outputs": [
    {
     "data": {
      "text/plain": [
       "[('Lagrange multiplier static', 22.59672892707495),\n",
       " ('p-value', 1.2393177188251626e-05),\n",
       " ('f-value', 9.095825700420217),\n",
       " ('f p-value', 1.899807277611909e-05)]"
      ]
     },
     "execution_count": 48,
     "metadata": {},
     "output_type": "execute_result"
    }
   ],
   "source": [
    "name = ['Lagrange multiplier static','p-value','f-value','f p-value']\n",
    "BPtest = sms.het_breuschpagan(reg1.resid, reg1.model.exog)\n",
    "lzip(name,BPtest)"
   ]
  },
  {
   "cell_type": "code",
   "execution_count": 101,
   "metadata": {},
   "outputs": [
    {
     "ename": "AssertionError",
     "evalue": "",
     "output_type": "error",
     "traceback": [
      "\u001b[1;31m---------------------------------------------------------------------------\u001b[0m",
      "\u001b[1;31mAssertionError\u001b[0m                            Traceback (most recent call last)",
      "\u001b[1;32m<ipython-input-101-f8c59f7b5050>\u001b[0m in \u001b[0;36m<module>\u001b[1;34m\u001b[0m\n\u001b[0;32m      1\u001b[0m \u001b[0mname\u001b[0m \u001b[1;33m=\u001b[0m \u001b[1;33m[\u001b[0m\u001b[1;34m'Lagrange multiplier static'\u001b[0m\u001b[1;33m,\u001b[0m\u001b[1;34m'p-value'\u001b[0m\u001b[1;33m,\u001b[0m\u001b[1;34m'f-value'\u001b[0m\u001b[1;33m,\u001b[0m\u001b[1;34m'f p-value'\u001b[0m\u001b[1;33m]\u001b[0m\u001b[1;33m\u001b[0m\u001b[1;33m\u001b[0m\u001b[0m\n\u001b[1;32m----> 2\u001b[1;33m \u001b[0mWhitetest\u001b[0m\u001b[1;33m=\u001b[0m\u001b[0msms\u001b[0m\u001b[1;33m.\u001b[0m\u001b[0mhet_white\u001b[0m\u001b[1;33m(\u001b[0m\u001b[0mreg\u001b[0m\u001b[1;33m.\u001b[0m\u001b[0mresid\u001b[0m\u001b[1;33m,\u001b[0m \u001b[0mreg\u001b[0m\u001b[1;33m.\u001b[0m\u001b[0mmodel\u001b[0m\u001b[1;33m.\u001b[0m\u001b[0mexog\u001b[0m\u001b[1;33m)\u001b[0m\u001b[1;33m\u001b[0m\u001b[1;33m\u001b[0m\u001b[0m\n\u001b[0m\u001b[0;32m      3\u001b[0m \u001b[0mlzip\u001b[0m\u001b[1;33m(\u001b[0m\u001b[0mname\u001b[0m\u001b[1;33m,\u001b[0m \u001b[0mWhitetest\u001b[0m\u001b[1;33m)\u001b[0m\u001b[1;33m\u001b[0m\u001b[1;33m\u001b[0m\u001b[0m\n",
      "\u001b[1;32mC:\\ProgramData\\Anaconda3\\lib\\site-packages\\statsmodels\\stats\\diagnostic.py\u001b[0m in \u001b[0;36mhet_white\u001b[1;34m(resid, exog)\u001b[0m\n\u001b[0;32m    953\u001b[0m     \u001b[1;31m# df_model checks the rank to determine df\u001b[0m\u001b[1;33m\u001b[0m\u001b[1;33m\u001b[0m\u001b[1;33m\u001b[0m\u001b[0m\n\u001b[0;32m    954\u001b[0m     \u001b[1;31m# extra calculation that can be removed:\u001b[0m\u001b[1;33m\u001b[0m\u001b[1;33m\u001b[0m\u001b[1;33m\u001b[0m\u001b[0m\n\u001b[1;32m--> 955\u001b[1;33m     \u001b[1;32massert\u001b[0m \u001b[0mresols\u001b[0m\u001b[1;33m.\u001b[0m\u001b[0mdf_model\u001b[0m \u001b[1;33m==\u001b[0m \u001b[0mnp\u001b[0m\u001b[1;33m.\u001b[0m\u001b[0mlinalg\u001b[0m\u001b[1;33m.\u001b[0m\u001b[0mmatrix_rank\u001b[0m\u001b[1;33m(\u001b[0m\u001b[0mexog\u001b[0m\u001b[1;33m)\u001b[0m \u001b[1;33m-\u001b[0m \u001b[1;36m1\u001b[0m\u001b[1;33m\u001b[0m\u001b[1;33m\u001b[0m\u001b[0m\n\u001b[0m\u001b[0;32m    956\u001b[0m     \u001b[0mlmpval\u001b[0m \u001b[1;33m=\u001b[0m \u001b[0mstats\u001b[0m\u001b[1;33m.\u001b[0m\u001b[0mchi2\u001b[0m\u001b[1;33m.\u001b[0m\u001b[0msf\u001b[0m\u001b[1;33m(\u001b[0m\u001b[0mlm\u001b[0m\u001b[1;33m,\u001b[0m \u001b[0mresols\u001b[0m\u001b[1;33m.\u001b[0m\u001b[0mdf_model\u001b[0m\u001b[1;33m)\u001b[0m\u001b[1;33m\u001b[0m\u001b[1;33m\u001b[0m\u001b[0m\n\u001b[0;32m    957\u001b[0m     \u001b[1;32mreturn\u001b[0m \u001b[0mlm\u001b[0m\u001b[1;33m,\u001b[0m \u001b[0mlmpval\u001b[0m\u001b[1;33m,\u001b[0m \u001b[0mfval\u001b[0m\u001b[1;33m,\u001b[0m \u001b[0mfpval\u001b[0m\u001b[1;33m\u001b[0m\u001b[1;33m\u001b[0m\u001b[0m\n",
      "\u001b[1;31mAssertionError\u001b[0m: "
     ]
    }
   ],
   "source": [
    "name = ['Lagrange multiplier static','p-value','f-value','f p-value']\n",
    "Whitetest=sms.het_white(reg.resid, reg.model.exog)\n",
    "lzip(name, Whitetest)"
   ]
  },
  {
   "cell_type": "code",
   "execution_count": 239,
   "metadata": {},
   "outputs": [
    {
     "name": "stdout",
     "output_type": "stream",
     "text": [
      "                                 OLS Regression Results                                \n",
      "=======================================================================================\n",
      "Dep. Variable:                  crime   R-squared (uncentered):                   0.890\n",
      "Model:                            OLS   Adj. R-squared (uncentered):              0.888\n",
      "Method:                 Least Squares   F-statistic:                              460.5\n",
      "Date:                Mon, 06 Jul 2020   Prob (F-statistic):                    1.28e-55\n",
      "Time:                        17:12:20   Log-Likelihood:                         -83.191\n",
      "No. Observations:                 117   AIC:                                      170.4\n",
      "Df Residuals:                     115   BIC:                                      175.9\n",
      "Df Model:                           2                                                  \n",
      "Covariance Type:                  HC0                                                  \n",
      "==============================================================================\n",
      "                 coef    std err          z      P>|z|      [0.025      0.975]\n",
      "------------------------------------------------------------------------------\n",
      "smoke          0.0530      0.002     23.554      0.000       0.049       0.057\n",
      "grdp           0.0355      0.011      3.092      0.002       0.013       0.058\n",
      "==============================================================================\n",
      "Omnibus:                        9.501   Durbin-Watson:                   2.174\n",
      "Prob(Omnibus):                  0.009   Jarque-Bera (JB):               16.742\n",
      "Skew:                           0.292   Prob(JB):                     0.000232\n",
      "Kurtosis:                       4.759   Cond. No.                         5.76\n",
      "==============================================================================\n",
      "\n",
      "Warnings:\n",
      "[1] Standard Errors are heteroscedasticity robust (HC0)\n"
     ]
    }
   ],
   "source": [
    "X2 = ['smoke','grdp']\n",
    "reg2 =sm.OLS((df2013['crime']),df2013[X2],missing='drop').fit(cov_type = 'HC0')\n",
    "print(reg2.summary())"
   ]
  },
  {
   "cell_type": "code",
   "execution_count": 226,
   "metadata": {},
   "outputs": [
    {
     "name": "stdout",
     "output_type": "stream",
     "text": [
      "            0         1\n",
      "0     LM-stat  0.273567\n",
      "1  LM:p-value  0.872159\n",
      "2     F-value  0.092350\n",
      "3   F:p-value  0.911856\n"
     ]
    }
   ],
   "source": [
    "name = ['LM-stat','LM:p-value','F-value','F:p-value']\n",
    "bg_t = sm_diagnostic.acorr_breusch_godfrey(reg1,nlags = 2)\n",
    "print(pd.DataFrame(lzip(name, bg_t)))"
   ]
  },
  {
   "cell_type": "code",
   "execution_count": 227,
   "metadata": {},
   "outputs": [
    {
     "name": "stdout",
     "output_type": "stream",
     "text": [
      "초기모델 :  <F test: F=array([[0.00751314]]), p=0.9310792393143762, df_denom=114, df_num=1>\n"
     ]
    }
   ],
   "source": [
    "print('초기모델 : ',oi.reset_ramsey(reg, degree=2))"
   ]
  },
  {
   "cell_type": "code",
   "execution_count": 240,
   "metadata": {},
   "outputs": [
    {
     "name": "stdout",
     "output_type": "stream",
     "text": [
      "                                 OLS Regression Results                                \n",
      "=======================================================================================\n",
      "Dep. Variable:                  crime   R-squared (uncentered):                   0.890\n",
      "Model:                            OLS   Adj. R-squared (uncentered):              0.888\n",
      "Method:                 Least Squares   F-statistic:                              536.3\n",
      "Date:                Mon, 06 Jul 2020   Prob (F-statistic):                    4.96e-59\n",
      "Time:                        17:12:21   Log-Likelihood:                         -83.191\n",
      "No. Observations:                 117   AIC:                                      170.4\n",
      "Df Residuals:                     115   BIC:                                      175.9\n",
      "Df Model:                           2                                                  \n",
      "Covariance Type:                  HAC                                                  \n",
      "==============================================================================\n",
      "                 coef    std err          z      P>|z|      [0.025      0.975]\n",
      "------------------------------------------------------------------------------\n",
      "smoke          0.0530      0.002     24.889      0.000       0.049       0.057\n",
      "grdp           0.0355      0.012      2.845      0.004       0.011       0.060\n",
      "==============================================================================\n",
      "Omnibus:                        9.501   Durbin-Watson:                   2.174\n",
      "Prob(Omnibus):                  0.009   Jarque-Bera (JB):               16.742\n",
      "Skew:                           0.292   Prob(JB):                     0.000232\n",
      "Kurtosis:                       4.759   Cond. No.                         5.76\n",
      "==============================================================================\n",
      "\n",
      "Warnings:\n",
      "[1] Standard Errors are heteroscedasticity and autocorrelation robust (HAC) using 1 lags and without small sample correction\n"
     ]
    }
   ],
   "source": [
    "reg3 = reg2.get_robustcov_results(cov_type = 'HAC',maxlags =1 )\n",
    "print(reg3.summary())"
   ]
  },
  {
   "cell_type": "code",
   "execution_count": null,
   "metadata": {},
   "outputs": [],
   "source": []
  }
 ],
 "metadata": {
  "kernelspec": {
   "display_name": "Python 3",
   "language": "python",
   "name": "python3"
  },
  "language_info": {
   "codemirror_mode": {
    "name": "ipython",
    "version": 3
   },
   "file_extension": ".py",
   "mimetype": "text/x-python",
   "name": "python",
   "nbconvert_exporter": "python",
   "pygments_lexer": "ipython3",
   "version": "3.7.6"
  }
 },
 "nbformat": 4,
 "nbformat_minor": 4
}
