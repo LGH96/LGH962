{
 "cells": [
  {
   "cell_type": "markdown",
   "id": "b946f3ed-8edc-4b91-a026-d073fd5e9650",
   "metadata": {},
   "source": [
    "# 한국거래소(KRX) 분봉데이터 수집(크롤링)\n",
    "## - 크롬드라이버 설치 : https://googlechromelabs.github.io/chrome-for-testing/"
   ]
  },
  {
   "cell_type": "code",
   "execution_count": 1,
   "id": "5adce77b-8288-42af-9cbe-129915b9a88c",
   "metadata": {},
   "outputs": [
    {
     "data": {
      "text/plain": [
       "'3.12.7 | packaged by Anaconda, Inc. | (main, Oct  4 2024, 13:17:27) [MSC v.1929 64 bit (AMD64)]'"
      ]
     },
     "execution_count": 1,
     "metadata": {},
     "output_type": "execute_result"
    }
   ],
   "source": [
    "import sys\n",
    "sys.version"
   ]
  },
  {
   "cell_type": "code",
   "execution_count": 2,
   "id": "89b7f577-d03c-4ba5-9839-f3ad36aab924",
   "metadata": {},
   "outputs": [],
   "source": [
    "import numpy as np\n",
    "import pandas as pd\n",
    "from urllib.parse import urljoin\n",
    "from urllib.parse import quote\n",
    "from bs4 import BeautifulSoup\n",
    "import requests as rq\n",
    "import os\n",
    "import csv\n",
    "import time\n",
    "from selenium import webdriver\n",
    "from urllib.parse import urlencode\n",
    "import ssl\n",
    "import datetime\n",
    "import sys\n",
    "import json\n",
    "import urllib\n",
    "from urllib.request import Request, urlopen\n",
    "import xmltodict\n",
    "import openpyxl\n",
    "import re\n",
    "from selenium.webdriver.support import expected_conditions as EC\n",
    "from urllib.request import urlretrieve\n",
    "from PIL import ImageGrab\n",
    "from PIL import Image\n",
    "from selenium.common.exceptions import WebDriverException\n",
    "from io import BytesIO\n",
    "from selenium.webdriver.common.alert import Alert\n",
    "import chardet\n",
    "from selenium import webdriver\n",
    "from selenium.webdriver.chrome.service import Service\n",
    "from selenium.webdriver.chrome.options import Options\n",
    "from selenium.webdriver.common.by import By\n",
    "from selenium.webdriver.common.keys import Keys\n",
    "from selenium.webdriver.common.action_chains import ActionChains"
   ]
  },
  {
   "cell_type": "markdown",
   "id": "39875822-fc20-47f2-8643-b561adcec2f9",
   "metadata": {},
   "source": [
    "# 9시 개장과 10시 개장인 경우를 나눠서 수집\n",
    "### 기본적인 원리는 동적 분봉 데이터 그래프에 마우스를 대면 나오는 가격데이터를 하나씩 가져오는 원리.\n",
    "### 컴퓨터 사양에 따라 time.sleep 조정을 시간 텀을 좀 두면서 해야함.\n",
    "### 2024년도 기준 1년간의 코스피 시총 5위 ~ 100위이며, 연도별 휴장일은 따로 데이터를 구해서 넣어줘야함. 직접 라벨링을 하거나 FnGuide를 이용하면 어렵지 않게 전처리 가능\n",
    "### 화면 해상도에 따라 좌표 파라미터가 달라질 수 있으니 유의. (해당 코드는 전체 해상도 1920*1080)\n",
    "### 수집 중에는 컴퓨터(특히 마우스)를 건드리지 않아야 함."
   ]
  },
  {
   "cell_type": "markdown",
   "id": "775e99a9-ac42-45dd-bdb7-131c56dcd864",
   "metadata": {},
   "source": [
    "## 9시 개장 기준 하루를 크롤링 하는데 2분 30초 가량 걸리며, 1년을 하는데 9시간 30분.\n",
    "## 즉, 한 종목을 1년 크롤링 하는데 9시간 30분 걸림"
   ]
  },
  {
   "cell_type": "markdown",
   "id": "f3ae3e3c-e90f-4af7-aedc-295cb15365e2",
   "metadata": {},
   "source": [
    "### *** 기타 정보 ***\n",
    "### 웹 페이지 해상도 {'height': 600, 'width': 1920}\n",
    "### 가장 왼쪽 그래프 X좌표 -876.5, 가장 오른쪽 그래프 X좌표 929\n",
    "### 소수점 단위까지 정확한 수치는 아니며 직접 테스팅을 통해 좌표 움직임을 미세하게 조정했음. 컴퓨터 해상도에 따라 Open_nine과 Open_ten 함수에 있는 actions.move_to_element(box).move_by_offset()안의 값을 미세하게 조정하면서 찾으면 됨"
   ]
  },
  {
   "cell_type": "markdown",
   "id": "68b1adf7-041b-41b9-8332-2c8cfa8b3849",
   "metadata": {},
   "source": [
    "# Q&A : egh962@naver.com, ghlee@kif.re.kr"
   ]
  },
  {
   "cell_type": "code",
   "execution_count": null,
   "id": "3d10cf49-8bf8-42c2-b8c6-646daa34ad4f",
   "metadata": {},
   "outputs": [],
   "source": []
  },
  {
   "cell_type": "markdown",
   "id": "607f5243-f64a-46b3-96b8-f73e7927f2a3",
   "metadata": {},
   "source": [
    "## 수집을 위한 간단한 함수 생성"
   ]
  },
  {
   "cell_type": "code",
   "execution_count": null,
   "id": "1b522fa2-f7bd-488e-ab05-9ed96e2c942f",
   "metadata": {},
   "outputs": [],
   "source": [
    "def box_input(date):\n",
    "    # 두 번째 날짜 박스 클릭\n",
    "    second_date_box = driver.find_element(By.XPATH, f'/html/body/div[3]/div[2]/div[1]/div/input[2]') # search XPATH\n",
    "    second_date_box.click()\n",
    "    time.sleep(0.2)\n",
    "    actions = ActionChains(driver)\n",
    "    actions.double_click(second_date_box).perform()\n",
    "    second_date_box.send_keys(Keys.BACKSPACE)\n",
    "    time.sleep(0.3)\n",
    "    second_date_box.send_keys(date) # 반드시 문자열로\n",
    "    time.sleep(0.3)\n",
    "    \n",
    "    # 첫 번재 날짜 박스 클릭\n",
    "    time.sleep(0.3)\n",
    "    first_date_box = driver.find_element(By.XPATH, f'/html/body/div[3]/div[2]/div[1]/div/input[1]') # search XPATH\n",
    "    first_date_box.click()\n",
    "    time.sleep(0.2)\n",
    "    actions = ActionChains(driver)\n",
    "    actions.double_click(first_date_box).perform()\n",
    "    first_date_box.send_keys(Keys.BACKSPACE)\n",
    "    time.sleep(0.3)\n",
    "    first_date_box.send_keys(date) # 반드시 문자열로\n",
    "    time.sleep(0.3)\n",
    "    \n",
    "\n",
    "def Open_nine(): # 9시 개장\n",
    "    data_basket  = []\n",
    "    for i in range(391):\n",
    "        actions.move_to_element(box).move_by_offset(-876.5+(i*(1802.5/389)), 100).perform() # 좌표 이동값\n",
    "        time.sleep(0.15)\n",
    "        price = driver.find_element(By.XPATH,\"/html/body/div[4]/div/div\").text # 시간 + 가격\n",
    "    #    tic = driver.find_element(By.XPATH,\"/html/body/div[4]/div/div/p[1]\").text # 시간\n",
    "        data_basket.append(price) # tic 점검\n",
    "        time.sleep(0.2)\n",
    "    return data_basket\n",
    "    \n",
    "def Open_ten(): # 10시 개장\n",
    "    data_basket  = []\n",
    "    for i in range(331):\n",
    "        actions.move_to_element(box).move_by_offset(-876.5+(i*(1806.5/330)), 100).perform() # 좌표 이동값\n",
    "        time.sleep(0.15)\n",
    "        price = driver.find_element(By.XPATH,\"/html/body/div[4]/div/div\").text # 시간 + 가격\n",
    "    #    tic = driver.find_element(By.XPATH,\"/html/body/div[4]/div/div/p[1]\").text # 시간\n",
    "        data_basket.append(price) # tic 점검\n",
    "        time.sleep(0.2)\n",
    "    return data_basket"
   ]
  },
  {
   "cell_type": "code",
   "execution_count": null,
   "id": "9f62b1da-6d54-4494-9780-50f51de94ce3",
   "metadata": {},
   "outputs": [],
   "source": [
    "form = pd.DataFrame({'ticker':[1],'date':[1], 'time':[1],'open':[1], 'high':[1],'low':[1],'close':[1],'volume':[1]})\n",
    "date = pd.read_excel('분봉용파라미터.xlsx',sheet_name = 'nom_date')\n",
    "ticker = pd.read_excel('분봉용파라미터.xlsx',sheet_name = 'ticker', dtype = object) \n",
    "\n",
    "for a in range(len(ticker)):\n",
    "    chromedriver_path = './chromedriver.exe'\n",
    "    service = Service(chromedriver_path)\n",
    "    service.start()\n",
    "    driver = webdriver.Chrome(service=service)\n",
    "    url = f'http://data.krx.co.kr/contents/MDC/MDI/mdiLoader/index.cmd?menuId=MDC0201020203'\n",
    "    driver.get(url)\n",
    "    time.sleep(2)\n",
    "    driver.maximize_window()\n",
    "    time.sleep(0.5)\n",
    "    \n",
    "    # 종목 검색\n",
    "    actions = ActionChains(driver)\n",
    "    tic_box = driver.find_element(By.XPATH,f'/html/body/div[2]/section[2]/section/section/div/div/div[1]/div[1]/form/div[1]/div/table/tbody/tr/td/div/div/p/input')\n",
    "    actions.double_click(tic_box).click(tic_box).perform() # 세번 클릭\n",
    "    time.sleep(0.5)\n",
    "    tic_box.send_keys(Keys.BACKSPACE)\n",
    "    time.sleep(0.5)\n",
    "    tic_box.send_keys(ticker['ticker'].iloc[a])\n",
    "    time.sleep(0.5)\n",
    "    driver.find_element(By.XPATH,f'/html/body/div[2]/section[2]/section/section/div/div/div[1]/div[1]/form/div[1]/div/table/tbody/tr/td/div/div/p/img').click()\n",
    "    time.sleep(5)\n",
    "    driver.find_element(By.XPATH,f'/html/body/div[2]/section[2]/section/section/div/div/div[1]/div[1]/form/div[1]/div/a').click() # 종목 조회 버튼 클릭\n",
    "    time.sleep(2)\n",
    "    \n",
    "    # 차트 조회\n",
    "    time.sleep(1)\n",
    "    driver.find_element(By.XPATH,f'/html/body/div[2]/section[2]/section/section/div/div/div[1]/div[1]/div[1]/dl[2]/dt/ul/span').click()\n",
    "    time.sleep(2)\n",
    "    driver.switch_to.window(driver.window_handles[1])\n",
    "    time.sleep(1)\n",
    "    driver.maximize_window()\n",
    "    time.sleep(1)\n",
    "    for b in range(len(date)):\n",
    "        # 날짜 입력 후 그래프 호출\n",
    "        box_input(str(date['date'].iloc[b]))\n",
    "        driver.find_element(By.XPATH,f'/html/body/div[3]/div[2]/div[2]/a').click()\n",
    "        time.sleep(2)\n",
    "        \n",
    "        # 개장시간 확인\n",
    "        box = driver.find_element(By.XPATH, '/html/body/div[4]')\n",
    "        actions.move_to_element(box).move_by_offset(-876.5, 100).perform() # Leftmost bar location\n",
    "        time.sleep(0.5)\n",
    "        checking = driver.find_element(By.XPATH,\"/html/body/div[4]/div/div/p[1]\").text\n",
    "        time.sleep(0.2)\n",
    "        \n",
    "        # 분봉 데이터 수집\n",
    "        if checking == '09시 00분': # 개장 시간에 따른 수집 로직 결정\n",
    "            daily_price =  Open_nine()\n",
    "        else:\n",
    "            daily_price =  Open_ten()\n",
    "        \n",
    "        # 분봉 데이터 데이터 프레임화\n",
    "        for z in range(len(daily_price)):\n",
    "            micro_daily_basket = daily_price[z].split('\\n')\n",
    "            price_form = pd.DataFrame({'ticker':ticker['ticker'].iloc[a],'date':[str(date['date'].iloc[b])], 'time':micro_daily_basket[0],\n",
    "                  'open':micro_daily_basket[1].split(\":\", 1)[1].strip(), 'high':micro_daily_basket[2].split(\":\", 1)[1].strip(),\n",
    "                                       'low':micro_daily_basket[3].split(\":\", 1)[1].strip(),'close':micro_daily_basket[4].split(\":\", 1)[1].strip(),\n",
    "                                       'volume':micro_daily_basket[5].split(\":\", 1)[1].strip()})\n",
    "            form = pd.concat([form,price_form]) # 데이터 붙이기 \n"
   ]
  },
  {
   "cell_type": "markdown",
   "id": "8e9db313-e86f-457f-b078-6ef65b5d1347",
   "metadata": {},
   "source": [
    "# form 이라는 데이터 프레임에 최종 결과값들이 저장되며, for문의 range 파라미터나 자기만의 데이터를 넣어 조정 가능"
   ]
  },
  {
   "cell_type": "code",
   "execution_count": null,
   "id": "5185f180-275a-4c7e-9799-155b9002ebcf",
   "metadata": {},
   "outputs": [],
   "source": [
    "form.to_excel('Minute_data.xlsx')"
   ]
  },
  {
   "cell_type": "code",
   "execution_count": null,
   "id": "7c800da0-b6fd-4bb1-b083-ea431b672410",
   "metadata": {},
   "outputs": [],
   "source": []
  },
  {
   "cell_type": "code",
   "execution_count": null,
   "id": "faffdb02-6a4c-471c-bdcc-1589732bd9ff",
   "metadata": {},
   "outputs": [],
   "source": []
  },
  {
   "cell_type": "code",
   "execution_count": null,
   "id": "f64678f0-eaa6-435a-bbc5-ab8d3f455526",
   "metadata": {},
   "outputs": [],
   "source": []
  }
 ],
 "metadata": {
  "kernelspec": {
   "display_name": "Python 3 (ipykernel)",
   "language": "python",
   "name": "python3"
  },
  "language_info": {
   "codemirror_mode": {
    "name": "ipython",
    "version": 3
   },
   "file_extension": ".py",
   "mimetype": "text/x-python",
   "name": "python",
   "nbconvert_exporter": "python",
   "pygments_lexer": "ipython3",
   "version": "3.12.7"
  }
 },
 "nbformat": 4,
 "nbformat_minor": 5
}
